{
 "cells": [
  {
   "cell_type": "code",
   "execution_count": 1,
   "metadata": {},
   "outputs": [],
   "source": [
    "import numpy as np\n",
    "import matplotlib\n",
    "import matplotlib.pyplot as plt\n",
    "import matplotlib.dates as mdates\n",
    "import os\n"
   ]
  },
  {
   "cell_type": "code",
   "execution_count": 2,
   "metadata": {},
   "outputs": [],
   "source": [
    "from pyswmm import Simulation, Subcatchments, Nodes"
   ]
  },
  {
   "cell_type": "code",
   "execution_count": 3,
   "metadata": {},
   "outputs": [],
   "source": [
    "SC1_buildup = np.array([])\n",
    "SC2_buildup = np.array([])\n",
    "SC3_buildup = np.array([])\n",
    "outfall_buildup = np.array([])\n",
    "time = np.array([])"
   ]
  },
  {
   "cell_type": "code",
   "execution_count": 4,
   "metadata": {},
   "outputs": [
    {
     "ename": "OSError",
     "evalue": "[WinError 193] %1 is not a valid Win32 application",
     "output_type": "error",
     "traceback": [
      "\u001b[1;31m---------------------------------------------------------------------------\u001b[0m",
      "\u001b[1;31mOSError\u001b[0m                                   Traceback (most recent call last)",
      "\u001b[1;32m<ipython-input-4-2d67b45ade63>\u001b[0m in \u001b[0;36m<module>\u001b[1;34m\u001b[0m\n\u001b[1;32m----> 1\u001b[1;33m \u001b[1;32mwith\u001b[0m \u001b[0mSimulation\u001b[0m\u001b[1;33m(\u001b[0m\u001b[1;34m'C:/Users/SSinnath/Research/Urban_Pesticide_Modeling/SWMM/swmm/pyswmm/buildup-test.inp'\u001b[0m\u001b[1;33m)\u001b[0m \u001b[1;32mas\u001b[0m \u001b[0msim\u001b[0m\u001b[1;33m:\u001b[0m\u001b[1;33m\u001b[0m\u001b[1;33m\u001b[0m\u001b[0m\n\u001b[0m\u001b[0;32m      2\u001b[0m \u001b[1;33m\u001b[0m\u001b[0m\n\u001b[0;32m      3\u001b[0m     \u001b[0msubcatch_object\u001b[0m \u001b[1;33m=\u001b[0m \u001b[0mSubcatchments\u001b[0m\u001b[1;33m(\u001b[0m\u001b[0msim\u001b[0m\u001b[1;33m)\u001b[0m\u001b[1;33m\u001b[0m\u001b[1;33m\u001b[0m\u001b[0m\n\u001b[0;32m      4\u001b[0m     \u001b[0mOut1\u001b[0m \u001b[1;33m=\u001b[0m \u001b[0mNodes\u001b[0m\u001b[1;33m(\u001b[0m\u001b[0msim\u001b[0m\u001b[1;33m)\u001b[0m\u001b[1;33m[\u001b[0m\u001b[1;34m\"Out1\"\u001b[0m\u001b[1;33m]\u001b[0m\u001b[1;33m\u001b[0m\u001b[1;33m\u001b[0m\u001b[0m\n\u001b[0;32m      5\u001b[0m \u001b[1;33m\u001b[0m\u001b[0m\n",
      "\u001b[1;32m~\\AppData\\Local\\Continuum\\anaconda3\\lib\\site-packages\\pyswmm\\simulation.py\u001b[0m in \u001b[0;36m__init__\u001b[1;34m(self, inputfile, reportfile, outputfile, swmm_lib_path)\u001b[0m\n\u001b[0;32m     66\u001b[0m                  \u001b[0moutputfile\u001b[0m\u001b[1;33m=\u001b[0m\u001b[1;32mNone\u001b[0m\u001b[1;33m,\u001b[0m\u001b[1;33m\u001b[0m\u001b[1;33m\u001b[0m\u001b[0m\n\u001b[0;32m     67\u001b[0m                  swmm_lib_path=None):\n\u001b[1;32m---> 68\u001b[1;33m         \u001b[0mself\u001b[0m\u001b[1;33m.\u001b[0m\u001b[0m_model\u001b[0m \u001b[1;33m=\u001b[0m \u001b[0mPySWMM\u001b[0m\u001b[1;33m(\u001b[0m\u001b[0minputfile\u001b[0m\u001b[1;33m,\u001b[0m \u001b[0mreportfile\u001b[0m\u001b[1;33m,\u001b[0m \u001b[0moutputfile\u001b[0m\u001b[1;33m,\u001b[0m \u001b[0mswmm_lib_path\u001b[0m\u001b[1;33m)\u001b[0m\u001b[1;33m\u001b[0m\u001b[1;33m\u001b[0m\u001b[0m\n\u001b[0m\u001b[0;32m     69\u001b[0m         \u001b[0mself\u001b[0m\u001b[1;33m.\u001b[0m\u001b[0m_model\u001b[0m\u001b[1;33m.\u001b[0m\u001b[0mswmm_open\u001b[0m\u001b[1;33m(\u001b[0m\u001b[1;33m)\u001b[0m\u001b[1;33m\u001b[0m\u001b[1;33m\u001b[0m\u001b[0m\n\u001b[0;32m     70\u001b[0m         \u001b[0mself\u001b[0m\u001b[1;33m.\u001b[0m\u001b[0m_isOpen\u001b[0m \u001b[1;33m=\u001b[0m \u001b[1;32mTrue\u001b[0m\u001b[1;33m\u001b[0m\u001b[1;33m\u001b[0m\u001b[0m\n",
      "\u001b[1;32m~\\AppData\\Local\\Continuum\\anaconda3\\lib\\site-packages\\pyswmm\\swmm5.py\u001b[0m in \u001b[0;36m__init__\u001b[1;34m(self, inpfile, rptfile, binfile, swmm_lib_path)\u001b[0m\n\u001b[0;32m    130\u001b[0m         \u001b[1;32mif\u001b[0m \u001b[0mos\u001b[0m\u001b[1;33m.\u001b[0m\u001b[0mname\u001b[0m \u001b[1;33m==\u001b[0m \u001b[1;34m'nt'\u001b[0m\u001b[1;33m:\u001b[0m\u001b[1;33m\u001b[0m\u001b[1;33m\u001b[0m\u001b[0m\n\u001b[0;32m    131\u001b[0m             \u001b[1;31m# Windows Support\u001b[0m\u001b[1;33m\u001b[0m\u001b[1;33m\u001b[0m\u001b[1;33m\u001b[0m\u001b[0m\n\u001b[1;32m--> 132\u001b[1;33m             \u001b[0mself\u001b[0m\u001b[1;33m.\u001b[0m\u001b[0mSWMMlibobj\u001b[0m \u001b[1;33m=\u001b[0m \u001b[0mctypes\u001b[0m\u001b[1;33m.\u001b[0m\u001b[0mWinDLL\u001b[0m\u001b[1;33m(\u001b[0m\u001b[0mswmm_lib_path\u001b[0m\u001b[1;33m)\u001b[0m\u001b[1;33m\u001b[0m\u001b[1;33m\u001b[0m\u001b[0m\n\u001b[0m\u001b[0;32m    133\u001b[0m \u001b[1;33m\u001b[0m\u001b[0m\n\u001b[0;32m    134\u001b[0m         \u001b[1;32mif\u001b[0m \u001b[0msys\u001b[0m\u001b[1;33m.\u001b[0m\u001b[0mplatform\u001b[0m \u001b[1;33m==\u001b[0m \u001b[1;34m'darwin'\u001b[0m\u001b[1;33m:\u001b[0m\u001b[1;33m\u001b[0m\u001b[1;33m\u001b[0m\u001b[0m\n",
      "\u001b[1;32m~\\AppData\\Local\\Continuum\\anaconda3\\lib\\ctypes\\__init__.py\u001b[0m in \u001b[0;36m__init__\u001b[1;34m(self, name, mode, handle, use_errno, use_last_error)\u001b[0m\n\u001b[0;32m    354\u001b[0m \u001b[1;33m\u001b[0m\u001b[0m\n\u001b[0;32m    355\u001b[0m         \u001b[1;32mif\u001b[0m \u001b[0mhandle\u001b[0m \u001b[1;32mis\u001b[0m \u001b[1;32mNone\u001b[0m\u001b[1;33m:\u001b[0m\u001b[1;33m\u001b[0m\u001b[1;33m\u001b[0m\u001b[0m\n\u001b[1;32m--> 356\u001b[1;33m             \u001b[0mself\u001b[0m\u001b[1;33m.\u001b[0m\u001b[0m_handle\u001b[0m \u001b[1;33m=\u001b[0m \u001b[0m_dlopen\u001b[0m\u001b[1;33m(\u001b[0m\u001b[0mself\u001b[0m\u001b[1;33m.\u001b[0m\u001b[0m_name\u001b[0m\u001b[1;33m,\u001b[0m \u001b[0mmode\u001b[0m\u001b[1;33m)\u001b[0m\u001b[1;33m\u001b[0m\u001b[1;33m\u001b[0m\u001b[0m\n\u001b[0m\u001b[0;32m    357\u001b[0m         \u001b[1;32melse\u001b[0m\u001b[1;33m:\u001b[0m\u001b[1;33m\u001b[0m\u001b[1;33m\u001b[0m\u001b[0m\n\u001b[0;32m    358\u001b[0m             \u001b[0mself\u001b[0m\u001b[1;33m.\u001b[0m\u001b[0m_handle\u001b[0m \u001b[1;33m=\u001b[0m \u001b[0mhandle\u001b[0m\u001b[1;33m\u001b[0m\u001b[1;33m\u001b[0m\u001b[0m\n",
      "\u001b[1;31mOSError\u001b[0m: [WinError 193] %1 is not a valid Win32 application"
     ]
    }
   ],
   "source": [
    "with Simulation('C:/Users/SSinnath/Research/Urban_Pesticide_Modeling/SWMM/swmm/pyswmm/buildup-test.inp') as sim:\n",
    "\n",
    "    subcatch_object = Subcatchments(sim)\n",
    "    Out1 = Nodes(sim)[\"Out1\"]\n",
    "    \n",
    "    SC1 = subcatch_object[\"S1\"]\n",
    "    SC2 = subcatch_object[\"S2\"]\n",
    "    SC3 = subcatch_object[\"S3\"]\n",
    "    print(SC1.area)\n",
    "    print(SC1.subcatchmentid)\n",
    "    \n",
    "    for step in sim:\n",
    "        SC1_buildup = np.append(SC1_buildup, SC1.statistics['pollutant_buildup']['test-pollutant']*SC1.area)\n",
    "        SC2_buildup = np.append(SC2_buildup, SC2.statistics['pollutant_buildup']['test-pollutant']*SC2.area)\n",
    "        SC3_buildup = np.append(SC3_buildup, SC3.statistics['pollutant_buildup']['test-pollutant']*SC3.area)\n",
    "        outfall_buildup = np.append(outfall_buildup, Out1.outfall_statistics['pollutant_loading']['test-pollutant'])\n",
    "        time = np.append(time, sim.current_time)\n",
    "        pass\n",
    "\n",
    "    print(Out1.outfall_statistics)\n",
    "    \n",
    "    #np.savetxt('SC1_buildup.out', SC1_buildup, fmt='%.6f', newline=os.linesep)\n",
    "    #np.savetxt('SC2_buildup.out', SC2_buildup, fmt='%.6f', newline=os.linesep)\n",
    "    #np.savetxt('SC3_buildup.out', SC3_buildup, fmt='%.6f', newline=os.linesep)\n",
    "    #np.savetxt('outfall_loading.out', outfall_buildup, fmt='%.6f', newline=os.linesep)\n",
    "    \n",
    "    f = plt.figure()\n",
    "    SC1, = plt.plot(time, SC1_buildup)\n",
    "    SC2, = plt.plot(time, SC2_buildup)\n",
    "    SC3, = plt.plot(time, SC3_buildup)\n",
    "    plt.legend([SC1, SC2, SC3], ['Subcatchment 1','Subcatchment 2','Subcatchment 3'])\n",
    "    plt.gcf().autofmt_xdate()\n",
    "    plt.title('Subcatchment Surface Contamination')\n",
    "    plt.xlabel('time')\n",
    "    plt.ylabel('hypothetical contaminant loading (CFU/ac)')\n",
    "    plt.savefig('sc_buildups.png', dpi=300)\n",
    "    plt.close(f)\n",
    "    \n",
    "    f = plt.figure(figsize=(7,3))\n",
    "    plt.plot(time, outfall_buildup)\n",
    "    plt.title('cumulative outfall contamination')\n",
    "    plt.ylabel('concentration (#/L)')\n",
    "    plt.xlabel('time')\n",
    "    plt.gcf().autofmt_xdate()\n",
    "    plt.tight_layout()\n",
    "    plt.savefig('outfall_loading.png', dpi=300)\n",
    "    plt.close(f)\n",
    "    \n",
    "    sim.report()"
   ]
  },
  {
   "cell_type": "code",
   "execution_count": null,
   "metadata": {},
   "outputs": [],
   "source": []
  }
 ],
 "metadata": {
  "kernelspec": {
   "display_name": "Python 3",
   "language": "python",
   "name": "python3"
  },
  "language_info": {
   "codemirror_mode": {
    "name": "ipython",
    "version": 3
   },
   "file_extension": ".py",
   "mimetype": "text/x-python",
   "name": "python",
   "nbconvert_exporter": "python",
   "pygments_lexer": "ipython3",
   "version": "3.7.3"
  }
 },
 "nbformat": 4,
 "nbformat_minor": 2
}
