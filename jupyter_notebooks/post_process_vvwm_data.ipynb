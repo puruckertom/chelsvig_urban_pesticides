{
 "cells": [
  {
   "cell_type": "code",
   "execution_count": 50,
   "metadata": {},
   "outputs": [
    {
     "name": "stdout",
     "output_type": "stream",
     "text": [
      "C:\\Users\\jstelman\\Git\\chelsvig_urban_pesticides\\observed_data\\SURF_water_placer_bifenthrin.csv\n"
     ]
    }
   ],
   "source": [
    "import pandas as pd\n",
    "import os\n",
    "\n",
    "os.chdir(\"C:/Users/jstelman/Git/chelsvig_urban_pesticides/src/\")\n",
    "from path_names import *\n",
    "\n",
    "obs_path = os.path.join(main_path, \"observed_data\", \"SURF_water_placer_bifenthrin.csv\")\n",
    "print(obs_path)\n",
    "\n",
    "outfalls = ['outfall_31_26', 'outfall_31_28', 'outfall_31_29', 'outfall_31_35', \n",
    "            'outfall_31_36', 'outfall_31_38', 'outfall_31_42']\n",
    "\n",
    "def output_path(of, i):\n",
    "    op_path = os.path.join(vvwm_path, of, (\"input_\" + str(i)), \"output_NPlesant_Custom_parent_daily.csv\")\n",
    "    return(op_path)"
   ]
  },
  {
   "cell_type": "code",
   "execution_count": 51,
   "metadata": {},
   "outputs": [
    {
     "data": {
      "text/html": [
       "<div>\n",
       "<style scoped>\n",
       "    .dataframe tbody tr th:only-of-type {\n",
       "        vertical-align: middle;\n",
       "    }\n",
       "\n",
       "    .dataframe tbody tr th {\n",
       "        vertical-align: top;\n",
       "    }\n",
       "\n",
       "    .dataframe thead th {\n",
       "        text-align: right;\n",
       "    }\n",
       "</style>\n",
       "<table border=\"1\" class=\"dataframe\">\n",
       "  <thead>\n",
       "    <tr style=\"text-align: right;\">\n",
       "      <th></th>\n",
       "      <th>Concentration..ppb.</th>\n",
       "      <th>Sample_date</th>\n",
       "      <th>Site_code</th>\n",
       "    </tr>\n",
       "  </thead>\n",
       "  <tbody>\n",
       "    <tr>\n",
       "      <th>0</th>\n",
       "      <td>0.00235</td>\n",
       "      <td>2015-06-08</td>\n",
       "      <td>31_26</td>\n",
       "    </tr>\n",
       "    <tr>\n",
       "      <th>1</th>\n",
       "      <td>0.00235</td>\n",
       "      <td>2010-06-24</td>\n",
       "      <td>31_44</td>\n",
       "    </tr>\n",
       "    <tr>\n",
       "      <th>2</th>\n",
       "      <td>0.00235</td>\n",
       "      <td>2009-05-06</td>\n",
       "      <td>31_44</td>\n",
       "    </tr>\n",
       "    <tr>\n",
       "      <th>3</th>\n",
       "      <td>0.00235</td>\n",
       "      <td>2010-09-03</td>\n",
       "      <td>31_44</td>\n",
       "    </tr>\n",
       "    <tr>\n",
       "      <th>4</th>\n",
       "      <td>0.00035</td>\n",
       "      <td>2016-10-14</td>\n",
       "      <td>31_26</td>\n",
       "    </tr>\n",
       "  </tbody>\n",
       "</table>\n",
       "</div>"
      ],
      "text/plain": [
       "   Concentration..ppb. Sample_date Site_code\n",
       "0              0.00235  2015-06-08     31_26\n",
       "1              0.00235  2010-06-24     31_44\n",
       "2              0.00235  2009-05-06     31_44\n",
       "3              0.00235  2010-09-03     31_44\n",
       "4              0.00035  2016-10-14     31_26"
      ]
     },
     "execution_count": 51,
     "metadata": {},
     "output_type": "execute_result"
    }
   ],
   "source": [
    "obs_data = pd.read_csv(obs_path, usecols=[\"Concentration..ppb.\",\"Level_of_quantification..ppb.\",\n",
    "                                         \"Method_detection_level..ppb.\", \"Sample_date\", \"Site_code\"],\n",
    "                      parse_dates=[\"Sample_date\"])\n",
    "\n",
    "for idx, row in obs_data[obs_data['Concentration..ppb.']==0].iterrows():\n",
    "    obs_data.loc[idx,'Concentration..ppb.'] = min([row['Level_of_quantification..ppb.'],\n",
    "                                                   row['Method_detection_level..ppb.']])/2\n",
    "\n",
    "obs_data = obs_data.drop(labels = [\"Level_of_quantification..ppb.\",\"Method_detection_level..ppb.\"], axis = 1)\n",
    "obs_data.head()"
   ]
  },
  {
   "cell_type": "code",
   "execution_count": 52,
   "metadata": {},
   "outputs": [
    {
     "data": {
      "text/html": [
       "<div>\n",
       "<style scoped>\n",
       "    .dataframe tbody tr th:only-of-type {\n",
       "        vertical-align: middle;\n",
       "    }\n",
       "\n",
       "    .dataframe tbody tr th {\n",
       "        vertical-align: top;\n",
       "    }\n",
       "\n",
       "    .dataframe thead th {\n",
       "        text-align: right;\n",
       "    }\n",
       "</style>\n",
       "<table border=\"1\" class=\"dataframe\">\n",
       "  <thead>\n",
       "    <tr style=\"text-align: right;\">\n",
       "      <th></th>\n",
       "      <th>davg_bif_conc</th>\n",
       "      <th>Sample_date</th>\n",
       "      <th>Site_code</th>\n",
       "    </tr>\n",
       "  </thead>\n",
       "  <tbody>\n",
       "    <tr>\n",
       "      <th>0</th>\n",
       "      <td>0.0</td>\n",
       "      <td>2009-01-01</td>\n",
       "      <td>31_26</td>\n",
       "    </tr>\n",
       "    <tr>\n",
       "      <th>1</th>\n",
       "      <td>0.0</td>\n",
       "      <td>2009-01-02</td>\n",
       "      <td>31_26</td>\n",
       "    </tr>\n",
       "    <tr>\n",
       "      <th>2</th>\n",
       "      <td>0.0</td>\n",
       "      <td>2009-01-03</td>\n",
       "      <td>31_26</td>\n",
       "    </tr>\n",
       "    <tr>\n",
       "      <th>3</th>\n",
       "      <td>0.0</td>\n",
       "      <td>2009-01-04</td>\n",
       "      <td>31_26</td>\n",
       "    </tr>\n",
       "    <tr>\n",
       "      <th>4</th>\n",
       "      <td>0.0</td>\n",
       "      <td>2009-01-05</td>\n",
       "      <td>31_26</td>\n",
       "    </tr>\n",
       "  </tbody>\n",
       "</table>\n",
       "</div>"
      ],
      "text/plain": [
       "   davg_bif_conc Sample_date Site_code\n",
       "0            0.0  2009-01-01     31_26\n",
       "1            0.0  2009-01-02     31_26\n",
       "2            0.0  2009-01-03     31_26\n",
       "3            0.0  2009-01-04     31_26\n",
       "4            0.0  2009-01-05     31_26"
      ]
     },
     "execution_count": 52,
     "metadata": {},
     "output_type": "execute_result"
    }
   ],
   "source": [
    "sim1_of26_data = pd.read_csv(output_path(\"outfall_31_26\", 1), usecols = [1], skiprows=5, names = [\"davg_bif_conc\"])*1000000\n",
    "sim1_of26_data['Sample_date'] = pd.date_range(start='1/1/2009', periods=3287, freq='D')\n",
    "sim1_of26_data['Site_code'] = '31_26'\n",
    "sim1_of26_data.head()"
   ]
  },
  {
   "cell_type": "code",
   "execution_count": 53,
   "metadata": {},
   "outputs": [],
   "source": [
    "comp_data_ip1 = sim1_of26_data.merge(obs_data, how = \"inner\", on = ['Sample_date','Site_code'])"
   ]
  },
  {
   "cell_type": "code",
   "execution_count": 54,
   "metadata": {},
   "outputs": [],
   "source": [
    "for of in outfalls[1:]:\n",
    "    dat = pd.read_csv(output_path(of, 1), usecols = [1], skiprows=5, names = [\"davg_bif_conc\"])*1000000\n",
    "    dat['Sample_date'] = pd.date_range(start='1/1/2009', periods=3287, freq='D')\n",
    "    dat['Site_code'] = of[-5:]\n",
    "    comp_data_ip1 = comp_data_ip1.append(dat.merge(obs_data, how = \"inner\", on = ['Sample_date','Site_code']), ignore_index=True)"
   ]
  },
  {
   "cell_type": "code",
   "execution_count": 55,
   "metadata": {},
   "outputs": [
    {
     "data": {
      "text/html": [
       "<div>\n",
       "<style scoped>\n",
       "    .dataframe tbody tr th:only-of-type {\n",
       "        vertical-align: middle;\n",
       "    }\n",
       "\n",
       "    .dataframe tbody tr th {\n",
       "        vertical-align: top;\n",
       "    }\n",
       "\n",
       "    .dataframe thead th {\n",
       "        text-align: right;\n",
       "    }\n",
       "</style>\n",
       "<table border=\"1\" class=\"dataframe\">\n",
       "  <thead>\n",
       "    <tr style=\"text-align: right;\">\n",
       "      <th></th>\n",
       "      <th>davg_bif_conc</th>\n",
       "      <th>Sample_date</th>\n",
       "      <th>Site_code</th>\n",
       "      <th>Concentration..ppb.</th>\n",
       "    </tr>\n",
       "  </thead>\n",
       "  <tbody>\n",
       "    <tr>\n",
       "      <th>0</th>\n",
       "      <td>1.744700e+07</td>\n",
       "      <td>2009-02-13</td>\n",
       "      <td>31_26</td>\n",
       "      <td>0.017000</td>\n",
       "    </tr>\n",
       "    <tr>\n",
       "      <th>1</th>\n",
       "      <td>8.595200e+07</td>\n",
       "      <td>2009-04-08</td>\n",
       "      <td>31_26</td>\n",
       "      <td>0.007740</td>\n",
       "    </tr>\n",
       "    <tr>\n",
       "      <th>2</th>\n",
       "      <td>7.793400e+09</td>\n",
       "      <td>2009-04-13</td>\n",
       "      <td>31_26</td>\n",
       "      <td>0.000880</td>\n",
       "    </tr>\n",
       "    <tr>\n",
       "      <th>3</th>\n",
       "      <td>1.738700e+11</td>\n",
       "      <td>2009-05-01</td>\n",
       "      <td>31_26</td>\n",
       "      <td>0.008800</td>\n",
       "    </tr>\n",
       "    <tr>\n",
       "      <th>4</th>\n",
       "      <td>1.026300e+10</td>\n",
       "      <td>2009-08-28</td>\n",
       "      <td>31_26</td>\n",
       "      <td>0.000880</td>\n",
       "    </tr>\n",
       "    <tr>\n",
       "      <th>...</th>\n",
       "      <td>...</td>\n",
       "      <td>...</td>\n",
       "      <td>...</td>\n",
       "      <td>...</td>\n",
       "    </tr>\n",
       "    <tr>\n",
       "      <th>101</th>\n",
       "      <td>1.385500e+10</td>\n",
       "      <td>2010-07-19</td>\n",
       "      <td>31_42</td>\n",
       "      <td>0.000880</td>\n",
       "    </tr>\n",
       "    <tr>\n",
       "      <th>102</th>\n",
       "      <td>5.664500e+07</td>\n",
       "      <td>2010-10-24</td>\n",
       "      <td>31_42</td>\n",
       "      <td>0.000880</td>\n",
       "    </tr>\n",
       "    <tr>\n",
       "      <th>103</th>\n",
       "      <td>7.886300e+10</td>\n",
       "      <td>2011-02-16</td>\n",
       "      <td>31_42</td>\n",
       "      <td>0.000880</td>\n",
       "    </tr>\n",
       "    <tr>\n",
       "      <th>104</th>\n",
       "      <td>6.527900e+10</td>\n",
       "      <td>2011-05-15</td>\n",
       "      <td>31_42</td>\n",
       "      <td>0.000455</td>\n",
       "    </tr>\n",
       "    <tr>\n",
       "      <th>105</th>\n",
       "      <td>3.182000e+10</td>\n",
       "      <td>2011-06-27</td>\n",
       "      <td>31_42</td>\n",
       "      <td>0.000455</td>\n",
       "    </tr>\n",
       "  </tbody>\n",
       "</table>\n",
       "<p>106 rows × 4 columns</p>\n",
       "</div>"
      ],
      "text/plain": [
       "     davg_bif_conc Sample_date Site_code  Concentration..ppb.\n",
       "0     1.744700e+07  2009-02-13     31_26             0.017000\n",
       "1     8.595200e+07  2009-04-08     31_26             0.007740\n",
       "2     7.793400e+09  2009-04-13     31_26             0.000880\n",
       "3     1.738700e+11  2009-05-01     31_26             0.008800\n",
       "4     1.026300e+10  2009-08-28     31_26             0.000880\n",
       "..             ...         ...       ...                  ...\n",
       "101   1.385500e+10  2010-07-19     31_42             0.000880\n",
       "102   5.664500e+07  2010-10-24     31_42             0.000880\n",
       "103   7.886300e+10  2011-02-16     31_42             0.000880\n",
       "104   6.527900e+10  2011-05-15     31_42             0.000455\n",
       "105   3.182000e+10  2011-06-27     31_42             0.000455\n",
       "\n",
       "[106 rows x 4 columns]"
      ]
     },
     "execution_count": 55,
     "metadata": {},
     "output_type": "execute_result"
    }
   ],
   "source": [
    "comp_data_ip1"
   ]
  },
  {
   "cell_type": "code",
   "execution_count": 56,
   "metadata": {},
   "outputs": [],
   "source": [
    "import hydroeval"
   ]
  },
  {
   "cell_type": "code",
   "execution_count": 68,
   "metadata": {},
   "outputs": [],
   "source": [
    "NSE1 = 1 - ((sum(comp_data_ip1['davg_bif_conc'] - comp_data_ip1['Concentration..ppb.'])**2)/\n",
    "            (sum(comp_data_ip1['Concentration..ppb.'] - \n",
    "                 sum(comp_data_ip1['Concentration..ppb.'])/len(comp_data_ip1['Concentration..ppb.']))**2))"
   ]
  },
  {
   "cell_type": "code",
   "execution_count": 69,
   "metadata": {},
   "outputs": [
    {
     "data": {
      "text/plain": [
       "-4.060104162103298e+55"
      ]
     },
     "execution_count": 69,
     "metadata": {},
     "output_type": "execute_result"
    }
   ],
   "source": [
    "NSE1"
   ]
  }
 ],
 "metadata": {
  "kernelspec": {
   "display_name": "Python 3",
   "language": "python",
   "name": "python3"
  },
  "language_info": {
   "codemirror_mode": {
    "name": "ipython",
    "version": 3
   },
   "file_extension": ".py",
   "mimetype": "text/x-python",
   "name": "python",
   "nbconvert_exporter": "python",
   "pygments_lexer": "ipython3",
   "version": "3.8.3"
  }
 },
 "nbformat": 4,
 "nbformat_minor": 4
}
