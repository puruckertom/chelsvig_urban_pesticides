{
 "cells": [
  {
   "cell_type": "code",
   "execution_count": null,
   "metadata": {},
   "outputs": [],
   "source": [
    "\n",
    "# specify locations\n",
    "dir_path = r'C:\\Users\\echelsvi\\git\\chelsvig_urban_pesticides\\probabilistic_python'\n",
    "\n",
    "# setup\n",
    "import pytest_shutil, shutil, os, pandas as pd, regex as re\n",
    "import swmmtoolbox.swmmtoolbox as swmmtoolbox\n",
    "\n",
    "#from swmmtoolbox.Module2 import Module2\n",
    "\n",
    "swmm_path = dir_path + r'\\input\\swmm'\n",
    "print(swmm_path)\n",
    "bin_file = swmm_path + r'\\NPlesantCreek.out'\n",
    "print(bin_file)\n",
    "inp_file = swmm_path + r'\\NPlesantCreek.inp'\n",
    "print(inp_file)\n",
    "vvwm_path = dir_path + r'\\input\\vvwm'\n",
    "print(vvwm_path)\n",
    "\n",
    "outfalls = ['\\outfall_31_26', '\\outfall_31_28', '\\outfall_31_29', '\\outfall_31_35',\n",
    "            '\\outfall_31_36', '\\outfall_31_38', '\\outfall_31_42',]"
   ]
  }
 ],
 "metadata": {
  "kernelspec": {
   "display_name": "Python 3",
   "language": "python",
   "name": "python3"
  },
  "language_info": {
   "codemirror_mode": {
    "name": "ipython",
    "version": 3
   },
   "file_extension": ".py",
   "mimetype": "text/x-python",
   "name": "python",
   "nbconvert_exporter": "python",
   "pygments_lexer": "ipython3",
   "version": "3.8.2"
  }
 },
 "nbformat": 4,
 "nbformat_minor": 4
}
