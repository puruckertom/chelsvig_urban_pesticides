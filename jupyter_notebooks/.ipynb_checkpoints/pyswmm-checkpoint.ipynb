{
 "cells": [
  {
   "cell_type": "code",
   "execution_count": 32,
   "metadata": {
    "scrolled": true
   },
   "outputs": [
    {
     "name": "stdout",
     "output_type": "stream",
     "text": [
      "Done\n"
     ]
    }
   ],
   "source": [
    "# ------------------------------------------------------------------\n",
    "# Latin Hypercube sampling of parameters for SWMM\n",
    "# ------------------------------------------------------------------\n",
    "\n",
    "\n",
    "# specify locations\n",
    "dir_path = r'C:\\Users\\echelsvi\\git\\chelsvig_urban_pesticides\\probabilistic_python'\n",
    "\n",
    "\n",
    "# setup\n",
    "import pandas as pd, os, numpy as np\n",
    "from datetime import date\n",
    "import matplotlib.pyplot as plt\n",
    "\n",
    "swmm_path = dir_path + r'\\input\\swmm'\n",
    "vvwm_path = dir_path + r'\\input\\vvwm'\n",
    "\n",
    "outfalls = ['\\outfall_31_26', '\\outfall_31_28', '\\outfall_31_29', '\\outfall_31_35',\n",
    "            '\\outfall_31_36', '\\outfall_31_38', '\\outfall_31_42',]\n",
    "\n",
    "nsims = 5\n",
    "\n",
    "print(\"Done\")"
   ]
  },
  {
   "cell_type": "code",
   "execution_count": 33,
   "metadata": {},
   "outputs": [
    {
     "name": "stdout",
     "output_type": "stream",
     "text": [
      "3287\n",
      "7\n",
      "(3287, 7, 5)\n",
      "3287\n",
      "4\n",
      "(3287, 4, 5)\n"
     ]
    }
   ],
   "source": [
    "nsims = 5\n",
    "\n",
    "# swmm output time series file (vvwm input .zts)\n",
    "df_swmm = pd.read_table(vvwm_path+r'\\outfall_31_26\\input_1\\output.zts', header=None, sep=\",\", skiprows=3)\n",
    "\n",
    "# obtain structural dimensions\n",
    "nrows_swmm = len(df_swmm)\n",
    "print(nrows_swmm) #3287\n",
    "ncols_swmm = len(df_swmm.columns)\n",
    "print(ncols_swmm) #7\n",
    "\n",
    "# create blank array with these dim\n",
    "array_swmm = np.empty((nrows_swmm, ncols_swmm, nsims))\n",
    "print(array_swmm.shape) #3287, 7, 5\n",
    "\n",
    "# vvwm output time series file (vvwm .csv)\n",
    "df_vvwm = pd.read_table(vvwm_path+r'\\outfall_31_26\\input_1\\output_NPlesant_Custom_parent_daily.csv', \n",
    "                        header=None, sep=\",\", skiprows=5)\n",
    "# obtain structural dimensions\n",
    "nrows_vvwm = len(df_vvwm)\n",
    "print(nrows_vvwm) #3287\n",
    "ncols_vvwm = len(df_vvwm.columns)\n",
    "print(ncols_vvwm) #4\n",
    "\n",
    "# create blank array with these dim\n",
    "array_vvwm = np.empty((nrows_vvwm, ncols_vvwm, nsims))\n",
    "print(array_vvwm.shape) #3287, 4, 5\n",
    "\n",
    "\n"
   ]
  },
  {
   "cell_type": "code",
   "execution_count": 37,
   "metadata": {},
   "outputs": [],
   "source": [
    "# loop\n",
    "for o in outfalls:\n",
    "    # set pathways\n",
    "    outfall_path = vvwm_path + o\n",
    "    for Ite in range(1, nsims + 1):\n",
    "        folder = r'\\input_' + str(Ite)\n",
    "        input_folder = outfall_path + folder\n",
    "\n",
    "        # swmm output time series file (vvwm input .zts)\n",
    "        swmm_df = pd.read_table(input_folder + r'\\output.zts', header=None, sep=\",\", skiprows=3,\n",
    "                                names=['year', 'month', 'day', 'runf_cmha', 'solids', 'runf_bif_gha', 'eros_bif_gha'])\n",
    "        array_swmm[0:nrows_swmm, 0:ncols_swmm, Ite - 1] = swmm_df\n",
    "\n",
    "        # vvwm output time series file (vvwm .csv)\n",
    "        vvwm_df = pandas.read_table(input_folder + r'\\output_NPlesant_Custom_parent_daily.csv', header=None, sep=\",\",\n",
    "                                    skiprows=5, names=['depth', 'conc_h20', 'conc_benth', 'conc_peak'])\n",
    "        array_vvwm[0:nrows_vvwm, 0:ncols_vvwm, Ite - 1] = vvwm_df\n",
    "\n",
    "    # subset desired output variables (#shape = days*nsims)\n",
    "    conc_runf = array_swmm[:, 3, :]\n",
    "    np.savetxt(outfall_path + r'\\prob_runf.txt', conc_runf, delimiter=',')\n",
    "\n",
    "    conc_h20 = array_vvwm[:, 1, :] #bifenthrin concentration in water column kg/m3\n",
    "    conc_h20 = conc_h20 * 1000000 #ug/L\n",
    "    np.savetxt(outfall_path + r'\\prob_conc_h20.txt', conc_h20, delimiter=',')\n",
    "\n",
    "    conc_benth = array_vvwm[:, 2, :] #bifenthrin concentration in benthic zone kg/m3\n",
    "    conc_benth = conc_benth * 1000000 #ug/L\n",
    "    np.savetxt(outfall_path + r'\\prob_conc_benth.txt', conc_benth, delimiter=',')\n",
    "\n",
    "    "
   ]
  },
  {
   "cell_type": "code",
   "execution_count": null,
   "metadata": {},
   "outputs": [],
   "source": []
  }
 ],
 "metadata": {
  "kernelspec": {
   "display_name": "Python 3",
   "language": "python",
   "name": "python3"
  },
  "language_info": {
   "codemirror_mode": {
    "name": "ipython",
    "version": 3
   },
   "file_extension": ".py",
   "mimetype": "text/x-python",
   "name": "python",
   "nbconvert_exporter": "python",
   "pygments_lexer": "ipython3",
   "version": "3.8.2"
  }
 },
 "nbformat": 4,
 "nbformat_minor": 4
}
