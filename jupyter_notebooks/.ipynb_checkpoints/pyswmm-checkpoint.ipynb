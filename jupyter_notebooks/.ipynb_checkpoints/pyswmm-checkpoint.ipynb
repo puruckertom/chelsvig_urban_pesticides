{
 "cells": [
  {
   "cell_type": "code",
   "execution_count": 4,
   "metadata": {
    "scrolled": true
   },
   "outputs": [
    {
     "name": "stdout",
     "output_type": "stream",
     "text": [
      "C:\\Users\\echelsvi\\git\\chelsvig_urban_pesticides\\probabilistic_python\\input\\vvwm\n",
      "   Unnamed: 0       kd  aer_aq  aer_aq_temp  anae_aq  anae_aq_temp   photo  \\\n",
      "0           0  1827.59   353.0        22.66    277.0         23.39  345.82   \n",
      "1           1  4346.95   311.0        21.65     93.0         21.14  154.89   \n",
      "2           2  2726.74   162.0        24.63    365.0         22.80  199.76   \n",
      "3           3  4893.71   269.0        20.79    439.0         22.69  161.26   \n",
      "4           4  3805.97   309.0        22.35    424.0         24.46  326.79   \n",
      "\n",
      "   rflat   hydro     sol  benthic_depth  porosity  bulk_density  froc2   doc2  \\\n",
      "0   40.0   83.77  0.1518          0.547      0.37          1.57  0.016  41.28   \n",
      "1   40.0  162.83  0.6696          0.359      0.13          1.31  0.025  27.33   \n",
      "2   40.0  310.43  0.2121          0.390      0.67          0.86  0.011  24.13   \n",
      "3   40.0  208.64  0.6876          0.761      0.64          1.61  0.012   5.61   \n",
      "4   40.0  362.68  0.6555          0.647      0.35          1.45  0.014  55.93   \n",
      "\n",
      "   bnmas   sused    chl  froc1  doc1  \n",
      "0  4.311  25.754  0.567  0.133  0.45  \n",
      "1  1.515  59.964  0.719  0.026  0.64  \n",
      "2  0.056  74.841  0.854  0.045  0.39  \n",
      "3  4.952  72.870  1.256  0.139  0.19  \n",
      "4  3.217  32.479  1.365  0.128  0.91  \n"
     ]
    }
   ],
   "source": [
    "# ------------------------------------------------------------------------------------------\n",
    "# read swmm .rpt output file, and store desired outputs\n",
    "# ------------------------------------------------------------------------------------------\n",
    "\n",
    "# setup\n",
    "import pandas, os, glob, shutil, subprocess, sys\n",
    "from subprocess import Popen, PIPE\n",
    "\n",
    "# specify locations\n",
    "dir_path = r'C:\\Users\\echelsvi\\git\\chelsvig_urban_pesticides\\probabilistic_python'\n",
    "\n",
    "\n",
    "vvwm_path = dir_path + r'\\input\\vvwm'\n",
    "print(vvwm_path)\n",
    "\n",
    "outfalls = ['\\outfall_31_26', '\\outfall_31_28', '\\outfall_31_29', '\\outfall_31_35',\n",
    "            '\\outfall_31_36', '\\outfall_31_38', '\\outfall_31_42',]\n",
    "\n",
    "# nsims\n",
    "nsims = 5\n",
    "\n",
    "# read in lhs_sampled_params\n",
    "lhs_design = pandas.read_csv(dir_path+r'\\io\\lhs_sampled_params_vvwm.csv')\n",
    "\n",
    "# round lhs decimals\n",
    "lhs_design = lhs_design.round(\n",
    "    {\"kd\": 2, \"aer_aq\": 0, \"aer_aq_temp\": 2, \"anae_aq\": 0, \"anae_aq_temp\": 2, \"photo\": 2, \"rflat\": 0, \"hydro\": 2, \"sol\": 4,\n",
    "     \"benthic_depth\": 3, \"2\": 3, \"porosity\": 2, \"bulk_density\": 2, \"froc2\": 3, \"doc2\": 2, \"bnmas\": 3, \"sused\": 3, \"chl\": 3,\n",
    "     \"froc1\": 3, \"doc1\": 2})\n",
    "print(lhs_design.head())\n",
    "\n",
    "\n",
    "\n",
    "\n",
    "outfalls = r'\\outfall_31_26'\n",
    "\n",
    "Ite = 1"
   ]
  },
  {
   "cell_type": "code",
   "execution_count": 7,
   "metadata": {},
   "outputs": [
    {
     "name": "stdout",
     "output_type": "stream",
     "text": [
      "Folder  1 already exists\n",
      "C:\\Users\\echelsvi\\git\\chelsvig_urban_pesticides\\probabilistic_python\\input\\vvwm\\vvwmTransfer.txt\n",
      "C:\\Users\\echelsvi\\git\\chelsvig_urban_pesticides\\probabilistic_python\\input\\vvwm\\outfall_31_26\\input_1\\vvwmTransfer.txt\n",
      "1827.59\n",
      "3570,,,\n",
      "\n"
     ]
    }
   ],
   "source": [
    "# set pathways\n",
    "outfall_path = vvwm_path + outfalls\n",
    "\n",
    "# create new input folder for sim\n",
    "newfol = r'\\input_' + str(Ite)\n",
    "newdir = outfall_path + newfol\n",
    "if not os.path.exists(newdir):\n",
    "    os.mkdir(newdir)\n",
    "    print(\"Folder \", Ite, \" created\", \"\\n\")\n",
    "else:\n",
    "    print(\"Folder \", Ite, \"already exists\")\n",
    "os.getcwd()\n",
    "os.chdir(newdir)\n",
    "\n",
    "# copy base file into new file location\n",
    "old_file = vvwm_path + r'\\vvwmTransfer.txt'\n",
    "print(old_file)\n",
    "new_file = newdir + r'\\vvwmTransfer.txt'\n",
    "print(new_file)\n",
    "shutil.copyfile(old_file, new_file)\n",
    "\n",
    "# start reading the new file\n",
    "new = open(new_file, \"r\")\n",
    "filelines = new.readlines()\n",
    "\n",
    "    \n",
    "\n",
    "        # edit the new file\n",
    "# ---------------------------\n",
    "# parameter = kd\n",
    "# ---------------------------\n",
    "\n",
    "row_0 = 4\n",
    "kd = lhs_design.loc[Ite - 1, \"kd\"]\n",
    "print(kd)\n",
    "oldline = filelines[row_0]\n",
    "print(oldline)\n",
    "\n",
    "  "
   ]
  },
  {
   "cell_type": "code",
   "execution_count": 11,
   "metadata": {},
   "outputs": [
    {
     "name": "stdout",
     "output_type": "stream",
     "text": [
      "3570,,,\n",
      "['3570,,,']\n"
     ]
    }
   ],
   "source": [
    "newline = oldline.replace('foo', 'bar')\n"
   ]
  },
  {
   "cell_type": "code",
   "execution_count": null,
   "metadata": {},
   "outputs": [],
   "source": [
    "oldline = kd + \"\\n\"\n",
    "\n",
    "listline[1] = str(kd)\n",
    "listTOstring = ' '.join([str(item) for item in listline])\n",
    "\n",
    "newline = listTOstring + \"\\n\"\n",
    "filelines[row_0] = newline"
   ]
  }
 ],
 "metadata": {
  "kernelspec": {
   "display_name": "Python 3",
   "language": "python",
   "name": "python3"
  },
  "language_info": {
   "codemirror_mode": {
    "name": "ipython",
    "version": 3
   },
   "file_extension": ".py",
   "mimetype": "text/x-python",
   "name": "python",
   "nbconvert_exporter": "python",
   "pygments_lexer": "ipython3",
   "version": "3.8.2"
  }
 },
 "nbformat": 4,
 "nbformat_minor": 4
}
