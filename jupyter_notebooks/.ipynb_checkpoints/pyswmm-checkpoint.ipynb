{
 "cells": [
  {
   "cell_type": "code",
   "execution_count": null,
   "metadata": {},
   "outputs": [],
   "source": [
    "# setup\n",
    "from pyswmm import Simulation\n",
    "import os\n",
    "\n",
    "# nsims\n",
    "nsims = 5\n",
    "\n",
    "for i in range(1,nsims+1):\n",
    "    simfolder = 'C:/Users/echelsvi/git/chelsvig_urban_pesticides/probabilistic_python/input/swmm/input_' + str(i)\n",
    "    sim = Simulation('C:/Users/echelsvi/git/chelsvig_urban_pesticides/probabilistic_python/input/swmm/NPlesantCreek.inp')"
   ]
  },
  {
   "cell_type": "code",
   "execution_count": 13,
   "metadata": {},
   "outputs": [
    {
     "name": "stdout",
     "output_type": "stream",
     "text": [
      "C:\\Users\\echelsvi\\git\\chelsvig_urban_pesticides\\probabilistic_python\\input\\swmm\\input_1\n",
      "True\n",
      "C:\\Users\\echelsvi\\git\\chelsvig_urban_pesticides\\probabilistic_python\\input\\swmm\\input_1\\NPlesantCreek.inp\n"
     ]
    },
    {
     "ename": "SWMMException",
     "evalue": "\n  ERROR 200: one or more errors in input file.",
     "output_type": "error",
     "traceback": [
      "\u001b[1;31m---------------------------------------------------------------------------\u001b[0m",
      "\u001b[1;31mSWMMException\u001b[0m                             Traceback (most recent call last)",
      "\u001b[1;32m<ipython-input-13-886b8445c9aa>\u001b[0m in \u001b[0;36m<module>\u001b[1;34m\u001b[0m\n\u001b[0;32m     10\u001b[0m \u001b[0mprint\u001b[0m\u001b[1;33m(\u001b[0m\u001b[0msimfile\u001b[0m\u001b[1;33m)\u001b[0m\u001b[1;33m\u001b[0m\u001b[1;33m\u001b[0m\u001b[0m\n\u001b[0;32m     11\u001b[0m \u001b[1;33m\u001b[0m\u001b[0m\n\u001b[1;32m---> 12\u001b[1;33m \u001b[0msim\u001b[0m \u001b[1;33m=\u001b[0m \u001b[0mSimulation\u001b[0m\u001b[1;33m(\u001b[0m\u001b[0msimfile\u001b[0m\u001b[1;33m)\u001b[0m\u001b[1;33m\u001b[0m\u001b[1;33m\u001b[0m\u001b[0m\n\u001b[0m\u001b[0;32m     13\u001b[0m \u001b[0msim\u001b[0m\u001b[1;33m.\u001b[0m\u001b[0mexecute\u001b[0m\u001b[1;33m(\u001b[0m\u001b[1;33m)\u001b[0m\u001b[1;33m\u001b[0m\u001b[1;33m\u001b[0m\u001b[0m\n",
      "\u001b[1;32m~\\AppData\\Local\\Continuum\\anaconda3\\envs\\pyswmm\\lib\\site-packages\\pyswmm\\simulation.py\u001b[0m in \u001b[0;36m__init__\u001b[1;34m(self, inputfile, reportfile, outputfile, swmm_lib_path)\u001b[0m\n\u001b[0;32m     67\u001b[0m                  swmm_lib_path=None):\n\u001b[0;32m     68\u001b[0m         \u001b[0mself\u001b[0m\u001b[1;33m.\u001b[0m\u001b[0m_model\u001b[0m \u001b[1;33m=\u001b[0m \u001b[0mPySWMM\u001b[0m\u001b[1;33m(\u001b[0m\u001b[0minputfile\u001b[0m\u001b[1;33m,\u001b[0m \u001b[0mreportfile\u001b[0m\u001b[1;33m,\u001b[0m \u001b[0moutputfile\u001b[0m\u001b[1;33m,\u001b[0m \u001b[0mswmm_lib_path\u001b[0m\u001b[1;33m)\u001b[0m\u001b[1;33m\u001b[0m\u001b[1;33m\u001b[0m\u001b[0m\n\u001b[1;32m---> 69\u001b[1;33m         \u001b[0mself\u001b[0m\u001b[1;33m.\u001b[0m\u001b[0m_model\u001b[0m\u001b[1;33m.\u001b[0m\u001b[0mswmm_open\u001b[0m\u001b[1;33m(\u001b[0m\u001b[1;33m)\u001b[0m\u001b[1;33m\u001b[0m\u001b[1;33m\u001b[0m\u001b[0m\n\u001b[0m\u001b[0;32m     70\u001b[0m         \u001b[0mself\u001b[0m\u001b[1;33m.\u001b[0m\u001b[0m_isOpen\u001b[0m \u001b[1;33m=\u001b[0m \u001b[1;32mTrue\u001b[0m\u001b[1;33m\u001b[0m\u001b[1;33m\u001b[0m\u001b[0m\n\u001b[0;32m     71\u001b[0m         \u001b[0mself\u001b[0m\u001b[1;33m.\u001b[0m\u001b[0m_advance_seconds\u001b[0m \u001b[1;33m=\u001b[0m \u001b[1;32mNone\u001b[0m\u001b[1;33m\u001b[0m\u001b[1;33m\u001b[0m\u001b[0m\n",
      "\u001b[1;32m~\\AppData\\Local\\Continuum\\anaconda3\\envs\\pyswmm\\lib\\site-packages\\pyswmm\\swmm5.py\u001b[0m in \u001b[0;36mswmm_open\u001b[1;34m(self, inpfile, rptfile, binfile)\u001b[0m\n\u001b[0;32m    265\u001b[0m             \u001b[0mctypes\u001b[0m\u001b[1;33m.\u001b[0m\u001b[0mc_char_p\u001b[0m\u001b[1;33m(\u001b[0m\u001b[0msix\u001b[0m\u001b[1;33m.\u001b[0m\u001b[0mb\u001b[0m\u001b[1;33m(\u001b[0m\u001b[0minpfile\u001b[0m\u001b[1;33m)\u001b[0m\u001b[1;33m)\u001b[0m\u001b[1;33m,\u001b[0m\u001b[1;33m\u001b[0m\u001b[1;33m\u001b[0m\u001b[0m\n\u001b[0;32m    266\u001b[0m             ctypes.c_char_p(six.b(rptfile)), ctypes.c_char_p(six.b(binfile)))\n\u001b[1;32m--> 267\u001b[1;33m         \u001b[0mself\u001b[0m\u001b[1;33m.\u001b[0m\u001b[0m_error_check\u001b[0m\u001b[1;33m(\u001b[0m\u001b[0merrcode\u001b[0m\u001b[1;33m)\u001b[0m\u001b[1;33m\u001b[0m\u001b[1;33m\u001b[0m\u001b[0m\n\u001b[0m\u001b[0;32m    268\u001b[0m         \u001b[0mself\u001b[0m\u001b[1;33m.\u001b[0m\u001b[0mfileLoaded\u001b[0m \u001b[1;33m=\u001b[0m \u001b[1;32mTrue\u001b[0m\u001b[1;33m\u001b[0m\u001b[1;33m\u001b[0m\u001b[0m\n\u001b[0;32m    269\u001b[0m \u001b[1;33m\u001b[0m\u001b[0m\n",
      "\u001b[1;32m~\\AppData\\Local\\Continuum\\anaconda3\\envs\\pyswmm\\lib\\site-packages\\pyswmm\\swmm5.py\u001b[0m in \u001b[0;36m_error_check\u001b[1;34m(self, errcode)\u001b[0m\n\u001b[0;32m    163\u001b[0m \u001b[1;33m\u001b[0m\u001b[0m\n\u001b[0;32m    164\u001b[0m         \u001b[1;32mif\u001b[0m \u001b[0merrcode\u001b[0m \u001b[1;33m!=\u001b[0m \u001b[1;36m0\u001b[0m\u001b[1;33m:\u001b[0m\u001b[1;33m\u001b[0m\u001b[1;33m\u001b[0m\u001b[0m\n\u001b[1;32m--> 165\u001b[1;33m             \u001b[1;32mraise\u001b[0m \u001b[0mSWMMException\u001b[0m\u001b[1;33m(\u001b[0m\u001b[0merrcode\u001b[0m\u001b[1;33m,\u001b[0m \u001b[0mself\u001b[0m\u001b[1;33m.\u001b[0m\u001b[0m_error_message\u001b[0m\u001b[1;33m(\u001b[0m\u001b[0merrcode\u001b[0m\u001b[1;33m)\u001b[0m\u001b[1;33m)\u001b[0m\u001b[1;33m\u001b[0m\u001b[1;33m\u001b[0m\u001b[0m\n\u001b[0m\u001b[0;32m    166\u001b[0m \u001b[1;33m\u001b[0m\u001b[0m\n\u001b[0;32m    167\u001b[0m     \u001b[1;32mdef\u001b[0m \u001b[0mswmmExec\u001b[0m\u001b[1;33m(\u001b[0m\u001b[0mself\u001b[0m\u001b[1;33m,\u001b[0m \u001b[0minpfile\u001b[0m\u001b[1;33m=\u001b[0m\u001b[1;32mNone\u001b[0m\u001b[1;33m,\u001b[0m \u001b[0mrptfile\u001b[0m\u001b[1;33m=\u001b[0m\u001b[1;32mNone\u001b[0m\u001b[1;33m,\u001b[0m \u001b[0mbinfile\u001b[0m\u001b[1;33m=\u001b[0m\u001b[1;32mNone\u001b[0m\u001b[1;33m)\u001b[0m\u001b[1;33m:\u001b[0m\u001b[1;33m\u001b[0m\u001b[1;33m\u001b[0m\u001b[0m\n",
      "\u001b[1;31mSWMMException\u001b[0m: \n  ERROR 200: one or more errors in input file."
     ]
    }
   ],
   "source": [
    "from pyswmm import Simulation\n",
    "import os\n",
    "\n",
    "i =1\n",
    "simfolder = r'C:\\Users\\echelsvi\\git\\chelsvig_urban_pesticides\\probabilistic_python\\input\\swmm\\input_' + str(i)\n",
    "print(simfolder)\n",
    "print(os.path.exists(simfolder))\n",
    "\n",
    "simfile = os.path.join(simfolder, \"NPlesantCreek\"+\".\"+\"inp\")\n",
    "print(simfile)\n",
    "\n",
    "sim = Simulation(simfile)\n",
    "sim.execute()\n"
   ]
  },
  {
   "cell_type": "code",
   "execution_count": 40,
   "metadata": {},
   "outputs": [
    {
     "name": "stdout",
     "output_type": "stream",
     "text": [
      "True\n",
      "   Unnamed: 0  NImperv   NPerv  SImperv  SPerv  PctZero  MaxRate  MinRate  \\\n",
      "0           0   0.0243  0.2176    1.663  2.694   40.044  119.901    0.356   \n",
      "1           1   0.0152  0.3288    1.432  2.624   57.428   54.573    7.922   \n",
      "2           2   0.0103  0.2024    1.411  4.672   42.669   14.351    9.796   \n",
      "3           3   0.0237  0.4867    1.923  5.080    7.899   25.438    5.581   \n",
      "4           4   0.0216  0.4077    1.594  2.852   57.356   34.045    2.325   \n",
      "\n",
      "   Decay  DryTime    Por     WP     FC   Ksat  Roughness  Kdecay  BCoeff2  \\\n",
      "0   4.33      4.0  0.497  0.124  0.269  7.484     0.0197   0.047    1.959   \n",
      "1   3.08     11.0  0.496  0.032  0.070  3.025     0.0136   0.159    1.417   \n",
      "2   6.91     11.0  0.494  0.033  0.226  4.617     0.0101   0.085    1.606   \n",
      "3   2.77     13.0  0.450  0.101  0.149  5.960     0.0140   0.006    1.426   \n",
      "4   5.83      7.0  0.434  0.049  0.181  4.734     0.0135   0.086    0.794   \n",
      "\n",
      "   WCoeff2  \n",
      "0    0.525  \n",
      "1    0.211  \n",
      "2    0.860  \n",
      "3    0.087  \n",
      "4    0.678  \n",
      "input_1\n",
      "C:\\Users\\echelsvi\\git\\chelsvig_urban_pesticides\\probabilistic_python\\input\\swmm\\input_1\n",
      "Folder  1 already exists\n"
     ]
    }
   ],
   "source": [
    "\n",
    "import pytest_shutil, shutil, os, pandas, regex as re\n",
    "\n",
    "# nsims\n",
    "nsims = 5\n",
    "\n",
    "# define root path for all folders\n",
    "root_path = r'C:\\Users\\echelsvi\\git\\chelsvig_urban_pesticides\\probabilistic_python\\input\\swmm'\n",
    "print(os.path.exists(root_path))\n",
    "\n",
    "# read in lhs_sampled_params\n",
    "lhs_design = pandas.read_csv(\n",
    "    r'C:\\Users\\echelsvi\\git\\chelsvig_urban_pesticides\\probabilistic_python\\io\\lhs_sampled_params.csv')\n",
    "\n",
    "# round lhs decimals\n",
    "lhs_design = lhs_design.round(\n",
    "    {\"NImperv\": 4, \"NPerv\": 4, \"SImperv\":3, \"SPerv\": 3, \"PctZero\": 3, \"MaxRate\": 3, \"MinRate\": 3, \"Decay\": 2, \"DryTime\": 0,\n",
    "     \"Por\": 3, \"WP\": 3, \"FC\": 3, \"Ksat\": 3, \"Roughness\": 4, \"Kdecay\": 3, \"BCoeff2\": 3, \"WCoeff2\": 3})\n",
    "print(lhs_design.head())\n",
    "\n",
    "# do the following for each simulation...\n",
    "Ite = 1\n",
    "newfol = \"input_\" + str(Ite)\n",
    "print(newfol)\n",
    "\n",
    "newdir = os.path.join(root_path, newfol)\n",
    "print(newdir)\n",
    "\n",
    "if not os.path.exists(newdir):\n",
    "    os.mkdir(newdir)\n",
    "    print(\"Folder \", Ite, \" created\", \"\\n\")\n",
    "else:\n",
    "    print(\"Folder \", Ite, \"already exists\")\n",
    "\n",
    "os.getcwd()\n",
    "os.chdir(newdir)\n",
    "\n",
    "    # copy base file into new file location\n",
    "old_swmm5 = os.path.join(root_path, \"NPlesantCreek.inp\")\n",
    "new_file = os.path.join(newdir, \"NPlesantCreek.inp\")\n",
    "shutil.copyfile(old_swmm5, new_file)\n",
    "\n",
    "    # start reading the new file\n",
    "new_swmm5 = open(new_file, \"r\")\n",
    "filelines = new_swmm5.readlines()"
   ]
  },
  {
   "cell_type": "code",
   "execution_count": 43,
   "metadata": {},
   "outputs": [
    {
     "name": "stdout",
     "output_type": "stream",
     "text": [
      "0.0197\n",
      "['C1', 'J1', 'J2', '268.84', '0.0197', '0', '0', '0', '0']\n",
      "0.0197\n",
      "['C1', 'J1', 'J2', '268.84', '0.0197', '0', '0', '0', '0']\n",
      "['C2', 'J3', 'J2', '189', '0.0197', '0', '0', '0', '0']\n",
      "0.0197\n",
      "['C2', 'J3', 'J2', '189', '0.0197', '0', '0', '0', '0']\n",
      "['C3', 'J5', 'J4', '2554', '0.0197', '0', '0', '0', '0']\n",
      "0.0197\n",
      "['C3', 'J5', 'J4', '2554', '0.0197', '0', '0', '0', '0']\n",
      "['C1 J1 J2 268.84 0.0197 0 0 0 0\\n', 'C2 J3 J2 189 0.0197 0 0 0 0\\n', 'C3 J5 J4 2554 0.0197 0 0 0 0\\n']\n"
     ]
    }
   ],
   "source": [
    "Num = 3  # number of conduits\n",
    "row_0 = 734\n",
    "Roughness = lhs_design.loc[Ite - 1, \"Roughness\"]\n",
    "print(Roughness)\n",
    "\n",
    "for i in range(1, Num + 1):\n",
    "        row_t = row_0 + (i - 1)\n",
    "        oldline = filelines[row_t]\n",
    "\n",
    "        fixline = \" \".join(oldline.split())\n",
    "        listline = fixline.split()\n",
    "        \n",
    "        print(listline)\n",
    "        print(listline[4])\n",
    "        \n",
    "        listline[4]=str(Roughness)\n",
    "        print(listline)\n",
    "        \n",
    "        listTOstring = ' '.join([str(item) for item in listline])\n",
    "\n",
    "        newline = listTOstring + \"\\n\"\n",
    "        filelines[row_t] = newline\n",
    "\n",
    "print(filelines[734:737])"
   ]
  },
  {
   "cell_type": "code",
   "execution_count": null,
   "metadata": {},
   "outputs": [],
   "source": [
    "     listline[4] = str(Roughness)\n",
    "        listTOstring = ' '.join([str(item) for item in listline])\n",
    "\n",
    "        newline = listTOstring + \"\\n\"\n",
    "        filelines[row_t] = newline"
   ]
  }
 ],
 "metadata": {
  "kernelspec": {
   "display_name": "Python 3",
   "language": "python",
   "name": "python3"
  },
  "language_info": {
   "codemirror_mode": {
    "name": "ipython",
    "version": 3
   },
   "file_extension": ".py",
   "mimetype": "text/x-python",
   "name": "python",
   "nbconvert_exporter": "python",
   "pygments_lexer": "ipython3",
   "version": "3.8.2"
  }
 },
 "nbformat": 4,
 "nbformat_minor": 4
}
