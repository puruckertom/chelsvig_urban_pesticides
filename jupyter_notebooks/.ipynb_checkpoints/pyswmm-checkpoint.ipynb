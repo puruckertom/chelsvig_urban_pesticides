{
 "cells": [
  {
   "cell_type": "code",
   "execution_count": 3,
   "metadata": {},
   "outputs": [
    {
     "name": "stdout",
     "output_type": "stream",
     "text": [
      "True\n",
      "   Unnamed: 0  NImperv   NPerv  SImperv  SPerv  PctZero  MaxRate  MinRate  \\\n",
      "0           0   0.0243  0.2176    1.663  2.694   40.044  119.901    0.356   \n",
      "1           1   0.0152  0.3288    1.432  2.624   57.428   54.573    7.922   \n",
      "2           2   0.0103  0.2024    1.411  4.672   42.669   14.351    9.796   \n",
      "3           3   0.0237  0.4867    1.923  5.080    7.899   25.438    5.581   \n",
      "4           4   0.0216  0.4077    1.594  2.852   57.356   34.045    2.325   \n",
      "\n",
      "   Decay  DryTime    Por     WP     FC   Ksat  Roughness  Kdecay  BCoeff2  \\\n",
      "0   4.33      4.0  0.497  0.124  0.269  7.484     0.0197   0.047    1.959   \n",
      "1   3.08     11.0  0.496  0.032  0.070  3.025     0.0136   0.159    1.417   \n",
      "2   6.91     11.0  0.494  0.033  0.226  4.617     0.0101   0.085    1.606   \n",
      "3   2.77     13.0  0.450  0.101  0.149  5.960     0.0140   0.006    1.426   \n",
      "4   5.83      7.0  0.434  0.049  0.181  4.734     0.0135   0.086    0.794   \n",
      "\n",
      "   WCoeff2  \n",
      "0    0.525  \n",
      "1    0.211  \n",
      "2    0.860  \n",
      "3    0.087  \n",
      "4    0.678  \n",
      "input_1\n",
      "C:\\Users\\echelsvi\\git\\chelsvig_urban_pesticides\\probabilistic_python\\input\\swmm\\input_1\n",
      "Folder  1 already exists\n"
     ]
    }
   ],
   "source": [
    "# -----------------------------------------\n",
    "# read, write, input file\n",
    "# -----------------------------------------\n",
    "\n",
    "import pytest_shutil, shutil, os, pandas\n",
    "\n",
    "# nsims\n",
    "nsims = 5\n",
    "\n",
    "# define root path for all folders\n",
    "root_path = r'C:\\Users\\echelsvi\\git\\chelsvig_urban_pesticides\\probabilistic_python\\input\\swmm'\n",
    "print(os.path.exists(root_path))\n",
    "\n",
    "# read in lhs_sampled_params\n",
    "lhs_design = pandas.read_csv(\n",
    "    r'C:\\Users\\echelsvi\\git\\chelsvig_urban_pesticides\\probabilistic_python\\io\\lhs_sampled_params.csv')\n",
    "\n",
    "# round lhs decimals\n",
    "lhs_design = lhs_design.round(\n",
    "    {\"NImperv\": 4, \"NPerv\": 4, \"SImperv\":3, \"SPerv\": 3, \"PctZero\": 3, \"MaxRate\": 3, \"MinRate\": 3, \"Decay\": 2, \"DryTime\": 0,\n",
    "     \"Por\": 3, \"WP\": 3, \"FC\": 3, \"Ksat\": 3, \"Roughness\": 4, \"Kdecay\": 3, \"BCoeff2\": 3, \"WCoeff2\": 3})\n",
    "print(lhs_design.head())\n",
    "\n",
    "Ite =1\n",
    "# do the following for each simulation...\n",
    "newfol = \"input_\" + str(Ite)\n",
    "print(newfol)\n",
    "\n",
    "newdir = os.path.join(root_path, newfol)\n",
    "print(newdir)\n",
    "\n",
    "if not os.path.exists(newdir):\n",
    "    os.mkdir(newdir)\n",
    "    print(\"Folder \", Ite, \" created\", \"\\n\")\n",
    "else:\n",
    "    print(\"Folder \", Ite, \"already exists\")\n",
    "\n",
    "os.getcwd()\n",
    "os.chdir(newdir)\n",
    "\n",
    "# copy base file into new file location\n",
    "old_swmm5 = os.path.join(root_path, \"NPlesantCreek.inp\")\n",
    "new_file = os.path.join(newdir, \"NPlesantCreek.inp\")\n",
    "shutil.copyfile(old_swmm5, new_file)\n",
    "\n",
    "# start reading the new file\n",
    "new_swmm5 = open(new_file, \"r\")\n",
    "filelines = new_swmm5.readlines()\n",
    "\n",
    " "
   ]
  },
  {
   "cell_type": "code",
   "execution_count": 5,
   "metadata": {},
   "outputs": [
    {
     "name": "stdout",
     "output_type": "stream",
     "text": [
      "0.0243\n",
      "<class 'str'>\n",
      "S1               0.013      0.15       2.54       5.08       17         OUTLET    \n",
      "\n"
     ]
    }
   ],
   "source": [
    "   # edit the new file\n",
    "    # ---------------------------\n",
    "    # parameter = NImperv\n",
    "    # ---------------------------\n",
    "Num = 113  # number of subcatchments\n",
    "row_0 = 175\n",
    "NImperv = lhs_design.loc[Ite - 1, \"NImperv\"]\n",
    "print(NImperv)\n",
    "\n",
    "i = 1\n",
    "row_t = row_0 + (i - 1)\n",
    "oldline = filelines[row_t]\n",
    "print(type(oldline))\n",
    "print(oldline)\n"
   ]
  },
  {
   "cell_type": "code",
   "execution_count": null,
   "metadata": {},
   "outputs": [],
   "source": [
    "mendline = oldline.replace(\" \", \"\")\n",
    "print(mendline)\n",
    "\n",
    "splitline = oldline.split(\" \")\n",
    "print(splitline)\n",
    "print(type(splitline))\n",
    "mendline0 = splitline.replace(\" \", \"\")\n",
    "print(mendline0)\n",
    "\n",
    "mendline1 = mendline0.replace(\"0.013\", str(NImperv))\n",
    "print(mendline1)\n",
    "joinline = \" \".join(mendline1)"
   ]
  },
  {
   "cell_type": "code",
   "execution_count": 8,
   "metadata": {},
   "outputs": [
    {
     "name": "stdout",
     "output_type": "stream",
     "text": [
      "S1 0.013 0.15 2.54 5.08 17 OUTLET\n",
      "<class 'str'>\n",
      "<class 'str'>\n",
      "S1 0.0243 0.15 2.54 5.08 17 OUTLET\n"
     ]
    }
   ],
   "source": [
    "fixline = \" \".join(oldline.split())\n",
    "print(fixline)\n",
    "print(type(fixline))\n",
    "\n",
    "newline = fixline.replace(\"0.013\", str(NImperv))\n",
    "print(type(newline))\n",
    "print(newline)\n",
    "\n"
   ]
  },
  {
   "cell_type": "code",
   "execution_count": null,
   "metadata": {},
   "outputs": [],
   "source": []
  }
 ],
 "metadata": {
  "kernelspec": {
   "display_name": "Python 3",
   "language": "python",
   "name": "python3"
  },
  "language_info": {
   "codemirror_mode": {
    "name": "ipython",
    "version": 3
   },
   "file_extension": ".py",
   "mimetype": "text/x-python",
   "name": "python",
   "nbconvert_exporter": "python",
   "pygments_lexer": "ipython3",
   "version": "3.8.2"
  }
 },
 "nbformat": 4,
 "nbformat_minor": 4
}
