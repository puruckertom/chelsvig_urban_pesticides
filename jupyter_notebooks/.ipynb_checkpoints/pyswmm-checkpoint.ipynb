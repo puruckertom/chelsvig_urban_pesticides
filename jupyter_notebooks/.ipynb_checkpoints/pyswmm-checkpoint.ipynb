{
 "cells": [
  {
   "cell_type": "code",
   "execution_count": 6,
   "metadata": {},
   "outputs": [
    {
     "name": "stdout",
     "output_type": "stream",
     "text": [
      "C:\\Users\\echelsvi\\git\\chelsvig_urban_pesticides\\probabilistic_python\\input\\swmm\\input_1\n",
      "True\n",
      "C:\\Users\\echelsvi\\git\\chelsvig_urban_pesticides\\probabilistic_python\\input\\swmm\\input_1\\NPlesantCreek.inp\n",
      "\n",
      "... SWMM Version 5.3.0.dev0\n",
      "... Run Complete"
     ]
    }
   ],
   "source": [
    "from pyswmm import Simulation\n",
    "import os\n",
    "\n",
    "i = 1\n",
    "simfolder = r'C:\\Users\\echelsvi\\git\\chelsvig_urban_pesticides\\probabilistic_python\\input\\swmm\\input_' + str(i)\n",
    "print(simfolder)\n",
    "print(os.path.exists(simfolder))\n",
    "\n",
    "simfile = os.path.join(simfolder, \"NPlesantCreek\"+\".\"+\"inp\")\n",
    "print(simfile)\n",
    "\n",
    "sim = Simulation(simfile)\n",
    "sim.execute()\n"
   ]
  },
  {
   "cell_type": "code",
   "execution_count": 3,
   "metadata": {},
   "outputs": [
    {
     "name": "stdout",
     "output_type": "stream",
     "text": [
      "True\n",
      "   Unnamed: 0  NImperv   NPerv  SImperv  SPerv  PctZero  MaxRate  MinRate  \\\n",
      "0           0   0.0243  0.2176    1.663  2.694   40.044  119.901    0.356   \n",
      "1           1   0.0152  0.3288    1.432  2.624   57.428   54.573    7.922   \n",
      "2           2   0.0103  0.2024    1.411  4.672   42.669   14.351    9.796   \n",
      "3           3   0.0237  0.4867    1.923  5.080    7.899   25.438    5.581   \n",
      "4           4   0.0216  0.4077    1.594  2.852   57.356   34.045    2.325   \n",
      "\n",
      "   Decay  DryTime    Por     WP     FC   Ksat  Roughness  Kdecay  BCoeff2  \\\n",
      "0   4.33      4.0  0.497  0.124  0.269  7.484     0.0197   0.047    1.959   \n",
      "1   3.08     11.0  0.496  0.032  0.070  3.025     0.0136   0.159    1.417   \n",
      "2   6.91     11.0  0.494  0.033  0.226  4.617     0.0101   0.085    1.606   \n",
      "3   2.77     13.0  0.450  0.101  0.149  5.960     0.0140   0.006    1.426   \n",
      "4   5.83      7.0  0.434  0.049  0.181  4.734     0.0135   0.086    0.794   \n",
      "\n",
      "   WCoeff2  \n",
      "0    0.525  \n",
      "1    0.211  \n",
      "2    0.860  \n",
      "3    0.087  \n",
      "4    0.678  \n",
      "input_1\n",
      "C:\\Users\\echelsvi\\git\\chelsvig_urban_pesticides\\probabilistic_python\\input\\swmm\\input_1\n",
      "Folder  1 already exists\n"
     ]
    }
   ],
   "source": [
    "\n",
    "import pytest_shutil, shutil, os, pandas, regex as re\n",
    "\n",
    "# nsims\n",
    "nsims = 5\n",
    "\n",
    "# define root path for all folders\n",
    "root_path = r'C:\\Users\\echelsvi\\git\\chelsvig_urban_pesticides\\probabilistic_python\\input\\swmm'\n",
    "print(os.path.exists(root_path))\n",
    "\n",
    "# read in lhs_sampled_params\n",
    "lhs_design = pandas.read_csv(\n",
    "    r'C:\\Users\\echelsvi\\git\\chelsvig_urban_pesticides\\probabilistic_python\\io\\lhs_sampled_params.csv')\n",
    "\n",
    "# round lhs decimals\n",
    "lhs_design = lhs_design.round(\n",
    "    {\"NImperv\": 4, \"NPerv\": 4, \"SImperv\":3, \"SPerv\": 3, \"PctZero\": 3, \"MaxRate\": 3, \"MinRate\": 3, \"Decay\": 2, \"DryTime\": 0,\n",
    "     \"Por\": 3, \"WP\": 3, \"FC\": 3, \"Ksat\": 3, \"Roughness\": 4, \"Kdecay\": 3, \"BCoeff2\": 3, \"WCoeff2\": 3})\n",
    "print(lhs_design.head())\n",
    "\n",
    "# do the following for each simulation...\n",
    "Ite = 1\n",
    "newfol = \"input_\" + str(Ite)\n",
    "print(newfol)\n",
    "\n",
    "newdir = os.path.join(root_path, newfol)\n",
    "print(newdir)\n",
    "\n",
    "if not os.path.exists(newdir):\n",
    "    os.mkdir(newdir)\n",
    "    print(\"Folder \", Ite, \" created\", \"\\n\")\n",
    "else:\n",
    "    print(\"Folder \", Ite, \"already exists\")\n",
    "\n",
    "os.getcwd()\n",
    "os.chdir(newdir)\n",
    "\n",
    "    # copy base file into new file location\n",
    "old_swmm5 = os.path.join(root_path, \"NPlesantCreek.inp\")\n",
    "new_file = os.path.join(newdir, \"NPlesantCreek.inp\")\n",
    "shutil.copyfile(old_swmm5, new_file)\n",
    "\n",
    "    # start reading the new file\n",
    "new_swmm5 = open(new_file, \"r\")\n",
    "filelines = new_swmm5.readlines()"
   ]
  },
  {
   "cell_type": "code",
   "execution_count": 5,
   "metadata": {},
   "outputs": [
    {
     "name": "stdout",
     "output_type": "stream",
     "text": [
      "0.0197\n",
      "['C3', 'J5', 'J4', '2554', '0.01', '0', '0', '0', '0']\n",
      "<class 'list'>\n",
      "9\n",
      "0.01\n",
      "['C3', 'J5', 'J4', '2554', '0.0197', '0', '0', '0', '0']\n",
      "['C1 J1 J2 268.84 0.0197 0 0 0 0\\n', 'C2 J3 J2 189 0.0197 0 0 0 0\\n']\n"
     ]
    }
   ],
   "source": [
    "Num = 1  # number of conduits\n",
    "row_0 = 736\n",
    "Roughness = lhs_design.loc[Ite - 1, \"Roughness\"]\n",
    "print(Roughness)\n",
    "\n",
    "for i in range(1, Num + 1):\n",
    "        row_t = row_0 + (i - 1)\n",
    "        oldline = filelines[row_t]\n",
    "\n",
    "        fixline = \" \".join(oldline.split())\n",
    "        listline = fixline.split()\n",
    "        \n",
    "        print(listline)\n",
    "        print(type(listline))\n",
    "        print(len(listline))\n",
    "        print(listline[4])\n",
    "        \n",
    "        listline[4]=str(Roughness)\n",
    "        print(listline)\n",
    "        \n",
    "        listTOstring = ' '.join([str(item) for item in listline])\n",
    "\n",
    "        newline = listTOstring + \"\\n\"\n",
    "        filelines[row_t] = newline\n",
    "\n",
    "print(filelines[734:736])"
   ]
  },
  {
   "cell_type": "code",
   "execution_count": null,
   "metadata": {},
   "outputs": [],
   "source": [
    "     listline[4] = str(Roughness)\n",
    "        listTOstring = ' '.join([str(item) for item in listline])\n",
    "\n",
    "        newline = listTOstring + \"\\n\"\n",
    "        filelines[row_t] = newline"
   ]
  },
  {
   "cell_type": "code",
   "execution_count": 2,
   "metadata": {},
   "outputs": [
    {
     "ename": "OSError",
     "evalue": "cannot load library 'C:\\Program Files\\R\\R-3.6.1\\bin\\x64\\R.dll': error 0x7e",
     "output_type": "error",
     "traceback": [
      "\u001b[1;31m---------------------------------------------------------------------------\u001b[0m",
      "\u001b[1;31mOSError\u001b[0m                                   Traceback (most recent call last)",
      "\u001b[1;32m<ipython-input-2-c62950db88b0>\u001b[0m in \u001b[0;36m<module>\u001b[1;34m\u001b[0m\n\u001b[0;32m      8\u001b[0m \u001b[1;32mfrom\u001b[0m \u001b[0mpyswmm\u001b[0m \u001b[1;32mimport\u001b[0m \u001b[0mSimulation\u001b[0m\u001b[1;33m\u001b[0m\u001b[1;33m\u001b[0m\u001b[0m\n\u001b[0;32m      9\u001b[0m \u001b[1;32mimport\u001b[0m \u001b[0mos\u001b[0m\u001b[1;33m,\u001b[0m \u001b[0mpandas\u001b[0m\u001b[1;33m\u001b[0m\u001b[1;33m\u001b[0m\u001b[0m\n\u001b[1;32m---> 10\u001b[1;33m \u001b[1;32mimport\u001b[0m \u001b[0mrpy2\u001b[0m\u001b[1;33m.\u001b[0m\u001b[0mrobjects\u001b[0m \u001b[1;32mas\u001b[0m \u001b[0mro\u001b[0m\u001b[1;33m\u001b[0m\u001b[1;33m\u001b[0m\u001b[0m\n\u001b[0m\u001b[0;32m     11\u001b[0m \u001b[1;32mfrom\u001b[0m \u001b[0mrpy2\u001b[0m\u001b[1;33m.\u001b[0m\u001b[0mrobjects\u001b[0m\u001b[1;33m.\u001b[0m\u001b[0mpackages\u001b[0m \u001b[1;32mimport\u001b[0m \u001b[0mimportr\u001b[0m\u001b[1;33m\u001b[0m\u001b[1;33m\u001b[0m\u001b[0m\n\u001b[0;32m     12\u001b[0m \u001b[1;32mimport\u001b[0m \u001b[0mpandas\u001b[0m\u001b[1;33m.\u001b[0m\u001b[0mrpy\u001b[0m\u001b[1;33m.\u001b[0m\u001b[0mcommon\u001b[0m \u001b[1;32mas\u001b[0m \u001b[0mcom\u001b[0m\u001b[1;33m\u001b[0m\u001b[1;33m\u001b[0m\u001b[0m\n",
      "\u001b[1;32m~\\AppData\\Local\\Continuum\\anaconda3\\envs\\pyswmm\\lib\\site-packages\\rpy2\\robjects\\__init__.py\u001b[0m in \u001b[0;36m<module>\u001b[1;34m\u001b[0m\n\u001b[0;32m     14\u001b[0m \u001b[1;32mfrom\u001b[0m \u001b[0mfunctools\u001b[0m \u001b[1;32mimport\u001b[0m \u001b[0mpartial\u001b[0m\u001b[1;33m\u001b[0m\u001b[1;33m\u001b[0m\u001b[0m\n\u001b[0;32m     15\u001b[0m \u001b[1;32mimport\u001b[0m \u001b[0mtypes\u001b[0m\u001b[1;33m\u001b[0m\u001b[1;33m\u001b[0m\u001b[0m\n\u001b[1;32m---> 16\u001b[1;33m \u001b[1;32mimport\u001b[0m \u001b[0mrpy2\u001b[0m\u001b[1;33m.\u001b[0m\u001b[0mrinterface\u001b[0m \u001b[1;32mas\u001b[0m \u001b[0mrinterface\u001b[0m\u001b[1;33m\u001b[0m\u001b[1;33m\u001b[0m\u001b[0m\n\u001b[0m\u001b[0;32m     17\u001b[0m \u001b[1;32mimport\u001b[0m \u001b[0mrpy2\u001b[0m\u001b[1;33m.\u001b[0m\u001b[0mrlike\u001b[0m\u001b[1;33m.\u001b[0m\u001b[0mcontainer\u001b[0m \u001b[1;32mas\u001b[0m \u001b[0mrlc\u001b[0m\u001b[1;33m\u001b[0m\u001b[1;33m\u001b[0m\u001b[0m\n\u001b[0;32m     18\u001b[0m \u001b[1;33m\u001b[0m\u001b[0m\n",
      "\u001b[1;32m~\\AppData\\Local\\Continuum\\anaconda3\\envs\\pyswmm\\lib\\site-packages\\rpy2\\rinterface.py\u001b[0m in \u001b[0;36m<module>\u001b[1;34m\u001b[0m\n\u001b[0;32m      4\u001b[0m \u001b[1;32mimport\u001b[0m \u001b[0mtyping\u001b[0m\u001b[1;33m\u001b[0m\u001b[1;33m\u001b[0m\u001b[0m\n\u001b[0;32m      5\u001b[0m \u001b[1;32mfrom\u001b[0m \u001b[0mtyping\u001b[0m \u001b[1;32mimport\u001b[0m \u001b[0mUnion\u001b[0m\u001b[1;33m\u001b[0m\u001b[1;33m\u001b[0m\u001b[0m\n\u001b[1;32m----> 6\u001b[1;33m \u001b[1;32mfrom\u001b[0m \u001b[0mrpy2\u001b[0m\u001b[1;33m.\u001b[0m\u001b[0mrinterface_lib\u001b[0m \u001b[1;32mimport\u001b[0m \u001b[0mopenrlib\u001b[0m\u001b[1;33m\u001b[0m\u001b[1;33m\u001b[0m\u001b[0m\n\u001b[0m\u001b[0;32m      7\u001b[0m \u001b[1;32mimport\u001b[0m \u001b[0mrpy2\u001b[0m\u001b[1;33m.\u001b[0m\u001b[0mrinterface_lib\u001b[0m\u001b[1;33m.\u001b[0m\u001b[0m_rinterface_capi\u001b[0m \u001b[1;32mas\u001b[0m \u001b[0m_rinterface\u001b[0m\u001b[1;33m\u001b[0m\u001b[1;33m\u001b[0m\u001b[0m\n\u001b[0;32m      8\u001b[0m \u001b[1;32mimport\u001b[0m \u001b[0mrpy2\u001b[0m\u001b[1;33m.\u001b[0m\u001b[0mrinterface_lib\u001b[0m\u001b[1;33m.\u001b[0m\u001b[0membedded\u001b[0m \u001b[1;32mas\u001b[0m \u001b[0membedded\u001b[0m\u001b[1;33m\u001b[0m\u001b[1;33m\u001b[0m\u001b[0m\n",
      "\u001b[1;32m~\\AppData\\Local\\Continuum\\anaconda3\\envs\\pyswmm\\lib\\site-packages\\rpy2\\rinterface_lib\\openrlib.py\u001b[0m in \u001b[0;36m<module>\u001b[1;34m\u001b[0m\n\u001b[0;32m     42\u001b[0m     \u001b[0mrlib\u001b[0m \u001b[1;33m=\u001b[0m \u001b[0m_rinterface_cffi\u001b[0m\u001b[1;33m.\u001b[0m\u001b[0mlib\u001b[0m\u001b[1;33m\u001b[0m\u001b[1;33m\u001b[0m\u001b[0m\n\u001b[0;32m     43\u001b[0m \u001b[1;32melse\u001b[0m\u001b[1;33m:\u001b[0m\u001b[1;33m\u001b[0m\u001b[1;33m\u001b[0m\u001b[0m\n\u001b[1;32m---> 44\u001b[1;33m     \u001b[0mrlib\u001b[0m \u001b[1;33m=\u001b[0m \u001b[0m_dlopen_rlib\u001b[0m\u001b[1;33m(\u001b[0m\u001b[0mR_HOME\u001b[0m\u001b[1;33m)\u001b[0m\u001b[1;33m\u001b[0m\u001b[1;33m\u001b[0m\u001b[0m\n\u001b[0m\u001b[0;32m     45\u001b[0m \u001b[1;33m\u001b[0m\u001b[0m\n\u001b[0;32m     46\u001b[0m \u001b[1;33m\u001b[0m\u001b[0m\n",
      "\u001b[1;32m~\\AppData\\Local\\Continuum\\anaconda3\\envs\\pyswmm\\lib\\site-packages\\rpy2\\rinterface_lib\\openrlib.py\u001b[0m in \u001b[0;36m_dlopen_rlib\u001b[1;34m(r_home)\u001b[0m\n\u001b[0;32m     35\u001b[0m         \u001b[1;32mraise\u001b[0m \u001b[0mValueError\u001b[0m\u001b[1;33m(\u001b[0m\u001b[1;34m'The library path cannot be None.'\u001b[0m\u001b[1;33m)\u001b[0m\u001b[1;33m\u001b[0m\u001b[1;33m\u001b[0m\u001b[0m\n\u001b[0;32m     36\u001b[0m     \u001b[1;32melse\u001b[0m\u001b[1;33m:\u001b[0m\u001b[1;33m\u001b[0m\u001b[1;33m\u001b[0m\u001b[0m\n\u001b[1;32m---> 37\u001b[1;33m         \u001b[0mrlib\u001b[0m \u001b[1;33m=\u001b[0m \u001b[0mffi\u001b[0m\u001b[1;33m.\u001b[0m\u001b[0mdlopen\u001b[0m\u001b[1;33m(\u001b[0m\u001b[0mlib_path\u001b[0m\u001b[1;33m)\u001b[0m\u001b[1;33m\u001b[0m\u001b[1;33m\u001b[0m\u001b[0m\n\u001b[0m\u001b[0;32m     38\u001b[0m     \u001b[1;32mreturn\u001b[0m \u001b[0mrlib\u001b[0m\u001b[1;33m\u001b[0m\u001b[1;33m\u001b[0m\u001b[0m\n\u001b[0;32m     39\u001b[0m \u001b[1;33m\u001b[0m\u001b[0m\n",
      "\u001b[1;31mOSError\u001b[0m: cannot load library 'C:\\Program Files\\R\\R-3.6.1\\bin\\x64\\R.dll': error 0x7e"
     ]
    }
   ],
   "source": [
    "# --------------------------------------------------\n",
    "# run probabilistic simulations, save output\n",
    "# --------------------------------------------------\n",
    "\n",
    "# todo run each of the probabilistic sim .inp files, and save the results to a cohesive data frame\n",
    "\n",
    "# setup\n",
    "from pyswmm import Simulation\n",
    "import os, pandas\n",
    "import rpy2.robjects as ro\n",
    "from rpy2.robjects.packages import importr\n",
    "import pandas.rpy.common as com\n",
    "\n",
    "d = {'package.dependencies': 'package_dot_dependencies',\n",
    "     'package_dependencies': 'package_uscore_dependencies'}\n",
    "swmmr = importr('swmmr', robject_translations = d)\n",
    "\n",
    "print(\"Hello there\")\n",
    "\n"
   ]
  },
  {
   "cell_type": "code",
   "execution_count": null,
   "metadata": {},
   "outputs": [],
   "source": [
    "swmmr.read_out()\n",
    "\n",
    "# nsims\n",
    "nsims = 5\n",
    "\n",
    "# todo set up dataframe to receive the outputs from the simulations...below\n",
    "\n",
    "# run swmm, for each sim\n",
    "for i in range(1, nsims+1):\n",
    "    simfolder = r'C:\\Users\\echelsvi\\git\\chelsvig_urban_pesticides\\probabilistic_python\\input\\swmm\\input_' + str(i)\n",
    "    print(simfolder)\n",
    "    print(os.path.exists(simfolder))\n",
    "\n",
    "    simfile = os.path.join(simfolder, \"NPlesantCreek\" + \".\" + \"inp\")\n",
    "    print(simfile)\n",
    "\n",
    "    sim = Simulation(simfile)\n",
    "    sim.execute()\n",
    "\n",
    "    # todo grab the desired output variable of interest, and store in dataframe (created above loop)\n",
    "\n",
    "# --------------------------------------------------------\n",
    "# the end\n",
    "# --------------------------------------------------------"
   ]
  }
 ],
 "metadata": {
  "kernelspec": {
   "display_name": "Python 3",
   "language": "python",
   "name": "python3"
  },
  "language_info": {
   "codemirror_mode": {
    "name": "ipython",
    "version": 3
   },
   "file_extension": ".py",
   "mimetype": "text/x-python",
   "name": "python",
   "nbconvert_exporter": "python",
   "pygments_lexer": "ipython3",
   "version": "3.8.2"
  }
 },
 "nbformat": 4,
 "nbformat_minor": 4
}
