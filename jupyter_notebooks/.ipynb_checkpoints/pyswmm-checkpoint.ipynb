{
 "cells": [
  {
   "cell_type": "code",
   "execution_count": 6,
   "metadata": {
    "scrolled": true
   },
   "outputs": [
    {
     "name": "stdout",
     "output_type": "stream",
     "text": [
      "C:\\Users\\echelsvi\\git\\chelsvig_urban_pesticides\\probabilistic_python\\input\\vvwm\n",
      "C:\\Users\\echelsvi\\git\\chelsvig_urban_pesticides\\probabilistic_python\\exe\n"
     ]
    }
   ],
   "source": [
    "# ------------------------------------------------------------------------------------------\n",
    "# read swmm .rpt output file, and store desired outputs\n",
    "# ------------------------------------------------------------------------------------------\n",
    "\n",
    "# setup\n",
    "import pandas, os, glob, shutil, subprocess, sys\n",
    "from subprocess import Popen, PIPE\n",
    "\n",
    "# specify locations\n",
    "dir_path = r'C:\\Users\\echelsvi\\git\\chelsvig_urban_pesticides\\probabilistic_python'\n",
    "\n",
    "\n",
    "vvwm_path = dir_path + r'\\input\\vvwm'\n",
    "print(vvwm_path)\n",
    "exe_path = dir_path + r'\\exe'\n",
    "print(exe_path)\n",
    "\n",
    "# nsims\n",
    "nsims = 5\n",
    "\n",
    "# read in lhs_sampled_params\n",
    "lhs_design = pandas.read_csv(dir_path+r'\\io\\lhs_sampled_params_vvwm.csv')\n",
    "\n",
    "\n",
    "\n",
    "#outfalls = ['\\outfall_31_26', '\\outfall_31_28', '\\outfall_31_29', '\\outfall_31_35',\n",
    " #           '\\outfall_31_36', '\\outfall_31_38', '\\outfall_31_42',]\n",
    "\n",
    "outfalls = ['\\outfall_31_26']"
   ]
  }
 ],
 "metadata": {
  "kernelspec": {
   "display_name": "Python 3",
   "language": "python",
   "name": "python3"
  },
  "language_info": {
   "codemirror_mode": {
    "name": "ipython",
    "version": 3
   },
   "file_extension": ".py",
   "mimetype": "text/x-python",
   "name": "python",
   "nbconvert_exporter": "python",
   "pygments_lexer": "ipython3",
   "version": "3.8.2"
  }
 },
 "nbformat": 4,
 "nbformat_minor": 4
}
