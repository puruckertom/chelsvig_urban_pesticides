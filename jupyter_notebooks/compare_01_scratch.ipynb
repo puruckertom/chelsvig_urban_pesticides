{
 "cells": [
  {
   "cell_type": "code",
   "execution_count": 2,
   "metadata": {},
   "outputs": [],
   "source": [
    "# ------------------------------------------------------------------------------------------\n",
    "# read swmm .rpt output file, and store desired outputs\n",
    "# ------------------------------------------------------------------------------------------\n",
    "\n",
    "# setup\n",
    "import pytest_shutil, shutil, os, pandas as pd, regex as re\n",
    "import swmmtoolbox.swmmtoolbox as swmmtoolbox\n",
    "mypath = os.path.abspath(\"..\")"
   ]
  },
  {
   "cell_type": "code",
   "execution_count": null,
   "metadata": {},
   "outputs": [],
   "source": [
    "# specify locations\n",
    "dir_path = mypath + r'\\probabilistic_python'"
   ]
  },
  {
   "cell_type": "code",
   "execution_count": 43,
   "metadata": {},
   "outputs": [
    {
     "name": "stdout",
     "output_type": "stream",
     "text": [
      "swmm_path:   C:\\Users\\Julia Stelman\\Desktop\\Watershed\\chelsvig_urban_pesticides\\probabilistic_python\\input\\swmm\n",
      "swmm_file:   C:\\Users\\Julia Stelman\\Desktop\\Watershed\\chelsvig_urban_pesticides\\probabilistic_python\\input\\swmm\\NPlesantCreek.rpt\n",
      "inp_file:   C:\\Users\\Julia Stelman\\Desktop\\Watershed\\chelsvig_urban_pesticides\\probabilistic_python\\input\\swmm\\NPlesantCreek.inp\n",
      "vvwm_path:   C:\\Users\\Julia Stelman\\Desktop\\Watershed\\chelsvig_urban_pesticides\\probabilistic_python\\input\\vvwm\n"
     ]
    }
   ],
   "source": [
    "swmm_path = dir_path + r'\\input\\swmm'\n",
    "print(r'swmm_path:  ', swmm_path) #JMS 9/23/20\n",
    "swmm_file = swmm_path + r'\\NPlesantCreek.rpt'\n",
    "print(r'swmm_file:  ', swmm_file) #JMS 9/23/20\n",
    "inp_file = swmm_path + r'\\NPlesantCreek.inp'\n",
    "print(r'inp_file:  ', inp_file) #JMS 9/23/20\n",
    "vvwm_path = dir_path + r'\\input\\vvwm'\n",
    "print(r'vvwm_path:  ', vvwm_path) #JMS 9/23/20"
   ]
  },
  {
   "cell_type": "code",
   "execution_count": 71,
   "metadata": {},
   "outputs": [],
   "source": [
    "# just use one outfall to start\n",
    "outfalls = ['\\outfall_31_26']\n",
    "\n",
    "# read in the .inp file subcatchment areas (to use later in script)\n",
    "# read the .inp file\n",
    "ipfile = open(inp_file, \"r\")"
   ]
  },
  {
   "cell_type": "code",
   "execution_count": 66,
   "metadata": {},
   "outputs": [],
   "source": [
    "# skip x lines\n",
    "lines1 = ipfile.readlines()[55:]"
   ]
  },
  {
   "cell_type": "code",
   "execution_count": 74,
   "metadata": {},
   "outputs": [],
   "source": [
    "ipfile.close()"
   ]
  },
  {
   "cell_type": "code",
   "execution_count": 57,
   "metadata": {},
   "outputs": [],
   "source": [
    "sub_list_area = [lines1[thissub].split()[3] for thissub in range(113)]\n",
    "\n",
    "with open(mypath + r'\\JS_temp\\new.txt', 'w') as f:\n",
    "    f.write(\"\\n\".join(sub_list_area))"
   ]
  },
  {
   "cell_type": "code",
   "execution_count": null,
   "metadata": {},
   "outputs": [],
   "source": [
    "# grab the previously computed daily averages of swmm outputs\n",
    "original = mypath + r'\\probabilistic_python\\input\\swmm\\swmm_output_davg_runf.csv'\n",
    "target = mypath + r'\\app_rates\\io\\swmm_output_davg_runf.csv'\n",
    "shutil.copyfile(original, target)\n",
    "\n",
    "original = mypath + r'\\probabilistic_python\\input\\swmm\\swmm_output_davg_bif.csv'\n",
    "target = mypath + r'\\app_rates\\io\\swmm_output_davg_bif.csv'\n",
    "shutil.copyfile(original, target)\n",
    "\n",
    "# grab the previously computed converted daily averages of swmm outputs\n",
    "original = mypath + r'\\probabilistic_python\\input\\swmm\\swmm_conv_to_vvwm_runf.csv'\n",
    "target = mypath + r'\\app_rates\\io\\swmm_conv_to_vvwm_runf.csv'\n",
    "shutil.copyfile(original, target)\n",
    "\n",
    "original = mypath + r'\\probabilistic_python\\input\\swmm\\swmm_conv_to_vvwm_bif.csv'\n",
    "target = mypath + r'\\app_rates\\io\\swmm_conv_to_vvwm_bif.csv'\n",
    "shutil.copyfile(original, target)"
   ]
  }
 ],
 "metadata": {
  "kernelspec": {
   "display_name": "Python 3",
   "language": "python",
   "name": "python3"
  },
  "language_info": {
   "codemirror_mode": {
    "name": "ipython",
    "version": 3
   },
   "file_extension": ".py",
   "mimetype": "text/x-python",
   "name": "python",
   "nbconvert_exporter": "python",
   "pygments_lexer": "ipython3",
   "version": "3.7.3"
  }
 },
 "nbformat": 4,
 "nbformat_minor": 4
}
