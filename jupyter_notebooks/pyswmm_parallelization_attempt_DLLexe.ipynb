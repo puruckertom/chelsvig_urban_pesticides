{
 "cells": [
  {
   "cell_type": "code",
   "execution_count": 1,
   "metadata": {},
   "outputs": [],
   "source": [
    "# setup\n",
    "from pyswmm import Simulation\n",
    "import os, dask, time, shutil\n",
    "from pyswmm.lib import DLL_SELECTION"
   ]
  },
  {
   "cell_type": "code",
   "execution_count": 4,
   "metadata": {},
   "outputs": [
    {
     "name": "stdout",
     "output_type": "stream",
     "text": [
      "C:\\Users\\Julia Stelman\\Desktop\\Watershed\\chelsvig_urban_pesticides\\probabilistic_python\\input\\swmm\\input_\n"
     ]
    }
   ],
   "source": [
    "# save absolute path of input file location\n",
    "# this string is how we will tell pyswmm where to locate the files it needs to run its simulations\n",
    "input_path = os.path.abspath(\"../probabilistic_python/input/swmm/input_\")\n",
    "print(input_path)\n",
    "\n",
    "# save the path for the original dynamic link library\n",
    "dll_path = DLL_SELECTION()\n",
    "print(dll_path)"
   ]
  },
  {
   "cell_type": "code",
   "execution_count": 6,
   "metadata": {},
   "outputs": [],
   "source": [
    "'''\n",
    "Makes arrangements for executing the following task:\n",
    "    Run specified probabilistic simulations in SWMM from the specified .inp file. Save output in equivalently named .out file.\n",
    "Inputs:\n",
    "    i <integer> -indicates input folder id number (for now, will only ever be 1-5).-\n",
    "Immediate Output:\n",
    "    <dask.delayed.Delayed> -arrangements for executing the task when commanded at a future time (by the 'compute()' function)\n",
    "Computable Output:\n",
    "    <string> -message indicating that the simulation has been completed on the .inp file in the 'i' input folder.-\n",
    "'''\n",
    "# this decorator is the first step in using dask to parallelize swmm simulations\n",
    "@dask.delayed\n",
    "def delay_job(i):\n",
    "    # create path to the .exe we are going to create\n",
    "    lib_path = dll_path[:-4]+'-'+str(i)+dll_path[-4:]\n",
    "    # create .exe file\n",
    "    shutil.copyfile(dll_path, lib_path)\n",
    "    # specify the directory with the file pyswmm needs by attaching the folder id to the rest of the folder's absolute path\n",
    "    sim_folder = input_path + str(i)\n",
    "    # specify the actual file pyswmm needs\n",
    "    sim_file = os.path.join(sim_folder, r'JS_NPlesantCreek.inp')\n",
    "    print(\"Simulation input file found:\", sim_file)\n",
    "    # specify the file that pyswmm will (over)write with output after running the probabilistic simulation\n",
    "    binary_file = sim_folder + r'\\JS_NPlesantCreek.out'\n",
    "    # delete pre-existing .out, if present, in order to run swmm agreeably\n",
    "    if os.path.exists(binary_file):\n",
    "        print(\"Deleting current copy of <JS_NPlesantCreek.out> so new copy can be created.\")\n",
    "        os.remove(binary_file)\n",
    "    # stagger starting times 2 sec apart\n",
    "    time.sleep(2*i)\n",
    "    # load the model {no interaction, write (binary) results to <JS_NPlesantCreek.out>, use the specified dll}\n",
    "    sim = Simulation(inputfile=sim_file, reportfile=None, outputfile=binary_file, swmm_lib_path=lib_path)\n",
    "    # simulate the loaded model\n",
    "    sim.execute()\n",
    "    # delete the .exe file\n",
    "    #os.remove(lib_path)\n",
    "    # a message to indicate success\n",
    "    return(\"file \" + str(i) + \" simulated!\")"
   ]
  },
  {
   "cell_type": "code",
   "execution_count": 7,
   "metadata": {},
   "outputs": [
    {
     "data": {
      "text/plain": [
       "[Delayed('delay_job-5a84b3f3-f19d-414e-b0f3-498d5353cc38'),\n",
       " Delayed('delay_job-6bc567c4-3a9b-45ed-a6c5-556e598183b9'),\n",
       " Delayed('delay_job-2e658d5f-061b-4b00-a764-f1411886dfe1'),\n",
       " Delayed('delay_job-b2c17f62-bd12-4f4d-a40e-aebdf6972ca8'),\n",
       " Delayed('delay_job-7deb3c54-8386-42d2-907f-22cfcab42709')]"
      ]
     },
     "execution_count": 7,
     "metadata": {},
     "output_type": "execute_result"
    }
   ],
   "source": [
    "# can it do multiple?\n",
    "delayed_jobs = [delay_job(1),\n",
    "                delay_job(2),\n",
    "                delay_job(3),\n",
    "                delay_job(4),\n",
    "                delay_job(5)]\n",
    "delayed_jobs"
   ]
  },
  {
   "cell_type": "code",
   "execution_count": 8,
   "metadata": {},
   "outputs": [
    {
     "name": "stdout",
     "output_type": "stream",
     "text": [
      "Simulation input file found:Simulation input file found: C:\\Users\\Julia Stelman\\Desktop\\Watershed\\chelsvig_urban_pesticides\\probabilistic_python\\input\\swmm\\input_4\\JS_NPlesantCreek.inp\n",
      " C:\\Users\\Julia Stelman\\Desktop\\Watershed\\chelsvig_urban_pesticides\\probabilistic_python\\input\\swmm\\input_3\\JS_NPlesantCreek.inpSimulation input file found: Simulation input file found: C:\\Users\\Julia Stelman\\Desktop\\Watershed\\chelsvig_urban_pesticides\\probabilistic_python\\input\\swmm\\input_1\\JS_NPlesantCreek.inp\n",
      "\n",
      "C:\\Users\\Julia Stelman\\Desktop\\Watershed\\chelsvig_urban_pesticides\\probabilistic_python\\input\\swmm\\input_5\\JS_NPlesantCreek.inp\n",
      "Deleting current copy of <JS_NPlesantCreek.out> so new copy can be created.\n",
      "Simulation input file found: C:\\Users\\Julia Stelman\\Desktop\\Watershed\\chelsvig_urban_pesticides\\probabilistic_python\\input\\swmm\\input_2\\JS_NPlesantCreek.inp\n",
      "Deleting current copy of <JS_NPlesantCreek.out> so new copy can be created.\n",
      "\n",
      "... SWMM Version 5.3.0.dev0\n",
      "... SWMM Version 5.3.0.dev0\n",
      "... SWMM Version 5.3.0.dev0\n",
      "... SWMM Version 5.3.0.dev0\n",
      "... SWMM Version 5.3.0.dev0\n",
      "... Run Complete\n",
      "... Run Complete\n",
      "... Run Complete\n",
      "... Run Complete\n",
      "... Run Complete['file 1 simulated!', 'file 2 simulated!', 'file 3 simulated!', 'file 4 simulated!', 'file 5 simulated!']\n",
      "Wall time: 4min 44s\n"
     ]
    }
   ],
   "source": [
    "%%time\n",
    "dask.delayed(print)(delayed_jobs).compute()"
   ]
  },
  {
   "cell_type": "markdown",
   "metadata": {},
   "source": [
    "PySWMM can handle simultaneously running two parallel processes, as long as each one uses its own direct link library. "
   ]
  }
 ],
 "metadata": {
  "kernelspec": {
   "display_name": "Python 3",
   "language": "python",
   "name": "python3"
  },
  "language_info": {
   "codemirror_mode": {
    "name": "ipython",
    "version": 3
   },
   "file_extension": ".py",
   "mimetype": "text/x-python",
   "name": "python",
   "nbconvert_exporter": "python",
   "pygments_lexer": "ipython3",
   "version": "3.8.5"
  }
 },
 "nbformat": 4,
 "nbformat_minor": 4
}
