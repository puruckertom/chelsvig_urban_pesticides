{
 "cells": [
  {
   "cell_type": "code",
   "execution_count": 1,
   "metadata": {
    "scrolled": true
   },
   "outputs": [
    {
     "name": "stdout",
     "output_type": "stream",
     "text": [
      "C:\\Users\\echelsvi\\git\\chelsvig_urban_pesticides\\probabilistic_python\\input\\vvwm\n"
     ]
    }
   ],
   "source": [
    "# ------------------------------------------------------------------------------------------\n",
    "# read swmm .rpt output file, and store desired outputs\n",
    "# ------------------------------------------------------------------------------------------\n",
    "\n",
    "# setup\n",
    "import pandas, os, glob\n",
    "from datetime import date\n",
    "\n",
    "# specify locations\n",
    "dir_path = r'C:\\Users\\echelsvi\\git\\chelsvig_urban_pesticides\\probabilistic_python'\n",
    "\n",
    "vvwm_path = dir_path + r'\\input\\vvwm'\n",
    "print(vvwm_path)\n",
    "\n",
    "# todo create loop to loop through outfall folders\n",
    "outfalls = ['\\outfall_31_26', '\\outfall_31_28', '\\outfall_31_29', '\\outfall_31_35',\n",
    "            '\\outfall_31_36', '\\outfall_31_38', '\\outfall_31_42',]"
   ]
  },
  {
   "cell_type": "code",
   "execution_count": 8,
   "metadata": {},
   "outputs": [],
   "source": [
    "for o in outfalls:\n",
    "    \n",
    "    # set pathways\n",
    "    outfall_path = vvwm_path + o\n",
    "    determ_input = outfall_path + r'\\inputs\\determ'\n",
    "    determ_output = outfall_path + r'\\outputs\\determ'\n",
    "    filelist = os.listdir(determ_input)\n",
    "    bif_df = pandas.read_csv(determ_input + r'\\\\' + filelist[0])\n",
    "    runf_df = pandas.read_csv(determ_input + r'\\\\' + filelist[1])\n",
    "   \n",
    "    # vvwm .zts file format:\n",
    "    # year,month,day,runf(cm/ha/day),0,bif(g/ha/day),0\n",
    "\n",
    "    # todo convert runf and bif units\n",
    "    \n",
    "\n",
    "    # cols of zero\n",
    "    runf_df.loc[:, 'B'] = 0\n",
    "    bif_df.loc[:, \"MEp\"] = 0\n",
    "\n",
    "    # subset the desired cols from df's and join together\n",
    "    runf_sub = runf_df[[\"year\", \"month\", \"day\", \"runf_sum\", \"B\"]]\n",
    "    bif_sub = bif_df[[\"bif_sum\", \"MEp\"]]\n",
    "\n",
    "    # combine\n",
    "    vvwm_df = pandas.concat([runf_sub,bif_sub], axis=1)\n",
    "\n",
    "    # read out into comma-deliminated .txt file\n",
    "    vvwm_df.to_csv(determ_output + r'\\vvwm_input.zts', header=None, index=None, sep=',')\n",
    "\n"
   ]
  },
  {
   "cell_type": "code",
   "execution_count": null,
   "metadata": {},
   "outputs": [],
   "source": []
  }
 ],
 "metadata": {
  "kernelspec": {
   "display_name": "Python 3",
   "language": "python",
   "name": "python3"
  },
  "language_info": {
   "codemirror_mode": {
    "name": "ipython",
    "version": 3
   },
   "file_extension": ".py",
   "mimetype": "text/x-python",
   "name": "python",
   "nbconvert_exporter": "python",
   "pygments_lexer": "ipython3",
   "version": "3.8.2"
  }
 },
 "nbformat": 4,
 "nbformat_minor": 4
}
