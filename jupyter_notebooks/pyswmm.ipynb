{
 "cells": [
  {
   "cell_type": "code",
   "execution_count": 6,
   "metadata": {
    "scrolled": true
   },
   "outputs": [
    {
     "name": "stdout",
     "output_type": "stream",
     "text": [
      "   Parameter      Min      Max      Range\n",
      "0    NImperv  0.01000    0.025    0.01500\n",
      "1      NPerv  0.05000    0.500    0.45000\n",
      "2    SImperv  1.27000    2.540    1.27000\n",
      "3      SPerv  2.54000    5.080    2.54000\n",
      "4    PctZero  0.01000  100.000   99.99000\n",
      "5    MaxRate  8.46000  127.000  118.54000\n",
      "6    MinRate  0.25400   10.920   10.66600\n",
      "7      Decay  2.00000    7.000    5.00000\n",
      "8    DryTime  2.00000   14.000   12.00000\n",
      "9        Por  0.40000    0.500    0.10000\n",
      "10        FC  0.06000    0.380    0.32000\n",
      "11        WP  0.02400    0.265    0.24100\n",
      "12      Ksat  0.25000   12.700   12.45000\n",
      "13     Rough  0.01000    0.026    0.01600\n",
      "14    Kdecay  0.00274    0.200    0.19726\n",
      "15   BCoeff2  0.50000    2.000    1.50000\n",
      "16   WCoeff2  0.06600    0.214    0.14800\n",
      "['NImperv', 'NPerv', 'SImperv', 'SPerv', 'PctZero', 'MaxRate', 'MinRate', 'Decay', 'DryTime', 'Por', 'FC', 'WP', 'Ksat', 'Rough', 'Kdecay', 'BCoeff2', 'WCoeff2']\n"
     ]
    }
   ],
   "source": [
    "# ------------------------------------------------------------------\n",
    "# Latin Hypercube sampling of parameters for SWMM\n",
    "# ------------------------------------------------------------------\n",
    "\n",
    "# setup environment\n",
    "import os, pandas\n",
    "from pyDOE import *\n",
    "from scipy.stats import uniform\n",
    "\n",
    "# number of simulations\n",
    "nsims = 5\n",
    "\n",
    "# specify locations\n",
    "dir_path = r'C:\\Users\\echelsvi\\git\\chelsvig_urban_pesticides\\probabilistic_python'\n",
    "\n",
    "\n",
    "# import parameter ranges table\n",
    "param_ranges = pandas.read_csv(dir_path + r'\\input\\lhs\\lhs_param_ranges.csv')\n",
    "print(param_ranges)\n",
    "\n",
    "# create list of input parameter names\n",
    "param_names = param_ranges[\"Parameter\"].to_list()\n",
    "\n",
    "print(param_names)"
   ]
  },
  {
   "cell_type": "code",
   "execution_count": 9,
   "metadata": {},
   "outputs": [
    {
     "name": "stdout",
     "output_type": "stream",
     "text": [
      "LHS Design w/o Uniform:  \n",
      " [[0.08372126 0.56932874 0.22609245 0.59211193 0.7043749  0.73134671\n",
      "  0.86648872 0.64858891 0.8381087  0.42873285 0.90596128 0.49327766\n",
      "  0.33194576 0.84923585 0.12692236 0.37471826 0.77057259]\n",
      " [0.72334743 0.31917431 0.50545646 0.28618269 0.23838072 0.18885884\n",
      "  0.08036842 0.44782127 0.79002958 0.64043985 0.22348655 0.24310132\n",
      "  0.52659685 0.48513174 0.53199176 0.04759995 0.56135356]\n",
      " [0.47535153 0.78958275 0.61523211 0.9032579  0.87404148 0.40178578\n",
      "  0.27185129 0.89717201 0.33072738 0.82459546 0.56360283 0.941595\n",
      "  0.84775994 0.13350424 0.62697605 0.59187398 0.94791902]\n",
      " [0.96916463 0.03985515 0.93863804 0.19044443 0.03687579 0.99193021\n",
      "  0.58080259 0.19358544 0.10770522 0.04483298 0.66523434 0.64413708\n",
      "  0.6167179  0.37411552 0.87893584 0.78786711 0.04498669]\n",
      " [0.34425077 0.83916533 0.10125815 0.72481259 0.50801991 0.39790974\n",
      "  0.75392753 0.24114972 0.56794023 0.20478916 0.14868322 0.09617598\n",
      "  0.13777138 0.78551072 0.33256245 0.88692889 0.37467874]]\n"
     ]
    }
   ],
   "source": [
    "# conduct lhs sampling\n",
    "lhs_design = lhs(n=len(param_names), samples=nsims)\n",
    "print(\"LHS Design w/o Uniform: \",\"\\n\",lhs_design)"
   ]
  },
  {
   "cell_type": "code",
   "execution_count": 8,
   "metadata": {},
   "outputs": [
    {
     "name": "stdout",
     "output_type": "stream",
     "text": [
      "    NImperv     NPerv   SImperv     SPerv    PctZero     MaxRate   MinRate  \\\n",
      "0  0.016881  0.489652  2.488307  3.705231  94.042200  105.452867  5.759071   \n",
      "1  0.018977  0.288140  2.314218  4.826943  42.487528   62.776264  9.729993   \n",
      "2  0.023868  0.243947  2.266181  3.165704  27.318316   88.616264  9.015230   \n",
      "3  0.021553  0.334412  2.519737  2.749294  78.124526   83.989765  8.884301   \n",
      "4  0.024086  0.157732  1.438034  3.582087  16.308486   17.634985  8.618570   \n",
      "\n",
      "      Decay    DryTime       Por        FC        WP      Ksat     Rough  \\\n",
      "0  2.239864  10.288955  0.450564  0.248547  0.107508  8.341690  0.011277   \n",
      "1  2.741675  10.171147  0.467317  0.205585  0.138098  1.934563  0.025110   \n",
      "2  4.169024   9.736425  0.453622  0.271300  0.195341  6.537758  0.016252   \n",
      "3  4.108215  13.113435  0.427724  0.207613  0.049273  5.121790  0.020609   \n",
      "4  5.720132  13.493899  0.461554  0.269937  0.036231  5.375409  0.014929   \n",
      "\n",
      "     Kdecay   BCoeff2   WCoeff2  \n",
      "0  0.171869  1.908153  0.635240  \n",
      "1  0.163383  1.272160  0.248024  \n",
      "2  0.186597  1.291008  0.005693  \n",
      "3  0.079339  1.862219  0.411684  \n",
      "4  0.165907  1.605371  0.907992  \n"
     ]
    }
   ],
   "source": [
    "# parameter conditions:\n",
    "# por >= fc, fc >= wp, \n",
    "\n",
    "for i in range(0,len(param_names)-1):\n",
    "    \n",
    "    if i = 10:\n",
    "        # [0,1] = [loc, loc + scale] \n",
    "        lhs_design[:,i] = uniform.rvs(loc=lhs_design.loc[9,\"Min\"], scale=param_ranges.loc[i,\"Range\"], size=nsims)\n",
    "    \n",
    "    elif i = 11:\n",
    "        lhs_design[:,i] = uniform.rvs(loc=lhs_design.loc[10,\"Min\"], scale=param_ranges.loc[i,\"Range\"], size=nsims)\n",
    "    \n",
    "    else:  \n",
    "        lhs_design[:,i] = uniform.rvs(loc=param_ranges.loc[i,\"Min\"], scale=param_ranges.loc[i,\"Range\"], size=nsims)\n",
    "\n",
    "\n",
    "# convert to data frame\n",
    "lhs_df = pandas.DataFrame(lhs_design, columns=param_names)\n",
    "print(lhs_df)"
   ]
  },
  {
   "cell_type": "code",
   "execution_count": null,
   "metadata": {},
   "outputs": [],
   "source": [
    "# write out\n",
    "lhs_df.to_csv(dir_path + r'\\io\\lhs_sampled_params.csv')"
   ]
  }
 ],
 "metadata": {
  "kernelspec": {
   "display_name": "Python 3",
   "language": "python",
   "name": "python3"
  },
  "language_info": {
   "codemirror_mode": {
    "name": "ipython",
    "version": 3
   },
   "file_extension": ".py",
   "mimetype": "text/x-python",
   "name": "python",
   "nbconvert_exporter": "python",
   "pygments_lexer": "ipython3",
   "version": "3.8.2"
  }
 },
 "nbformat": 4,
 "nbformat_minor": 4
}
