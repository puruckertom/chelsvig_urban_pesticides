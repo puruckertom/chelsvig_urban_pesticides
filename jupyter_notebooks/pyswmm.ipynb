{
 "cells": [
  {
   "cell_type": "code",
   "execution_count": 1,
   "metadata": {
    "scrolled": true
   },
   "outputs": [
    {
     "name": "stdout",
     "output_type": "stream",
     "text": [
      "C:\\Users\\echelsvi\\git\\chelsvig_urban_pesticides\\probabilistic_python\\input\\swmm\n",
      "C:\\Users\\echelsvi\\git\\chelsvig_urban_pesticides\\probabilistic_python\\input\\swmm\\NPlesantCreek.rpt\n",
      "C:\\Users\\echelsvi\\git\\chelsvig_urban_pesticides\\probabilistic_python\\input\\swmm\\NPlesantCreek.inp\n",
      "C:\\Users\\echelsvi\\git\\chelsvig_urban_pesticides\\probabilistic_python\\input\\vvwm\n",
      "C:\\Users\\echelsvi\\git\\chelsvig_urban_pesticides\\probabilistic_python\\exe\n"
     ]
    }
   ],
   "source": [
    "# ------------------------------------------------------------------------------------------\n",
    "# read swmm .rpt output file, and store desired outputs\n",
    "# ------------------------------------------------------------------------------------------\n",
    "\n",
    "# setup\n",
    "import pandas, os, glob, shutil, subprocess, sys\n",
    "from subprocess import Popen, PIPE\n",
    "\n",
    "# specify locations\n",
    "dir_path = r'C:\\Users\\echelsvi\\git\\chelsvig_urban_pesticides\\probabilistic_python'\n",
    "\n",
    "\n",
    "swmm_path = dir_path + r'\\input\\swmm'\n",
    "print(swmm_path)\n",
    "swmm_file = swmm_path + r'\\NPlesantCreek.rpt'\n",
    "print(swmm_file)\n",
    "inp_file = swmm_path + r'\\NPlesantCreek.inp'\n",
    "print(inp_file)\n",
    "vvwm_path = dir_path + r'\\input\\vvwm'\n",
    "print(vvwm_path)\n",
    "exe_path = dir_path + r'\\exe'\n",
    "print(exe_path)\n",
    "wet_path = dir_path + r'\\weather\\vvwm'\n",
    "\n",
    "#outfalls = ['\\outfall_31_26', '\\outfall_31_28', '\\outfall_31_29', '\\outfall_31_35',\n",
    " #           '\\outfall_31_36', '\\outfall_31_38', '\\outfall_31_42',]\n",
    "\n",
    "outfalls = ['\\outfall_31_26']"
   ]
  },
  {
   "cell_type": "code",
   "execution_count": 6,
   "metadata": {},
   "outputs": [
    {
     "name": "stdout",
     "output_type": "stream",
     "text": [
      "C:\\Users\\echelsvi\\git\\chelsvig_urban_pesticides\\probabilistic_python\\weather\\vvwm\\weather_STA01.dvf\n",
      "C:\\Users\\echelsvi\\git\\chelsvig_urban_pesticides\\probabilistic_python\\input\\vvwm\\outfall_31_26\\determ\\weather_STA01.dvf\n",
      "C:\\Users\\echelsvi\\git\\chelsvig_urban_pesticides\\probabilistic_python\\input\\vvwm\\outfall_31_26\\determ\\VVWM.exe C:\\Users\\echelsvi\\git\\chelsvig_urban_pesticides\\probabilistic_python\\input\\vvwm\\outfall_31_26\\determ\\vvwmTransfer.txt\n"
     ]
    }
   ],
   "source": [
    "for o in outfalls:\n",
    "    # set pathways\n",
    "    outfall_path = vvwm_path + o\n",
    "    determ = outfall_path + r'\\determ'\n",
    "\n",
    "    # assign weather files to respective outfalls\n",
    "    if o == '\\outfall_31_26' or o == '\\outfall_31_28' or o == '\\outfall_31_29' or o == '\\outfall_31_42':\n",
    "        # copy weather file into new file location\n",
    "        old_wet = wet_path + r'\\weather_STA01.dvf'\n",
    "        print(old_wet)\n",
    "        new_wet = determ + r'\\weather_STA01.dvf'\n",
    "        print(new_wet)\n",
    "        shutil.copyfile(old_wet, new_wet)\n",
    "\n",
    "    elif o == '\\outfall_31_36':\n",
    "        # copy weather file into new file location\n",
    "        old_wet = wet_path + r'\\weather_p1572.dvf'\n",
    "        print(old_wet)\n",
    "        new_wet = determ + r'\\weather_p1572.dvf'\n",
    "        print(new_wet)\n",
    "        shutil.copyfile(old_wet, new_wet)\n",
    "\n",
    "    elif o == '\\outfall_31_35':\n",
    "        old_wet = wet_path + r'\\weather_P1601.dvf'\n",
    "        print(old_wet)\n",
    "        new_wet = determ + r'\\weather_P1601.dvf'\n",
    "        print(new_wet)\n",
    "        shutil.copyfile(old_wet, new_wet)\n",
    "\n",
    "    elif o == '\\outfall_31_38':\n",
    "        old_wet = wet_path + r'\\weather_P1602.dvf'\n",
    "        print(old_wet)\n",
    "        new_wet = determ + r'\\weather_P1602.dvf'\n",
    "        print(new_wet)\n",
    "        shutil.copyfile(old_wet, new_wet)\n",
    "\n",
    "    # copy exe into new file location\n",
    "    old_exe = os.path.join(exe_path, \"VVWM.exe\")\n",
    "    new_exe = os.path.join(determ, \"VVWM.exe\")\n",
    "    shutil.copyfile(old_exe, new_exe)\n",
    "\n",
    "    # copy vvwmTransfer.txt file into new location\n",
    "    old_file = os.path.join(vvwm_path, \"vvwmTransfer.txt\")\n",
    "    new_file = os.path.join(determ, \"vvwmTransfer.txt\")\n",
    "    shutil.copyfile(old_file, new_file)\n",
    "\n",
    "    # read the new file, and update file pathways\n",
    "    this_vvwm = open(new_file, \"r\")\n",
    "    filelines = this_vvwm.readlines()\n",
    "\n",
    "    filelines[0] = determ + r'\\output.zts' + \"\\n\"\n",
    "    # pathway for respective weather file\n",
    "    if o == '\\outfall_31_26' or o == '\\outfall_31_28' or o == '\\outfall_31_29' or o == '\\outfall_31_42':\n",
    "        filelines[29] = determ + r'\\weather_STA01.dvf' + \"\\n\"\n",
    "    elif o == '\\outfall_31_36':\n",
    "        filelines[29] = determ + r'\\weather_p1572.dvf' + \"\\n\"\n",
    "    elif o == '\\outfall_31_35':\n",
    "        filelines[29] = determ + r'\\weather_P1601.dvf' + \"\\n\"\n",
    "    elif o == '\\outfall_31_38':\n",
    "        filelines[29] = determ + r'\\weather_P1602.dvf' + \"\\n\"\n",
    "    filelines[68] = determ + r'\\output_NPlesant_Custom_parent_daily.csv' + \"\\n\"\n",
    "    filelines[69] = determ + r'\\output_NPlesant_Custom_deg1_daily.csv' + \"\\n\"\n",
    "    filelines[70] = determ + r'\\output_NPlesant_Custom_deg2_daily.csv' + \"\\n\"\n",
    "    filelines[71] = determ + r'\\output_NPlesant_Custom_parent_analysis.txt' + \"\\n\"\n",
    "    filelines[72] = determ + r'\\output_NPlesant_Custom_deg1_analysis.txt' + \"\\n\"\n",
    "    filelines[73] = determ + r'\\output_NPlesant_Custom_deg2_analysis.txt' + \"\\n\"\n",
    "    filelines[74] = determ + r'\\output_NPlesant_Custom_parent_deem.rdf' + \"\\n\"\n",
    "    filelines[75] = determ + r'\\output_NPlesant_Custom_deg1_deem.rdf' + \"\\n\"\n",
    "    filelines[76] = determ + r'\\output_NPlesant_Custom_deg2_deem.rdf' + \"\\n\"\n",
    "    filelines[77] = determ + r'\\output_NPlesant_Custom_parent_calendex.rdf' + \"\\n\"\n",
    "    filelines[78] = determ + r'\\output_NPlesant_Custom_deg1_calendex.rdf' + \"\\n\"\n",
    "    filelines[79] = determ + r'\\output_NPlesant_Custom_deg2_calendex.rdf' + \"\\n\"\n",
    "    filelines[80] = determ + r'\\output_NPlesant_Custom_parent_esa.txt' + \"\\n\"\n",
    "    filelines[81] = determ + r'\\output_NPlesant_Custom_deg1_esa.txt' + \"\\n\"\n",
    "    filelines[82] = determ + r'\\output_NPlesant_Custom_deg2_esa.txt' + \"\\n\"\n",
    "\n",
    "    # copy, write out file\n",
    "    this_vvwm = open(new_file, \"w\")\n",
    "    this_vvwm.writelines(filelines)\n",
    "    this_vvwm.close()\n",
    "\n",
    "    # todo get the executable to work with python code\n",
    "    # run vvwm.exe (vvwm.exe \"inputfilename\")\n",
    "    command = new_exe + \" \" + new_file\n",
    "    print(command)\n",
    "    subprocess.call(command)"
   ]
  },
  {
   "cell_type": "code",
   "execution_count": null,
   "metadata": {},
   "outputs": [],
   "source": []
  }
 ],
 "metadata": {
  "kernelspec": {
   "display_name": "Python 3",
   "language": "python",
   "name": "python3"
  },
  "language_info": {
   "codemirror_mode": {
    "name": "ipython",
    "version": 3
   },
   "file_extension": ".py",
   "mimetype": "text/x-python",
   "name": "python",
   "nbconvert_exporter": "python",
   "pygments_lexer": "ipython3",
   "version": "3.8.2"
  }
 },
 "nbformat": 4,
 "nbformat_minor": 4
}
