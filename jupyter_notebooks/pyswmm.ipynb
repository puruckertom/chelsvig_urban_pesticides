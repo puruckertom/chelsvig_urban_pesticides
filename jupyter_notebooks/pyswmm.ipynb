{
 "cells": [
  {
   "cell_type": "code",
   "execution_count": 24,
   "metadata": {
    "scrolled": true
   },
   "outputs": [
    {
     "name": "stdout",
     "output_type": "stream",
     "text": [
      "C:\\Users\\echelsvi\\git\\chelsvig_urban_pesticides\\probabilistic_python\\input\\swmm\n",
      "C:\\Users\\echelsvi\\git\\chelsvig_urban_pesticides\\probabilistic_python\\input\\swmm\\NPlesantCreek.rpt\n",
      "C:\\Users\\echelsvi\\git\\chelsvig_urban_pesticides\\probabilistic_python\\input\\swmm\\NPlesantCreek.inp\n",
      "C:\\Users\\echelsvi\\git\\chelsvig_urban_pesticides\\probabilistic_python\\input\\vvwm\n",
      "C:\\Users\\echelsvi\\git\\chelsvig_urban_pesticides\\probabilistic_python\\exe\n"
     ]
    }
   ],
   "source": [
    "# ------------------------------------------------------------------------------------------\n",
    "# read swmm .rpt output file, and store desired outputs\n",
    "# ------------------------------------------------------------------------------------------\n",
    "\n",
    "# setup\n",
    "import pandas, os, glob, shutil, subprocess, sys\n",
    "from subprocess import Popen, PIPE\n",
    "\n",
    "# specify locations\n",
    "dir_path = r'C:\\Users\\echelsvi\\git\\chelsvig_urban_pesticides\\probabilistic_python'\n",
    "\n",
    "\n",
    "swmm_path = dir_path + r'\\input\\swmm'\n",
    "print(swmm_path)\n",
    "swmm_file = swmm_path + r'\\NPlesantCreek.rpt'\n",
    "print(swmm_file)\n",
    "inp_file = swmm_path +  r'\\NPlesantCreek.inp'\n",
    "print(inp_file)\n",
    "vvwm_path = dir_path + r'\\input\\vvwm'\n",
    "print(vvwm_path)\n",
    "exe_path = dir_path + r'\\exe'\n",
    "print(exe_path)\n",
    "\n",
    "#outfalls = ['\\outfall_31_26', '\\outfall_31_28', '\\outfall_31_29', '\\outfall_31_35',\n",
    " #           '\\outfall_31_36', '\\outfall_31_38', '\\outfall_31_42',]\n",
    "\n",
    "outfalls = ['\\outfall_31_26']"
   ]
  },
  {
   "cell_type": "code",
   "execution_count": 25,
   "metadata": {},
   "outputs": [
    {
     "name": "stdout",
     "output_type": "stream",
     "text": [
      "C:\\Users\\echelsvi\\git\\chelsvig_urban_pesticides\\probabilistic_python\\input\\vvwm\\17719_grid.wea\n",
      "C:\\Users\\echelsvi\\git\\chelsvig_urban_pesticides\\probabilistic_python\\input\\vvwm\\outfall_31_26\\determ\\17719_grid.wea\n"
     ]
    }
   ],
   "source": [
    "for o in outfalls:\n",
    "    # set pathways\n",
    "    outfall_path = vvwm_path + o\n",
    "    determ = outfall_path + r'\\determ'\n",
    "\n",
    "    # copy weather file into new file location\n",
    "    old_wet = vvwm_path + r'\\17719_grid.wea'\n",
    "    print(old_wet)\n",
    "    new_wet = determ + r'\\17719_grid.wea'\n",
    "    print(new_wet)\n",
    "    shutil.copyfile(old_wet, new_wet)\n",
    "    \n",
    "    # copy exe into new file location\n",
    "    old_exe = os.path.join(exe_path, \"VVWM.exe\")\n",
    "    new_exe = os.path.join(determ, \"VVWM.exe\")\n",
    "    shutil.copyfile(old_exe, new_exe)\n",
    "\n",
    "    # copy vvwmTransfer.txt file into new location\n",
    "    old_file = os.path.join(vvwm_path, \"vvwmTransfer.txt\")\n",
    "    new_file = os.path.join(determ, \"vvwmTransfer.txt\")\n",
    "    shutil.copyfile(old_file, new_file)\n",
    "    \n",
    "    # read the new file, and update file pathways\n",
    "    this_vvwm = open(new_file, \"r\")\n",
    "    filelines = this_vvwm.readlines()\n",
    "    \n",
    "    filelines[0] = determ + r'\\output.zts' + \"\\n\"\n",
    "    filelines[29] = determ + r'\\17719_grid.wea'+ \"\\n\"\n",
    "    filelines[68] = determ + r'\\output_NPlesantCreek_Custom_Parent_daily.csv' + \"\\n\"\n",
    "    filelines[69] = determ + r'\\output_NPlesantCreek_Custom_Degradate1_daily.csv'+ \"\\n\"\n",
    "    filelines[70] = determ + r'\\output_NPlesantCreek_Custom_Degradate2_daily.csv'+ \"\\n\"\n",
    "    filelines[71] = determ + r'\\output_NPlesantCreek_Custom_Parent.txt'+ \"\\n\"\n",
    "    filelines[72] = determ + r'\\output_NPlesantCreek_Custom_Degradate1.txt'+ \"\\n\"\n",
    "    filelines[73] = determ + r'\\output_NPlesantCreek_Custom_Degradate2.txt'+ \"\\n\"\n",
    "    filelines[74] = determ + r'\\output_NPlesantCreek_Custom_Parent_DEEM.rdf'+ \"\\n\"\n",
    "    filelines[75] = determ + r'\\output_NPlesantCreek_Custom_Degradate1_DEEM.rdf'+ \"\\n\"\n",
    "    filelines[76] = determ + r'\\output_NPlesantCreek_Custom_Degradate2_DEEM.rdf'+ \"\\n\"\n",
    "    filelines[77] = determ + r'\\output_NPlesantCreek_Custom_Parent_Calendex.rdf'+ \"\\n\"\n",
    "    filelines[78] = determ + r'\\output_NPlesantCreek_Custom_Degradate1_Calendex.rdf'+ \"\\n\"\n",
    "    filelines[79] = determ + r'\\output_NPlesantCreek_Custom_Degradate2_Calendex.rdf'+ \"\\n\"\n",
    "    filelines[80] = determ + r'\\output_NPlesantCreek_Custom_15_Parent.txt'+ \"\\n\"\n",
    "    filelines[81] = determ + r'\\output_NPlesantCreek_Custom_15_Degradate1.txt'+ \"\\n\"\n",
    "    filelines[82] = determ + r'\\output_NPlesantCreek_Custom_15_Degradate2.txt'+ \"\\n\"\n",
    "\n",
    "   # copy, write out file\n",
    "    this_vvwm = open(new_file, \"w\")\n",
    "    this_vvwm.writelines(filelines)\n",
    "    this_vvwm.close()\n"
   ]
  },
  {
   "cell_type": "code",
   "execution_count": 20,
   "metadata": {},
   "outputs": [
    {
     "data": {
      "text/plain": [
       "{'_waitpid_lock': <unlocked _thread.lock object at 0x000001D82A9AD5A0>,\n",
       " '_input': None,\n",
       " '_communication_started': False,\n",
       " 'args': 'C:\\\\Users\\\\echelsvi\\\\git\\\\chelsvig_urban_pesticides\\\\probabilistic_python\\\\input\\\\vvwm\\\\outfall_31_26\\\\determ\\\\VVWM.exe',\n",
       " 'stdin': None,\n",
       " 'stdout': <_io.BufferedReader name=5>,\n",
       " 'stderr': <_io.BufferedReader name=6>,\n",
       " 'pid': 16220,\n",
       " 'returncode': None,\n",
       " 'encoding': None,\n",
       " 'errors': None,\n",
       " 'text_mode': None,\n",
       " '_sigint_wait_secs': 0.25,\n",
       " '_closed_child_pipe_fds': True,\n",
       " '_child_created': True,\n",
       " '_handle': Handle(2376)}"
      ]
     },
     "execution_count": 20,
     "metadata": {},
     "output_type": "execute_result"
    }
   ],
   "source": [
    "    \n",
    "    # run vvwm.exe\n",
    "    transfile = determ + r'\\vvwmTransfer.txt'\n",
    "    s = subprocess.Popen(new_exe, stdin=open(transfile), stdout=subprocess.PIPE, stderr=subprocess.PIPE)"
   ]
  },
  {
   "cell_type": "code",
   "execution_count": null,
   "metadata": {},
   "outputs": [],
   "source": []
  }
 ],
 "metadata": {
  "kernelspec": {
   "display_name": "Python 3",
   "language": "python",
   "name": "python3"
  },
  "language_info": {
   "codemirror_mode": {
    "name": "ipython",
    "version": 3
   },
   "file_extension": ".py",
   "mimetype": "text/x-python",
   "name": "python",
   "nbconvert_exporter": "python",
   "pygments_lexer": "ipython3",
   "version": "3.8.2"
  }
 },
 "nbformat": 4,
 "nbformat_minor": 4
}
