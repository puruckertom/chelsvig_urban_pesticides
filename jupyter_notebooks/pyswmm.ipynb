{
 "cells": [
  {
   "cell_type": "code",
   "execution_count": 18,
   "metadata": {
    "scrolled": true
   },
   "outputs": [
    {
     "name": "stdout",
     "output_type": "stream",
     "text": [
      "C:\\Users\\echelsvi\\git\\chelsvig_urban_pesticides\\probabilistic_python\\input\\swmm\n",
      "C:\\Users\\echelsvi\\git\\chelsvig_urban_pesticides\\probabilistic_python\\input\\swmm\\NPlesantCreek.out\n",
      "C:\\Users\\echelsvi\\git\\chelsvig_urban_pesticides\\probabilistic_python\\input\\swmm\\NPlesantCreek.inp\n",
      "C:\\Users\\echelsvi\\git\\chelsvig_urban_pesticides\\probabilistic_python\\input\\vvwm\n"
     ]
    }
   ],
   "source": [
    "# ------------------------------------------------------------------------------------------\n",
    "# read swmm .rpt output file, and store desired outputs\n",
    "# ------------------------------------------------------------------------------------------\n",
    "\n",
    "\n",
    "# specify locations\n",
    "dir_path = r'C:\\Users\\echelsvi\\git\\chelsvig_urban_pesticides\\probabilistic_python'\n",
    "\n",
    "# setup\n",
    "import pytest_shutil, shutil, os, pandas as pd, regex as re\n",
    "import swmmtoolbox.swmmtoolbox as swmmtoolbox\n",
    "\n",
    "#from swmmtoolbox.Module2 import Module2\n",
    "\n",
    "swmm_path = dir_path + r'\\input\\swmm'\n",
    "print(swmm_path)\n",
    "bin_file = swmm_path + r'\\NPlesantCreek.out'\n",
    "print(bin_file)\n",
    "inp_file = swmm_path + r'\\NPlesantCreek.inp'\n",
    "print(inp_file)\n",
    "vvwm_path = dir_path + r'\\input\\vvwm'\n",
    "print(vvwm_path)\n",
    "\n",
    "outfalls = ['\\outfall_31_26', '\\outfall_31_28', '\\outfall_31_29', '\\outfall_31_35',\n",
    "            '\\outfall_31_36', '\\outfall_31_38', '\\outfall_31_42',]\n"
   ]
  },
  {
   "cell_type": "code",
   "execution_count": 15,
   "metadata": {
    "scrolled": true
   },
   "outputs": [],
   "source": [
    "# displays version number and system info\n",
    "#swmmtoolbox.about()\n",
    "\n",
    "# list the catalog of objects in output file\n",
    "# list all available labels for the extract function\n",
    "# swmmtoolbox.catalog(filename, itemtype='', header='default')\n",
    "#swmmtoolbox.catalog(bin_file, itemtype='', header='default')\n",
    "\n",
    "# list variables available for each type\n",
    "# use this info for the 'var' portion of the 'extract' function parameter\n",
    "# this shows the variable name and its index\n",
    "# swmmtoolbox.listvariables(filename, header='default')\n",
    "#swmmtoolbox.listvariables(bin_file, header='default')\n",
    "\n",
    "# get the time series data for a particular object and variable\n",
    "#swmmtoolbox.extract(filename, *labels)\n",
    "# lables = 'type,name,var'\n",
    "# labels require two commas and no spaces\n",
    "# use 'catalog' and 'listvariables' for var parameters\n",
    "# there is a wild card feature for labels, where leaving the part out\n",
    "#   will return all labels that match all other parts.\n",
    "lab1 = 'subcatchment,,Runoff_rate'\n",
    "lab2 = 'subcatchment,,Bifenthrin'\n",
    "extract_runf = swmmtoolbox.extract(bin_file, lab1)\n",
    "extract_bif = swmmtoolbox.extract(bin_file, lab2)"
   ]
  },
  {
   "cell_type": "code",
   "execution_count": 16,
   "metadata": {},
   "outputs": [],
   "source": [
    "# write out swmm outputs\n",
    "extract_runf.to_csv(swmm_path + r'\\swmm_output_runf.csv')\n",
    "extract_bif.to_csv(swmm_path + r'\\swmm_output_bif.csv')"
   ]
  },
  {
   "cell_type": "code",
   "execution_count": 34,
   "metadata": {},
   "outputs": [],
   "source": [
    "# read file back in, remove date/time col\n",
    "swmmout_runf = pd.read_csv(swmm_path + r'\\swmm_output_runf.csv') \n",
    "swmmout_runf = swmmout_runf.drop(['Unnamed: 0'], axis=1)\n",
    "swmmout_bif = pd.read_csv(swmm_path + r'\\swmm_output_bif.csv')\n",
    "swmmout_bif = swmmout_bif.drop(['Unnamed: 0'], axis=1)"
   ]
  },
  {
   "cell_type": "code",
   "execution_count": 35,
   "metadata": {},
   "outputs": [],
   "source": [
    "# copy\n",
    "runf_to_conv = swmmout_runf.copy()\n",
    "bif_to_conv = swmmout_bif.copy()"
   ]
  },
  {
   "cell_type": "code",
   "execution_count": 36,
   "metadata": {},
   "outputs": [
    {
     "name": "stdout",
     "output_type": "stream",
     "text": [
      "113\n"
     ]
    }
   ],
   "source": [
    "# specify loop variables\n",
    "runf_df_cols = len(runf_to_conv.columns)  # 113\n",
    "runf_df_rows = len(runf_to_conv)  # 78887\n",
    "bif_df_cols = len(bif_to_conv.columns)\n",
    "bif_df_rows = len(bif_to_conv)"
   ]
  },
  {
   "cell_type": "code",
   "execution_count": 37,
   "metadata": {},
   "outputs": [],
   "source": [
    "# read in the .inp file subcatchment areas\n",
    "file = open(inp_file, \"r\")\n",
    "\n",
    "# create blank list to hold subcatchment areas\n",
    "sub_list_area = []\n",
    "\n",
    "# skip x lines\n",
    "lines1 = file.readlines()[55:]\n",
    "\n",
    "for thissub in range(0, 113):\n",
    "    # grab the area\n",
    "    thisline = lines1[thissub]\n",
    "    fixline = \" \".join(thisline.split())\n",
    "    listline = fixline.split()\n",
    "    area = listline[3]\n",
    "    area = float(area)\n",
    "\n",
    "    # insert into blank list\n",
    "    sub_list_area.append(area)"
   ]
  },
  {
   "cell_type": "code",
   "execution_count": 38,
   "metadata": {},
   "outputs": [],
   "source": [
    "# conversion for runf\n",
    "for c in range(0, runf_df_cols):\n",
    "    col_name = \"subcatchment_S\" + str(c + 1) + \"_Runoff_rate\"\n",
    "\n",
    "    # define subcatchment's area\n",
    "    this_area = sub_list_area[c]\n",
    "\n",
    "    # perform conversion\n",
    "    runf_to_conv[col_name] = (runf_to_conv[col_name] * 86400 * 0.01) / this_area\n"
   ]
  },
  {
   "cell_type": "code",
   "execution_count": null,
   "metadata": {},
   "outputs": [],
   "source": [
    "# conversion for bifenthrin conc.\n",
    "for c in range(0, bif_df_cols):\n",
    "\n",
    "    # define subcatchment's area\n",
    "    this_area = sub_list_area[c]\n",
    "\n",
    "    for r in range(0, bif_df_rows):\n",
    "        # define the runoff value (m3/day)\n",
    "        this_runf = swmmout_runf.iloc[r, c] * 864000\n",
    "\n",
    "        # compute g/ha/day\n",
    "        bif_to_conv.iloc[r, c] = ((bif_to_conv.iloc[r, c]) * 1000 * this_runf) / (1.0e6 * this_area)\n"
   ]
  },
  {
   "cell_type": "code",
   "execution_count": null,
   "metadata": {},
   "outputs": [],
   "source": [
    "# subset subcatchment outputs for each vvwm\n",
    "for o in outfalls:\n",
    "    # set pathways\n",
    "    outfall_path = vvwm_path + o\n",
    "    determ_inputs = outfall_path + r'\\determ'\n",
    "    outfall_file = outfall_path + o + r'.csv'\n",
    "\n",
    "    # declare which columns need to be subset for the respective outfall\n",
    "    sub_file = pd.read_csv(outfall_file)\n",
    "    sublist = sub_file['Subcatchment_ID'].tolist()\n",
    "\n",
    "    collist = [x - 1 for x in sublist]  # columns to subset from df\n",
    "    \n",
    "    # subset\n",
    "    runf_sub = runf_conv.iloc[:, collist]\n",
    "    bif_sub = bif_conv.iloc[:, collist]\n",
    "\n",
    "    # add a total sum column\n",
    "    runf_sub[\"runf_sum\"] = runf_sub.sum(axis=1)\n",
    "    bif_sub[\"bif_sum\"] = bif_sub.sum(axis=1)\n",
    "    \n",
    "    # add a date column\n",
    "    runf_sub['date'] = pd.date_range(start='1/1/2009', periods=len(runf_sub), freq='D')\n",
    "    bif_sub['date'] = pd.date_range(start='1/1/2009', periods=len(bif_sub), freq='D')\n",
    "\n",
    "    # separate date column too\n",
    "    runf_sub['year'] = runf_sub['date'].dt.year\n",
    "    runf_sub['month'] = runf_sub['date'].dt.month\n",
    "    runf_sub['day'] = runf_sub['date'].dt.day\n",
    "\n",
    "    bif_sub['year'] = bif_sub['date'].dt.year\n",
    "    bif_sub['month'] = bif_sub['date'].dt.month\n",
    "    bif_sub['day'] = bif_sub['date'].dt.day\n",
    "\n",
    "    # write out dataframes\n",
    "    substring = outfall_file[102: 111:]\n",
    "    runf_out = determ_inputs + r'\\runf_' + substring\n",
    "    bif_out = determ_inputs + r'\\bif_' + substring\n",
    "    runf_sub.to_csv(runf_out)\n",
    "    bif_sub.to_csv(bif_out)"
   ]
  }
 ],
 "metadata": {
  "kernelspec": {
   "display_name": "Python 3",
   "language": "python",
   "name": "python3"
  },
  "language_info": {
   "codemirror_mode": {
    "name": "ipython",
    "version": 3
   },
   "file_extension": ".py",
   "mimetype": "text/x-python",
   "name": "python",
   "nbconvert_exporter": "python",
   "pygments_lexer": "ipython3",
   "version": "3.8.2"
  }
 },
 "nbformat": 4,
 "nbformat_minor": 4
}
