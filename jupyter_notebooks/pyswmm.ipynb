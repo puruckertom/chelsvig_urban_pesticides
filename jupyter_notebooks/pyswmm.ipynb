{
 "cells": [
  {
   "cell_type": "code",
   "execution_count": 74,
   "metadata": {
    "scrolled": true
   },
   "outputs": [
    {
     "name": "stdout",
     "output_type": "stream",
     "text": [
      "C:\\Users\\echelsvi\\git\\chelsvig_urban_pesticides\\probabilistic_python\\input\\swmm\n",
      "C:\\Users\\echelsvi\\git\\chelsvig_urban_pesticides\\probabilistic_python\\input\\vvwm\n",
      "Yup\n"
     ]
    }
   ],
   "source": [
    "# ------------------------------------------------------------------\n",
    "# Latin Hypercube sampling of parameters for SWMM\n",
    "# ------------------------------------------------------------------\n",
    "\n",
    "\n",
    "# specify locations\n",
    "dir_path = r'C:\\Users\\echelsvi\\git\\chelsvig_urban_pesticides\\probabilistic_python'\n",
    "\n",
    "\n",
    "# setup\n",
    "import pandas, os\n",
    "from datetime import date\n",
    "import matplotlib.pyplot as plt\n",
    "\n",
    "swmm_path = dir_path + r'\\input\\swmm'\n",
    "print(swmm_path)\n",
    "vvwm_path = dir_path + r'\\input\\vvwm'\n",
    "print(vvwm_path)\n",
    "\n",
    "outfalls = ['\\outfall_31_26', '\\outfall_31_28', '\\outfall_31_29', '\\outfall_31_35',\n",
    "            '\\outfall_31_36', '\\outfall_31_38', '\\outfall_31_42',]\n",
    "\n",
    "print(\"Yup\")"
   ]
  },
  {
   "cell_type": "code",
   "execution_count": 77,
   "metadata": {},
   "outputs": [
    {
     "name": "stdout",
     "output_type": "stream",
     "text": [
      "      depth  water_conc  benthic_conc  peak_water_conc\n",
      "3277  1.526    537050.0      546190.0         534960.0\n",
      "3278  1.507    539090.0      545790.0         543040.0\n",
      "3279  1.487    540980.0      545420.0         542820.0\n",
      "3280  1.463    539730.0      545080.0         546850.0\n",
      "3281  1.440    540160.0      544720.0         542550.0\n",
      "3282  1.417    538980.0      544380.0         545650.0\n",
      "3283  1.395    538400.0      544030.0         542270.0\n",
      "3284  1.372    542430.0      543710.0         543240.0\n",
      "3285  1.349    541370.0      543430.0         549050.0\n",
      "3286  1.324    539870.0      543130.0         545270.0\n",
      "      year  month  day  daily_flow  daily_solids  daily_pest_runf  \\\n",
      "3277  2017     12   22         0.0             0              0.0   \n",
      "3278  2017     12   23         0.0             0              0.0   \n",
      "3279  2017     12   24         0.0             0              0.0   \n",
      "3280  2017     12   25         0.0             0              0.0   \n",
      "3281  2017     12   26         0.0             0              0.0   \n",
      "3282  2017     12   27         0.0             0              0.0   \n",
      "3283  2017     12   28         0.0             0              0.0   \n",
      "3284  2017     12   29         0.0             0              0.0   \n",
      "3285  2017     12   30         0.0             0              0.0   \n",
      "3286  2017     12   31         0.0             0              0.0   \n",
      "\n",
      "      daily_pest_eros  \n",
      "3277                0  \n",
      "3278                0  \n",
      "3279                0  \n",
      "3280                0  \n",
      "3281                0  \n",
      "3282                0  \n",
      "3283                0  \n",
      "3284                0  \n",
      "3285                0  \n",
      "3286                0  \n"
     ]
    }
   ],
   "source": [
    "o = '\\outfall_31_26'\n",
    "\n",
    "# set pathways\n",
    "outfall_path = vvwm_path + o\n",
    "determ = outfall_path + r'\\determ'\n",
    "vvwm_out = determ + r'\\output_NPlesant_Custom_parent_daily.csv'\n",
    "swmm_out = determ + r'\\output.zts'\n",
    "\n",
    "\n",
    "# read csv (vvwm outputs - water col and benthic zone concentrations)\n",
    "v_output = pandas.read_csv(vvwm_out, header=None, names= [\"depth\", \"water_conc\", \"benthic_conc\", \"peak_water_conc\"], skiprows=5)\n",
    "print(v_output.tail(10))\n",
    "\n",
    "\n",
    "\n",
    "# todo insert a date column, then plot!\n",
    "\n",
    "\n",
    "\n",
    "\n",
    "# read zts (swmm output - pesticide in runf)\n",
    "s_output = pandas.read_table(swmm_out, header=None, sep=\",\", \n",
    "                             names=['year', 'month', 'day', 'daily_flow', 'daily_solids', 'daily_pest_runf', 'daily_pest_eros'], skiprows=3)\n",
    "print(s_output.tail(10))\n",
    "\n",
    "# todo combine date cols into one, then plot!\n",
    "\n",
    "\n",
    "\n",
    "\n",
    "\n",
    "\n"
   ]
  },
  {
   "cell_type": "code",
   "execution_count": null,
   "metadata": {},
   "outputs": [],
   "source": []
  }
 ],
 "metadata": {
  "kernelspec": {
   "display_name": "Python 3",
   "language": "python",
   "name": "python3"
  },
  "language_info": {
   "codemirror_mode": {
    "name": "ipython",
    "version": 3
   },
   "file_extension": ".py",
   "mimetype": "text/x-python",
   "name": "python",
   "nbconvert_exporter": "python",
   "pygments_lexer": "ipython3",
   "version": "3.8.2"
  }
 },
 "nbformat": 4,
 "nbformat_minor": 4
}
