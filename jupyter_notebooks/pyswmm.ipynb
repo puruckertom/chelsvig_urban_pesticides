{
 "cells": [
  {
   "cell_type": "code",
   "execution_count": 20,
   "metadata": {
    "scrolled": true
   },
   "outputs": [
    {
     "name": "stdout",
     "output_type": "stream",
     "text": [
      "C:\\Users\\echelsvi\\git\\chelsvig_urban_pesticides\\probabilistic_python\\input\\swmm\n"
     ]
    }
   ],
   "source": [
    "# ------------------------------------------------------------------------------------------\n",
    "# read swmm .rpt output file, and store desired outputs\n",
    "# ------------------------------------------------------------------------------------------\n",
    "\n",
    "\n",
    "# specify locations\n",
    "dir_path = r'C:\\Users\\echelsvi\\git\\chelsvig_urban_pesticides\\probabilistic_python'\n",
    "\n",
    "# setup\n",
    "import pytest_shutil, shutil, os, pandas, regex as re\n",
    "\n",
    "input_path = dir_path + r'\\input\\swmm'\n",
    "print(input_path)\n"
   ]
  },
  {
   "cell_type": "code",
   "execution_count": 22,
   "metadata": {},
   "outputs": [
    {
     "name": "stdout",
     "output_type": "stream",
     "text": [
      "   Unnamed: 0  NImperv   NPerv  SImperv  SPerv  PctZero  MaxRate  MinRate  \\\n",
      "0           0   0.0179  0.3951    1.363  4.442   15.200   81.273    7.266   \n",
      "1           1   0.0240  0.4807    2.436  3.762   95.290   66.209    0.463   \n",
      "2           2   0.0195  0.4224    2.413  4.308   33.530   45.623    2.983   \n",
      "3           3   0.0109  0.4186    1.762  2.548   55.906   22.503    2.633   \n",
      "4           4   0.0203  0.1720    2.156  4.337    7.964   37.181    7.234   \n",
      "\n",
      "   Decay  DryTime    Por     FC     WP    Ksat   Rough  Kdecay  BCoeff2  \\\n",
      "0   6.26      8.0  0.465  0.361  0.119   1.719  0.0194   0.045    1.584   \n",
      "1   4.04     12.0  0.429  0.163  0.115  10.216  0.0246   0.069    1.340   \n",
      "2   5.50     10.0  0.439  0.323  0.147   9.758  0.0233   0.065    0.934   \n",
      "3   5.10      2.0  0.424  0.312  0.200   3.633  0.0227   0.065    1.584   \n",
      "4   3.30     12.0  0.407  0.153  0.064   6.706  0.0114   0.041    0.600   \n",
      "\n",
      "   WCoeff2  \n",
      "0    0.203  \n",
      "1    0.759  \n",
      "2    0.551  \n",
      "3    0.186  \n",
      "4    0.817  \n",
      "input_1\n",
      "Folder  1 already exists\n",
      "S1               0.013      0.15       2.54       5.08       17         OUTLET    \n",
      "\n"
     ]
    }
   ],
   "source": [
    "\n",
    "# nsims\n",
    "nsims = 1\n",
    "\n",
    "# read in lhs_sampled_params\n",
    "lhs_design = pandas.read_csv(dir_path+r'\\io\\lhs_sampled_params.csv')\n",
    "\n",
    "# round lhs decimals\n",
    "lhs_design = lhs_design.round(\n",
    "    {\"NImperv\": 4, \"NPerv\": 4, \"SImperv\":3, \"SPerv\": 3, \"PctZero\": 3, \"MaxRate\": 3, \"MinRate\": 3, \"Decay\": 2, \"DryTime\": 0,\n",
    "     \"Por\": 3, \"WP\": 3, \"FC\": 3, \"Ksat\": 3, \"Rough\": 4, \"Kdecay\": 3, \"BCoeff2\": 3, \"WCoeff2\": 3})\n",
    "print(lhs_design.head())\n",
    "\n",
    "# do the following for each simulation...\n",
    "for Ite in range(1, nsims+1):\n",
    "    newfol = \"input_\" + str(Ite)\n",
    "    print(newfol)\n",
    "\n",
    "    newdir = os.path.join(input_path, newfol)\n",
    "\n",
    "    if not os.path.exists(newdir):\n",
    "        os.mkdir(newdir)\n",
    "        print(\"Folder \", Ite, \" created\", \"\\n\")\n",
    "    else:\n",
    "        print(\"Folder \", Ite, \"already exists\")\n",
    "\n",
    "    os.getcwd()\n",
    "    os.chdir(newdir)\n",
    "\n",
    "    # copy base file into new file location\n",
    "    old_swmm5 = os.path.join(input_path, \"NPlesantCreek.inp\")\n",
    "    new_file = os.path.join(newdir, \"NPlesantCreek.inp\")\n",
    "    shutil.copyfile(old_swmm5, new_file)\n",
    "\n",
    "    # start reading the new file\n",
    "    new_swmm5 = open(new_file, \"r\")\n",
    "    filelines = new_swmm5.readlines()\n",
    "\n",
    "    # edit the new file\n",
    "    # ---------------------------\n",
    "    # parameter = NImperv\n",
    "    # ---------------------------\n",
    "    Num = 113  # number of subcatchments\n",
    "    row_0 = 172\n",
    "    print(filelines[row_0])"
   ]
  },
  {
   "cell_type": "code",
   "execution_count": null,
   "metadata": {},
   "outputs": [],
   "source": []
  }
 ],
 "metadata": {
  "kernelspec": {
   "display_name": "Python 3",
   "language": "python",
   "name": "python3"
  },
  "language_info": {
   "codemirror_mode": {
    "name": "ipython",
    "version": 3
   },
   "file_extension": ".py",
   "mimetype": "text/x-python",
   "name": "python",
   "nbconvert_exporter": "python",
   "pygments_lexer": "ipython3",
   "version": "3.8.2"
  }
 },
 "nbformat": 4,
 "nbformat_minor": 4
}
