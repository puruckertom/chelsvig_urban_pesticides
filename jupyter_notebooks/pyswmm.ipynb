{
 "cells": [
  {
   "cell_type": "code",
   "execution_count": 1,
   "metadata": {
    "scrolled": true
   },
   "outputs": [
    {
     "name": "stdout",
     "output_type": "stream",
     "text": [
      "C:\\Users\\echelsvi\\git\\chelsvig_urban_pesticides\\probabilistic_python\\input\\swmm\n",
      "C:\\Users\\echelsvi\\git\\chelsvig_urban_pesticides\\probabilistic_python\\input\\swmm\\NPlesantCreek.out\n",
      "C:\\Users\\echelsvi\\git\\chelsvig_urban_pesticides\\probabilistic_python\\input\\swmm\\NPlesantCreek.inp\n",
      "C:\\Users\\echelsvi\\git\\chelsvig_urban_pesticides\\probabilistic_python\\input\\vvwm\n"
     ]
    }
   ],
   "source": [
    "# ------------------------------------------------------------------------------------------\n",
    "# read swmm .rpt output file, and store desired outputs\n",
    "# ------------------------------------------------------------------------------------------\n",
    "\n",
    "\n",
    "# specify locations\n",
    "dir_path = r'C:\\Users\\echelsvi\\git\\chelsvig_urban_pesticides\\probabilistic_python'\n",
    "\n",
    "# setup\n",
    "import pytest_shutil, shutil, os, pandas as pd, regex as re\n",
    "import swmmtoolbox.swmmtoolbox as swmmtoolbox\n",
    "\n",
    "swmm_path = dir_path + r'\\input\\swmm'\n",
    "print(swmm_path)\n",
    "swmm_file = swmm_path + r'\\NPlesantCreek.rpt'\n",
    "print(swmm_file)\n",
    "inp_file = swmm_path + r'\\NPlesantCreek.inp'\n",
    "print(inp_file)\n",
    "vvwm_path = dir_path + r'\\input\\vvwm'\n",
    "print(vvwm_path)\n",
    "\n",
    "outfalls = ['\\outfall_31_26']\n"
   ]
  },
  {
   "cell_type": "code",
   "execution_count": null,
   "metadata": {},
   "outputs": [],
   "source": [
    "# read in the .inp file subcatchment areas (to use later in script)\n",
    "# read the .inp file\n",
    "file = open(inp_file, \"r\")\n",
    "\n",
    "# create blank list to hold subcatchment areas\n",
    "sub_list_area = []\n",
    "\n",
    "# skip x lines\n",
    "lines1 = file.readlines()[55:]\n",
    "\n",
    "for thissub in range(0, 113):\n",
    "    # grab the area\n",
    "    thisline = lines1[thissub]\n",
    "    fixline = \" \".join(thisline.split())\n",
    "    listline = fixline.split()\n",
    "    area = listline[3]\n",
    "    area = float(area)\n",
    "\n",
    "    # insert into blank list\n",
    "    sub_list_area.append(area)\n",
    "    \n",
    "with open(r'C:\\Users\\echelsvi\\git\\chelsvig_urban_pesticides\\app_rates\\io\\swmm_sub_list_areas.txt', 'w') as f:\n",
    "    for item in sub_list_area:\n",
    "        f.write(\"%s\\n\" % item)"
   ]
  },
  {
   "cell_type": "code",
   "execution_count": null,
   "metadata": {},
   "outputs": [],
   "source": [
    "# grab the previously computed converted daily averages of swmm outputs\n",
    "original = r'C:\\Users\\echelsvi\\git\\chelsvig_urban_pesticides\\probabilistic_python\\input\\vvwm\\outfal1_31_26\\runf_for_vvwm_31_26.csv'\n",
    "target = r'C:\\Users\\echelsvi\\git\\chelsvig_urban_pesticides\\app_rates\\io\\runf_for_vvwm_31_26.csv'\n",
    "shutil.copyfile(original, target)\n",
    "\n",
    "original = r'C:\\Users\\echelsvi\\git\\chelsvig_urban_pesticides\\probabilistic_python\\input\\vvwm\\outfal1_31_26\\bif_for_vvwm_31_26.csv'\n",
    "target = r'C:\\Users\\echelsvi\\git\\chelsvig_urban_pesticides\\app_rates\\io\\bif_for_vvwm_31_26.csv'\n",
    "shutil.copyfile(original, target)"
   ]
  }
 ],
 "metadata": {
  "kernelspec": {
   "display_name": "Python 3",
   "language": "python",
   "name": "python3"
  },
  "language_info": {
   "codemirror_mode": {
    "name": "ipython",
    "version": 3
   },
   "file_extension": ".py",
   "mimetype": "text/x-python",
   "name": "python",
   "nbconvert_exporter": "python",
   "pygments_lexer": "ipython3",
   "version": "3.8.2"
  }
 },
 "nbformat": 4,
 "nbformat_minor": 4
}
