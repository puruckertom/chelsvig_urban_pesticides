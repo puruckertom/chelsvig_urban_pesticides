{
 "cells": [
  {
   "cell_type": "markdown",
   "metadata": {},
   "source": [
    "Quickstart\n",
    "======"
   ]
  },
  {
   "cell_type": "markdown",
   "metadata": {},
   "source": [
    "Here is a small example on how to do Bayesian model selection."
   ]
  },
  {
   "cell_type": "raw",
   "metadata": {
    "raw_mimetype": "text/restructuredtext"
   },
   "source": [
    "There are more examples in the `examples section <../examples.rst>`_ of the documentation, such as a `parameter inference example <parameter_inference.ipynb>`_ with a single model only.\n",
    "\n",
    "The notebook can be downloaded here:\n",
    ":download:`Quickstart <quickstart.ipynb>`.\n",
    "\n",
    "\n",
    "The following classes from the pyABC package are used\n",
    "for this example:\n",
    "\n",
    "* :class:`ABCSMC <pyabc.smc.ABCSMC>`\n",
    "* :class:`RV <pyabc.random_variables.RV>`\n",
    "* :class:`Distribution <pyabc.random_variables.Distribution>`\n",
    "* :class:`PercentileDistanceFunction <pyabc.distance_functions.PercentileDistanceFunction>`"
   ]
  },
  {
   "cell_type": "markdown",
   "metadata": {},
   "source": [
    "Step by step explanation\n",
    "----------------------------\n",
    "\n",
    "### Defining a model\n",
    "\n",
    "\n",
    "To do model selection, we first need some models. A model, in the simplest case,\n",
    "is just a callable which takes a single `dict` as input and returns a single `dict` as output. The keys of the input dictionary are the parameters of the model, the output\n",
    "keys denote the summary statistics.\n",
    "Here, the `dict` is passed as `parameters` and has the entry `x`, which denotes the mean of a Gaussian.\n",
    "It returns the observed summary statistics `y`, which is just the sampled value."
   ]
  },
  {
   "cell_type": "code",
   "execution_count": 1,
   "metadata": {},
   "outputs": [],
   "source": [
    "%matplotlib inline\n",
    "import os\n",
    "import tempfile\n",
    "\n",
    "import scipy.stats as st\n",
    "\n",
    "import pyabc\n",
    "\n",
    "\n",
    "# Define a gaussian model\n",
    "\n",
    "sigma = .5\n",
    "\n",
    "\n",
    "def model(parameters):\n",
    "    # sample from a gaussian\n",
    "    y = st.norm(parameters.x, sigma).rvs()\n",
    "    # return the sample as dictionary\n",
    "    return {\"y\": y}"
   ]
  },
  {
   "cell_type": "code",
   "execution_count": 2,
   "metadata": {},
   "outputs": [],
   "source": [
    "# that doesn't cut it for me. I need more."
   ]
  },
  {
   "cell_type": "markdown",
   "metadata": {},
   "source": [
    "For model selection we usually have more than one model.\n",
    "These are assembled in a list. We\n",
    "require a Bayesian prior over the models.\n",
    "The default is to have a uniform prior over the model classes.\n",
    "This concludes the model definition."
   ]
  },
  {
   "cell_type": "code",
   "execution_count": 2,
   "metadata": {},
   "outputs": [],
   "source": [
    "# We define two models, but they are identical so far\n",
    "models = [model, model]\n",
    "\n",
    "\n",
    "# However, our models' priors are not the same.\n",
    "# Their mean differs.\n",
    "mu_x_1, mu_x_2 = 0, 1\n",
    "parameter_priors = [\n",
    "    pyabc.Distribution(x=pyabc.RV(\"norm\", mu_x_1, sigma)),\n",
    "    pyabc.Distribution(x=pyabc.RV(\"norm\", mu_x_2, sigma))\n",
    "]"
   ]
  },
  {
   "cell_type": "code",
   "execution_count": 17,
   "metadata": {},
   "outputs": [
    {
     "name": "stdout",
     "output_type": "stream",
     "text": [
      "<Distribution 'x'>\n",
      "True\n",
      "dict_keys(['x'])\n",
      "dict_values([<RV(name=norm, args=(0, 0.5) kwargs={})>])\n",
      "<RV(name=norm, args=(0, 0.5) kwargs={})>\n",
      "Help on RV in module pyabc.random_variables object:\n",
      "\n",
      "class RV(RVBase)\n",
      " |  RV(name: str, *args, **kwargs)\n",
      " |  \n",
      " |  Concrete random variable.\n",
      " |  \n",
      " |  Parameters\n",
      " |  ----------\n",
      " |  \n",
      " |  name: str\n",
      " |      Name of the distribution as in ``scipy.stats``\n",
      " |  \n",
      " |  args:\n",
      " |      Arguments as in ``scipy.stats`` matching the distribution\n",
      " |      with name \"name\".\n",
      " |  \n",
      " |  kwargs:\n",
      " |      Keyword arguments as in ``scipy.stats``\n",
      " |      matching the distribution with name \"name\".\n",
      " |  \n",
      " |  Method resolution order:\n",
      " |      RV\n",
      " |      RVBase\n",
      " |      abc.ABC\n",
      " |      builtins.object\n",
      " |  \n",
      " |  Methods defined here:\n",
      " |  \n",
      " |  __getattr__(self, item)\n",
      " |  \n",
      " |  __getstate__(self)\n",
      " |  \n",
      " |  __init__(self, name: str, *args, **kwargs)\n",
      " |      Initialize self.  See help(type(self)) for accurate signature.\n",
      " |  \n",
      " |  __repr__(self)\n",
      " |      Return repr(self).\n",
      " |  \n",
      " |  __setstate__(self, state)\n",
      " |  \n",
      " |  cdf(self, x, *args, **kwargs)\n",
      " |      Cumulative distribution function.\n",
      " |      \n",
      " |      Parameters\n",
      " |      ----------\n",
      " |      x: float\n",
      " |          Cumulative distribution function at x.\n",
      " |      \n",
      " |      Returns\n",
      " |      -------\n",
      " |      \n",
      " |      density: float\n",
      " |          Cumulative distribution function at x.\n",
      " |  \n",
      " |  copy(self)\n",
      " |      Copy the random variable.\n",
      " |      \n",
      " |      Returns\n",
      " |      -------\n",
      " |      copied_rv: RVBase\n",
      " |          A copy of the random variable.\n",
      " |  \n",
      " |  pdf(self, x, *args, **kwargs)\n",
      " |      Probability density function\n",
      " |      \n",
      " |      Parameters\n",
      " |      ----------\n",
      " |      x: float\n",
      " |          Probability density at x.\n",
      " |      \n",
      " |      Returns\n",
      " |      -------\n",
      " |      \n",
      " |      density: float\n",
      " |          Probability density at x.\n",
      " |  \n",
      " |  pmf(self, x, *args, **kwargs)\n",
      " |      Probability mass function\n",
      " |      \n",
      " |      Parameters\n",
      " |      ----------\n",
      " |      \n",
      " |      x: int\n",
      " |          Probability mass at ``x``.\n",
      " |      \n",
      " |      Returns\n",
      " |      -------\n",
      " |      \n",
      " |      mass: float\n",
      " |          The mass at ``x``.\n",
      " |  \n",
      " |  rvs(self, *args, **kwargs)\n",
      " |      Sample from the RV.\n",
      " |      \n",
      " |      Returns\n",
      " |      -------\n",
      " |      \n",
      " |      sample: float\n",
      " |          A sample from the random variable.\n",
      " |  \n",
      " |  ----------------------------------------------------------------------\n",
      " |  Class methods defined here:\n",
      " |  \n",
      " |  from_dictionary(dictionary: dict) -> 'RV' from abc.ABCMeta\n",
      " |      Construct random variable from dictionary.\n",
      " |      \n",
      " |      Parameters\n",
      " |      ----------\n",
      " |      \n",
      " |      dictionary: dict\n",
      " |          A dictionary with the keys\n",
      " |      \n",
      " |             * \"name\" (mandatory)\n",
      " |             * \"args\" (optional)\n",
      " |             * \"kwargs\" (optional)\n",
      " |      \n",
      " |          as in scipy.stats.\n",
      " |      \n",
      " |      \n",
      " |      \n",
      " |      .. note::\n",
      " |      \n",
      " |          Either the \"args\" or the \"kwargs\" key has to be present.\n",
      " |  \n",
      " |  ----------------------------------------------------------------------\n",
      " |  Data and other attributes defined here:\n",
      " |  \n",
      " |  __abstractmethods__ = frozenset()\n",
      " |  \n",
      " |  ----------------------------------------------------------------------\n",
      " |  Data descriptors inherited from RVBase:\n",
      " |  \n",
      " |  __dict__\n",
      " |      dictionary for instance variables (if defined)\n",
      " |  \n",
      " |  __weakref__\n",
      " |      list of weak references to the object (if defined)\n",
      "\n"
     ]
    }
   ],
   "source": [
    "print(parameter_priors[0])\n",
    "\n",
    "print(isinstance(parameter_priors[0],dict))\n",
    "\n",
    "print(parameter_priors[0].keys())\n",
    "\n",
    "print(parameter_priors[0].values())\n",
    "\n",
    "print(parameter_priors[0]['x'])\n",
    "\n",
    "help(parameter_priors[0]['x'])"
   ]
  },
  {
   "cell_type": "markdown",
   "metadata": {},
   "source": [
    "### Configuring the ABCSMC run\n",
    "\n",
    "Having the models defined, we can plug together the `ABCSMC` class.\n",
    "We need a distance function,\n",
    "to measure the distance of obtained samples."
   ]
  },
  {
   "cell_type": "code",
   "execution_count": 3,
   "metadata": {},
   "outputs": [],
   "source": [
    "# We plug all the ABC options together\n",
    "abc = pyabc.ABCSMC(\n",
    "    models, parameter_priors,\n",
    "    pyabc.PercentileDistance(measures_to_use=[\"y\"]))"
   ]
  },
  {
   "cell_type": "code",
   "execution_count": 21,
   "metadata": {},
   "outputs": [
    {
     "data": {
      "text/plain": [
       "<pyabc.inference.smc.ABCSMC at 0x226f3f8a670>"
      ]
     },
     "execution_count": 21,
     "metadata": {},
     "output_type": "execute_result"
    }
   ],
   "source": [
    "abc"
   ]
  },
  {
   "cell_type": "markdown",
   "metadata": {},
   "source": [
    "### Setting the observed data\n",
    "\n",
    "Actually measured data can now be passed to the ABCSMC.\n",
    "This is set via the `new` method, indicating that we start\n",
    "a new run as opposed to resuming a stored run (see the \"resume stored run\" example).\n",
    "Moreover, we have to set the output database where the ABC-SMC run\n",
    "is logged."
   ]
  },
  {
   "cell_type": "code",
   "execution_count": 4,
   "metadata": {},
   "outputs": [
    {
     "name": "stderr",
     "output_type": "stream",
     "text": [
      "INFO:History:Start <ABCSMC(id=2, start_time=2021-02-03 10:43:51.177039, end_time=None)>\n"
     ]
    }
   ],
   "source": [
    "# y_observed is the important piece here: our actual observation.\n",
    "y_observed = 1\n",
    "# and we define where to store the results\n",
    "db_path = (\"sqlite:///\" +\n",
    "           os.path.join(tempfile.gettempdir(), \"test.db\"))\n",
    "history = abc.new(db_path, {\"y\": y_observed})"
   ]
  },
  {
   "cell_type": "code",
   "execution_count": 23,
   "metadata": {},
   "outputs": [
    {
     "data": {
      "text/plain": [
       "<pyabc.storage.history.History at 0x226f3fb5340>"
      ]
     },
     "execution_count": 23,
     "metadata": {},
     "output_type": "execute_result"
    }
   ],
   "source": [
    "history"
   ]
  },
  {
   "cell_type": "markdown",
   "metadata": {},
   "source": [
    "The `new` method returns a history object, whose id identifies the ABC-SMC run in the database.\n",
    "We're not using this id for now.\n",
    "But it might be important when you load the stored data or want\n",
    "to continue an ABC-SMC run in the case of having more than one\n",
    "ABC-SMC run stored in a single database."
   ]
  },
  {
   "cell_type": "code",
   "execution_count": 5,
   "metadata": {},
   "outputs": [
    {
     "name": "stdout",
     "output_type": "stream",
     "text": [
      "ABC-SMC run ID: 2\n"
     ]
    }
   ],
   "source": [
    "print(\"ABC-SMC run ID:\", history.id)"
   ]
  },
  {
   "cell_type": "markdown",
   "metadata": {},
   "source": [
    "### Running the ABC\n",
    "\n",
    "We run the `ABCSMC` specifying the epsilon value at which to terminate.\n",
    "The default epsilon strategy is the `pyabc.epsilon.MedianEpsilon`.\n",
    "Whatever is reached first, the epsilon or the maximum number allowed populations,\n",
    "terminates the ABC run. The method returns a `pyabc.storage.History` object, which\n",
    "can, for example, be queried for the posterior probabilities."
   ]
  },
  {
   "cell_type": "code",
   "execution_count": 6,
   "metadata": {},
   "outputs": [
    {
     "name": "stderr",
     "output_type": "stream",
     "text": [
      "INFO:ABC:Calibration sample before t=0.\n",
      "INFO:Epsilon:initial epsilon is 0.5064041907144253\n",
      "INFO:ABC:t: 0, eps: 0.5064041907144253.\n",
      "INFO:ABC:Acceptance rate: 100 / 175 = 5.7143e-01, ESS=1.0000e+02.\n",
      "INFO:ABC:t: 1, eps: 0.22063407126659326.\n",
      "INFO:ABC:Acceptance rate: 100 / 385 = 2.5974e-01, ESS=8.0797e+01.\n",
      "INFO:ABC:t: 2, eps: 0.11761641421944036.\n",
      "INFO:ABC:Acceptance rate: 100 / 517 = 1.9342e-01, ESS=9.1123e+01.\n",
      "INFO:pyabc.util:Stopping: minimum epsilon.\n",
      "INFO:History:Done <ABCSMC(id=2, start_time=2021-02-03 10:43:51.177039, end_time=2021-02-03 10:44:06.689752)>\n"
     ]
    }
   ],
   "source": [
    "# We run the ABC until either criterion is met\n",
    "history = abc.run(minimum_epsilon=0.2, max_nr_populations=5)"
   ]
  },
  {
   "cell_type": "code",
   "execution_count": 29,
   "metadata": {},
   "outputs": [],
   "source": [
    "abc.history.get_nr_particles_per_population()\n",
    "abc.history.get_all_populations()\n",
    "history.get_population_strategy()\n",
    "history.get_population().get_list()\n",
    "discances = history.get_population().get_for_keys([\"distance\"])[\"distance\"]"
   ]
  },
  {
   "cell_type": "code",
   "execution_count": 30,
   "metadata": {},
   "outputs": [],
   "source": [
    "import numpy as np"
   ]
  },
  {
   "cell_type": "code",
   "execution_count": 31,
   "metadata": {},
   "outputs": [
    {
     "data": {
      "text/plain": [
       "0.06214852519380383"
      ]
     },
     "execution_count": 31,
     "metadata": {},
     "output_type": "execute_result"
    }
   ],
   "source": [
    "np.median(discances)"
   ]
  },
  {
   "cell_type": "code",
   "execution_count": 32,
   "metadata": {},
   "outputs": [
    {
     "data": {
      "text/plain": [
       "0.1172014524524885"
      ]
     },
     "execution_count": 32,
     "metadata": {},
     "output_type": "execute_result"
    }
   ],
   "source": [
    "max(discances)"
   ]
  },
  {
   "cell_type": "code",
   "execution_count": 38,
   "metadata": {},
   "outputs": [
    {
     "data": {
      "text/plain": [
       "0.22063407126659362"
      ]
     },
     "execution_count": 38,
     "metadata": {},
     "output_type": "execute_result"
    }
   ],
   "source": [
    "np.median(history.get_population(0).get_for_keys([\"distance\"])[\"distance\"])"
   ]
  },
  {
   "cell_type": "code",
   "execution_count": 47,
   "metadata": {
    "scrolled": false
   },
   "outputs": [
    {
     "data": {
      "text/html": [
       "<div>\n",
       "<style scoped>\n",
       "    .dataframe tbody tr th:only-of-type {\n",
       "        vertical-align: middle;\n",
       "    }\n",
       "\n",
       "    .dataframe tbody tr th {\n",
       "        vertical-align: top;\n",
       "    }\n",
       "\n",
       "    .dataframe thead th {\n",
       "        text-align: right;\n",
       "    }\n",
       "</style>\n",
       "<table border=\"1\" class=\"dataframe\">\n",
       "  <thead>\n",
       "    <tr style=\"text-align: right;\">\n",
       "      <th></th>\n",
       "      <th>epsilon</th>\n",
       "      <th>samples</th>\n",
       "      <th>m</th>\n",
       "      <th>model_name</th>\n",
       "      <th>p_model</th>\n",
       "      <th>w</th>\n",
       "      <th>particle_id</th>\n",
       "      <th>distance</th>\n",
       "      <th>par_name</th>\n",
       "      <th>par_val</th>\n",
       "      <th>sumstat_name</th>\n",
       "      <th>sumstat_val</th>\n",
       "    </tr>\n",
       "  </thead>\n",
       "  <tbody>\n",
       "    <tr>\n",
       "      <th>0</th>\n",
       "      <td>0.117616</td>\n",
       "      <td>517</td>\n",
       "      <td>1</td>\n",
       "      <td>model</td>\n",
       "      <td>0.616104</td>\n",
       "      <td>0.014702</td>\n",
       "      <td>503</td>\n",
       "      <td>0.004604</td>\n",
       "      <td>x</td>\n",
       "      <td>1.086291</td>\n",
       "      <td>y</td>\n",
       "      <td>1.006410</td>\n",
       "    </tr>\n",
       "    <tr>\n",
       "      <th>1</th>\n",
       "      <td>0.117616</td>\n",
       "      <td>517</td>\n",
       "      <td>1</td>\n",
       "      <td>model</td>\n",
       "      <td>0.616104</td>\n",
       "      <td>0.014120</td>\n",
       "      <td>504</td>\n",
       "      <td>0.106510</td>\n",
       "      <td>x</td>\n",
       "      <td>0.884715</td>\n",
       "      <td>y</td>\n",
       "      <td>1.148288</td>\n",
       "    </tr>\n",
       "    <tr>\n",
       "      <th>2</th>\n",
       "      <td>0.117616</td>\n",
       "      <td>517</td>\n",
       "      <td>1</td>\n",
       "      <td>model</td>\n",
       "      <td>0.616104</td>\n",
       "      <td>0.014117</td>\n",
       "      <td>505</td>\n",
       "      <td>0.050531</td>\n",
       "      <td>x</td>\n",
       "      <td>1.024936</td>\n",
       "      <td>y</td>\n",
       "      <td>0.929648</td>\n",
       "    </tr>\n",
       "    <tr>\n",
       "      <th>3</th>\n",
       "      <td>0.117616</td>\n",
       "      <td>517</td>\n",
       "      <td>1</td>\n",
       "      <td>model</td>\n",
       "      <td>0.616104</td>\n",
       "      <td>0.017294</td>\n",
       "      <td>506</td>\n",
       "      <td>0.007502</td>\n",
       "      <td>x</td>\n",
       "      <td>0.668793</td>\n",
       "      <td>y</td>\n",
       "      <td>0.989556</td>\n",
       "    </tr>\n",
       "    <tr>\n",
       "      <th>4</th>\n",
       "      <td>0.117616</td>\n",
       "      <td>517</td>\n",
       "      <td>1</td>\n",
       "      <td>model</td>\n",
       "      <td>0.616104</td>\n",
       "      <td>0.023401</td>\n",
       "      <td>507</td>\n",
       "      <td>0.034513</td>\n",
       "      <td>x</td>\n",
       "      <td>1.354067</td>\n",
       "      <td>y</td>\n",
       "      <td>0.951949</td>\n",
       "    </tr>\n",
       "    <tr>\n",
       "      <th>...</th>\n",
       "      <td>...</td>\n",
       "      <td>...</td>\n",
       "      <td>...</td>\n",
       "      <td>...</td>\n",
       "      <td>...</td>\n",
       "      <td>...</td>\n",
       "      <td>...</td>\n",
       "      <td>...</td>\n",
       "      <td>...</td>\n",
       "      <td>...</td>\n",
       "      <td>...</td>\n",
       "      <td>...</td>\n",
       "    </tr>\n",
       "    <tr>\n",
       "      <th>95</th>\n",
       "      <td>0.117616</td>\n",
       "      <td>517</td>\n",
       "      <td>0</td>\n",
       "      <td>model</td>\n",
       "      <td>0.383896</td>\n",
       "      <td>0.044418</td>\n",
       "      <td>598</td>\n",
       "      <td>0.069348</td>\n",
       "      <td>x</td>\n",
       "      <td>-0.006256</td>\n",
       "      <td>y</td>\n",
       "      <td>0.903451</td>\n",
       "    </tr>\n",
       "    <tr>\n",
       "      <th>96</th>\n",
       "      <td>0.117616</td>\n",
       "      <td>517</td>\n",
       "      <td>0</td>\n",
       "      <td>model</td>\n",
       "      <td>0.383896</td>\n",
       "      <td>0.014665</td>\n",
       "      <td>599</td>\n",
       "      <td>0.110846</td>\n",
       "      <td>x</td>\n",
       "      <td>1.017686</td>\n",
       "      <td>y</td>\n",
       "      <td>0.845676</td>\n",
       "    </tr>\n",
       "    <tr>\n",
       "      <th>97</th>\n",
       "      <td>0.117616</td>\n",
       "      <td>517</td>\n",
       "      <td>0</td>\n",
       "      <td>model</td>\n",
       "      <td>0.383896</td>\n",
       "      <td>0.013145</td>\n",
       "      <td>600</td>\n",
       "      <td>0.050287</td>\n",
       "      <td>x</td>\n",
       "      <td>1.092297</td>\n",
       "      <td>y</td>\n",
       "      <td>0.929988</td>\n",
       "    </tr>\n",
       "    <tr>\n",
       "      <th>98</th>\n",
       "      <td>0.117616</td>\n",
       "      <td>517</td>\n",
       "      <td>0</td>\n",
       "      <td>model</td>\n",
       "      <td>0.383896</td>\n",
       "      <td>0.008497</td>\n",
       "      <td>601</td>\n",
       "      <td>0.107971</td>\n",
       "      <td>x</td>\n",
       "      <td>1.323748</td>\n",
       "      <td>y</td>\n",
       "      <td>0.849679</td>\n",
       "    </tr>\n",
       "    <tr>\n",
       "      <th>99</th>\n",
       "      <td>0.117616</td>\n",
       "      <td>517</td>\n",
       "      <td>0</td>\n",
       "      <td>model</td>\n",
       "      <td>0.383896</td>\n",
       "      <td>0.020473</td>\n",
       "      <td>602</td>\n",
       "      <td>0.052591</td>\n",
       "      <td>x</td>\n",
       "      <td>0.796410</td>\n",
       "      <td>y</td>\n",
       "      <td>0.926781</td>\n",
       "    </tr>\n",
       "  </tbody>\n",
       "</table>\n",
       "<p>100 rows × 12 columns</p>\n",
       "</div>"
      ],
      "text/plain": [
       "     epsilon  samples  m model_name   p_model         w  particle_id  \\\n",
       "0   0.117616      517  1      model  0.616104  0.014702          503   \n",
       "1   0.117616      517  1      model  0.616104  0.014120          504   \n",
       "2   0.117616      517  1      model  0.616104  0.014117          505   \n",
       "3   0.117616      517  1      model  0.616104  0.017294          506   \n",
       "4   0.117616      517  1      model  0.616104  0.023401          507   \n",
       "..       ...      ... ..        ...       ...       ...          ...   \n",
       "95  0.117616      517  0      model  0.383896  0.044418          598   \n",
       "96  0.117616      517  0      model  0.383896  0.014665          599   \n",
       "97  0.117616      517  0      model  0.383896  0.013145          600   \n",
       "98  0.117616      517  0      model  0.383896  0.008497          601   \n",
       "99  0.117616      517  0      model  0.383896  0.020473          602   \n",
       "\n",
       "    distance par_name   par_val sumstat_name  sumstat_val  \n",
       "0   0.004604        x  1.086291            y     1.006410  \n",
       "1   0.106510        x  0.884715            y     1.148288  \n",
       "2   0.050531        x  1.024936            y     0.929648  \n",
       "3   0.007502        x  0.668793            y     0.989556  \n",
       "4   0.034513        x  1.354067            y     0.951949  \n",
       "..       ...      ...       ...          ...          ...  \n",
       "95  0.069348        x -0.006256            y     0.903451  \n",
       "96  0.110846        x  1.017686            y     0.845676  \n",
       "97  0.050287        x  1.092297            y     0.929988  \n",
       "98  0.107971        x  1.323748            y     0.849679  \n",
       "99  0.052591        x  0.796410            y     0.926781  \n",
       "\n",
       "[100 rows x 12 columns]"
      ]
     },
     "execution_count": 47,
     "metadata": {},
     "output_type": "execute_result"
    }
   ],
   "source": [
    "history.get_population_extended()#.get_for_keys([\"distance\"])[\"distance\"]"
   ]
  },
  {
   "cell_type": "markdown",
   "metadata": {},
   "source": [
    "Note that the history object is also always accessible from the abcsmc object:"
   ]
  },
  {
   "cell_type": "code",
   "execution_count": 48,
   "metadata": {},
   "outputs": [
    {
     "data": {
      "text/plain": [
       "True"
      ]
     },
     "execution_count": 48,
     "metadata": {},
     "output_type": "execute_result"
    }
   ],
   "source": [
    "history is abc.history"
   ]
  },
  {
   "cell_type": "markdown",
   "metadata": {},
   "source": [
    "The `pyabc.storage.History>` object can, for example,\n",
    "be queried for the posterior probabilities in the populations:"
   ]
  },
  {
   "cell_type": "code",
   "execution_count": 49,
   "metadata": {},
   "outputs": [
    {
     "data": {
      "text/html": [
       "<div>\n",
       "<style scoped>\n",
       "    .dataframe tbody tr th:only-of-type {\n",
       "        vertical-align: middle;\n",
       "    }\n",
       "\n",
       "    .dataframe tbody tr th {\n",
       "        vertical-align: top;\n",
       "    }\n",
       "\n",
       "    .dataframe thead th {\n",
       "        text-align: right;\n",
       "    }\n",
       "</style>\n",
       "<table border=\"1\" class=\"dataframe\">\n",
       "  <thead>\n",
       "    <tr style=\"text-align: right;\">\n",
       "      <th>m</th>\n",
       "      <th>0</th>\n",
       "      <th>1</th>\n",
       "    </tr>\n",
       "    <tr>\n",
       "      <th>t</th>\n",
       "      <th></th>\n",
       "      <th></th>\n",
       "    </tr>\n",
       "  </thead>\n",
       "  <tbody>\n",
       "    <tr>\n",
       "      <th>0</th>\n",
       "      <td>0.270000</td>\n",
       "      <td>0.730000</td>\n",
       "    </tr>\n",
       "    <tr>\n",
       "      <th>1</th>\n",
       "      <td>0.374531</td>\n",
       "      <td>0.625469</td>\n",
       "    </tr>\n",
       "    <tr>\n",
       "      <th>2</th>\n",
       "      <td>0.383896</td>\n",
       "      <td>0.616104</td>\n",
       "    </tr>\n",
       "  </tbody>\n",
       "</table>\n",
       "</div>"
      ],
      "text/plain": [
       "m         0         1\n",
       "t                    \n",
       "0  0.270000  0.730000\n",
       "1  0.374531  0.625469\n",
       "2  0.383896  0.616104"
      ]
     },
     "execution_count": 49,
     "metadata": {},
     "output_type": "execute_result"
    }
   ],
   "source": [
    "# Evaluate the model probabililties\n",
    "model_probabilities = history.get_model_probabilities()\n",
    "model_probabilities"
   ]
  },
  {
   "cell_type": "markdown",
   "metadata": {},
   "source": [
    "And now, let's visualize the results:"
   ]
  },
  {
   "cell_type": "code",
   "execution_count": 50,
   "metadata": {},
   "outputs": [
    {
     "data": {
      "text/plain": [
       "<AxesSubplot:title={'center':'Model probabilities'}, xlabel='Population index', ylabel='Probability'>"
      ]
     },
     "execution_count": 50,
     "metadata": {},
     "output_type": "execute_result"
    },
    {
     "data": {
      "image/png": "[encoded data removed]",
      "text/plain": [
       "<Figure size 432x288 with 1 Axes>"
      ]
     },
     "metadata": {
      "needs_background": "light"
     },
     "output_type": "display_data"
    }
   ],
   "source": [
    "pyabc.visualization.plot_model_probabilities(history)"
   ]
  },
  {
   "cell_type": "markdown",
   "metadata": {},
   "source": [
    "So model 1 is the more probable one. Which is expected as it was centered at 1 and the observed data was also 1, whereas model 0 was centered at 0, which is farther away from the observed data. "
   ]
  }
 ],
 "metadata": {
  "celltoolbar": "Raw Cell Format",
  "kernelspec": {
   "display_name": "Python 3",
   "language": "python",
   "name": "python3"
  },
  "language_info": {
   "codemirror_mode": {
    "name": "ipython",
    "version": 3
   },
   "file_extension": ".py",
   "mimetype": "text/x-python",
   "name": "python",
   "nbconvert_exporter": "python",
   "pygments_lexer": "ipython3",
   "version": "3.8.3"
  }
 },
 "nbformat": 4,
 "nbformat_minor": 1
}
