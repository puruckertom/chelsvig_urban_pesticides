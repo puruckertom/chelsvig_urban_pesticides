{
 "cells": [
  {
   "cell_type": "markdown",
   "metadata": {},
   "source": [
    "### Defining a model\n",
    "\n",
    "(From \"quickstart\" example from pyabc docs)\n",
    "To do model selection, we first need some models. A model, in the simplest case,\n",
    "is just a callable which takes a single `dict` as input and returns a single `dict` as output. The keys of the input dictionary are the parameters of the model, the output\n",
    "keys denote the summary statistics.\n"
   ]
  },
  {
   "cell_type": "code",
   "execution_count": 2,
   "metadata": {},
   "outputs": [],
   "source": [
    "\"\"\"\n",
    "Function to take in parameters (in dictionary form) and output summary statistics\n",
    " Input: \n",
    "  SWMM parameters:\n",
    "    (see explanations here: <https://docs.google.com/document/d/1pVnjSP3cCKBCWUV3Brns8hJpkgHLekXns_9WG-qla7E/>)\n",
    "    NImperv\n",
    "    NPerv\n",
    "    SImperv\n",
    "    SPerv\n",
    "    PctZero\n",
    "    MaxRate\n",
    "    MinRate\n",
    "    Decay\n",
    "    DryTime\n",
    "    Por\n",
    "    WP\n",
    "    FC\n",
    "    Ksat\n",
    "    Roughness\n",
    "    Kdecay\n",
    "    BCoeff2\n",
    "    WCoeff2\n",
    "  \n",
    "  VVWM parameters:\n",
    "    (see explanations here: <https://docs.google.com/document/d/1JM8guprnugzJDvCaBwD-HCpgR5NvTGnCe3qjFXhMQHU/>)\n",
    "    kd - Sorption coefficient (mL/g) -\n",
    "    aer_aq - Water column degradation half-life (days) -\n",
    "    aer_aq_temp - Reference temp. For water column degradation (C) -\n",
    "    anae_aq - Benthic degradation half-life (days) -\n",
    "    anae_aq_temp - Reference temp. For benthic degradation (C) -\n",
    "    photo - Photolysis half-life (days) -\n",
    "    rflat - Reference latitude for photolysis -\n",
    "    hydro - Hydrolysis half-life (days) -\n",
    "    mwt - Molecular weight  -\n",
    "    vapor - Vapor pressure (torr) -\n",
    "    sol - Solubility (mg/L) -\n",
    "    henry - Henry’s law constant -\n",
    "    benthic_depth - Depth of benthic region (m) -\n",
    "    porosity - Porosity of benthic region (--) -\n",
    "    bulk_density - Bulk density of benthic region -\n",
    "    froc2 - Fraction of organic carbon on sediment in benthic region -\n",
    "    doc2 - Concentration of dissolved organic carbon in benthic region (mg/L) -\n",
    "    bnmas - Areal concentration of biosolids in benthic region (g/m2) -\n",
    "    sused - Suspended solids concentration in water column (mg/L) -\n",
    "    chl - Chlorophyll concentration in water column (mg/L) -\n",
    "    froc1 - Fraction of organic carbon on suspended sediment in water column -\n",
    "    doc1 - Concentration of dissolved organic carbon in water column (mg/L) -\n",
    "    area - Area of water body (m2) -\n",
    "\n",
    " Output:\n",
    "  The values of 106 date- and site- specific bifenthrin concentrations (keys are date/site code indicators)\n",
    "  Why? Because that's the observation data we have access to\n",
    "\"\"\"\n",
    "def model(parameters: dict) -> dict:\n",
    "    \"\"\"\n",
    "    turn swmm parameters into one csv file. \n",
    "    turn vvwm parameters into another csv file.\n",
    "    if any of the the parameters are not okay:\n",
    "        return a dictionary full of nans and don't do the next part.\n",
    "    else:\n",
    "        run python scripts 03-06 and 08-09\n",
    "        run some derivation of postprocess notebook to take 106 cells of that file made by 09 and turn it into a dictionary\n",
    "    return (the dictionary)\n",
    "    \"\"\""
   ]
  },
  {
   "cell_type": "markdown",
   "metadata": {},
   "source": [
    "### Now we need priors \n",
    "\n",
    "Not sure how to do that because there seems to be a much stricter method for prior declaration. \n",
    "Maybe I can do this first step outside\n",
    "then enter it as a a normal distribution with a sigma of 0 for all the parameters that are special"
   ]
  },
  {
   "cell_type": "markdown",
   "metadata": {},
   "source": [
    "### Then I need to set the observed data \n",
    "\n",
    "I will have to make that csv into a dictionary like how Jeff did it. \n",
    "This should be the easiest part\n",
    "I've basically already done some of it in the post-processing notebook."
   ]
  }
 ],
 "metadata": {
  "kernelspec": {
   "display_name": "Python 3",
   "language": "python",
   "name": "python3"
  },
  "language_info": {
   "codemirror_mode": {
    "name": "ipython",
    "version": 3
   },
   "file_extension": ".py",
   "mimetype": "text/x-python",
   "name": "python",
   "nbconvert_exporter": "python",
   "pygments_lexer": "ipython3",
   "version": "3.8.3"
  }
 },
 "nbformat": 4,
 "nbformat_minor": 4
}
