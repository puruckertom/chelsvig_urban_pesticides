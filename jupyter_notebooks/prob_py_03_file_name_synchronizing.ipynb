{
 "cells": [
  {
   "cell_type": "code",
   "execution_count": 1,
   "metadata": {},
   "outputs": [],
   "source": [
    "# setup\n",
    "import shutil, os, pandas, regex as re"
   ]
  },
  {
   "cell_type": "code",
   "execution_count": 2,
   "metadata": {},
   "outputs": [
    {
     "name": "stdout",
     "output_type": "stream",
     "text": [
      "C:\\Users\\Julia Stelman\\Desktop\\Watershed\\chelsvig_urban_pesticides\n",
      "C:\\Users\\Julia Stelman\\Desktop\\Watershed\\chelsvig_urban_pesticides\\probabilistic_python\n",
      "C:\\Users\\Julia Stelman\\Desktop\\Watershed\\chelsvig_urban_pesticides\\probabilistic_python\\input\\swmm\n"
     ]
    }
   ],
   "source": [
    "# save absolute path of input folder location\n",
    "# these strings are how we will locate where to find or create the folder we will be coping information to and from\n",
    "main_path = os.path.abspath(\"..\")\n",
    "print(main_path)\n",
    "dir_path = os.path.abspath(\"../probabilistic_python\")\n",
    "print(dir_path)\n",
    "input_path = os.path.abspath(\"../probabilistic_python/input/swmm\")\n",
    "print(input_path)"
   ]
  },
  {
   "cell_type": "code",
   "execution_count": 4,
   "metadata": {},
   "outputs": [],
   "source": [
    "dnames = [\"input_1\",\"input_2\"]\n",
    "\n",
    "for dn in dnames:\n",
    "    # specify the the directory and the file\n",
    "    newdir = os.path.join(input_path,dn)\n",
    "    newfile = os.path.join(newdir,\"JS_NPlesantCreek.inp\")\n",
    "    # open the new file\n",
    "    new_swmm5 = open(newfile, \"r\")\n",
    "    # save the lines in that file in an object\n",
    "    filelines = new_swmm5.readlines()\n",
    "    # close the file for good measure\n",
    "    new_swmm5.close()\n",
    "\n",
    "    # the first absolute path to correct, listified\n",
    "    path1cols = filelines[50].split()\n",
    "    # remember, there might be a space in the filepath, meaning that the split function could have created two elements, not 1\n",
    "    # so instead, make a new list using the first five, a space holder, and the last two elements of the original list\n",
    "    path1cols = path1cols[:5] + [\"\"] + path1cols[-2:]\n",
    "    # the corrected element of the listified line\n",
    "    path1cols[5] = '\"'+os.path.join(dir_path,\"weather\\swmm_wet.txt\")+'\"'\n",
    "    # insert the correction and unlistify!\n",
    "    filelines[50] = \"\\t\".join(path1cols) + \"\\n\"\n",
    "\n",
    "    # the second absolute path to correct, listified\n",
    "    path2cols = filelines[1384].split()\n",
    "    # remember, there might be a space in the filepath, meaning that the split function could have created two elements, not 1\n",
    "    # so instead, make a new list using the first 2 elements of the original list and a space holder\n",
    "    path2cols = path2cols[:2] + [\"\"]\n",
    "    # the corrected element of the listified line\n",
    "    path2cols[2] = '\"'+os.path.join(main_path,\"app_rates\\\\calpip\\\\app_rate_output_for_swmm_48rain.txt\")+'\"'\n",
    "    # insert the correction and unlistify!\n",
    "    filelines[1384] = \"\\t\".join(path2cols) + \"\\n\"\n",
    "\n",
    "    # the third absolute path to correct, listified\n",
    "    path3cols = filelines[9306].split()\n",
    "    # remember, there might be a space in the filepath, meaning that the split function could have created two elements, not 1\n",
    "    # so instead, make a new list using the first element of the original list and a space holder\n",
    "    path3cols = path3cols[:1] + [\"\"]\n",
    "    # the corrected element of the listified line\n",
    "    path3cols[1] = '\"'+os.path.join(main_path,\"probabilistic_python\\\\input\\\\swmm\\\\nplesant.jpg\")+'\"'\n",
    "    # insert the correction and unlistify!\n",
    "    filelines[9306] = \"\\t\".join(path3cols) + \"\\n\"\n",
    "    \n",
    "    # copy, write out file\n",
    "    new_swmm5 = open(newfile, \"w\")\n",
    "    new_swmm5.writelines(filelines)\n",
    "    new_swmm5.close()"
   ]
  }
 ],
 "metadata": {
  "kernelspec": {
   "display_name": "Python 3",
   "language": "python",
   "name": "python3"
  },
  "language_info": {
   "codemirror_mode": {
    "name": "ipython",
    "version": 3
   },
   "file_extension": ".py",
   "mimetype": "text/x-python",
   "name": "python",
   "nbconvert_exporter": "python",
   "pygments_lexer": "ipython3",
   "version": "3.7.3"
  }
 },
 "nbformat": 4,
 "nbformat_minor": 2
}
