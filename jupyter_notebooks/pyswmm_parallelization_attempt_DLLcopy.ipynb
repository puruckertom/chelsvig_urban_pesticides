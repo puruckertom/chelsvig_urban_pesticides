{
 "cells": [
  {
   "cell_type": "code",
   "execution_count": 2,
   "metadata": {},
   "outputs": [],
   "source": [
    "# setup\n",
    "from pyswmm import Simulation\n",
    "import os\n",
    "import dask\n",
    "import time"
   ]
  },
  {
   "cell_type": "code",
   "execution_count": 3,
   "metadata": {},
   "outputs": [],
   "source": [
    "# nsims\n",
    "nsims = 2"
   ]
  },
  {
   "cell_type": "code",
   "execution_count": 4,
   "metadata": {},
   "outputs": [
    {
     "name": "stdout",
     "output_type": "stream",
     "text": [
      "C:\\Users\\Julia Stelman\\Desktop\\Watershed\\chelsvig_urban_pesticides\\jupyter_notebooks\n",
      "C:\\Users\\Julia Stelman\\Desktop\\Watershed\\chelsvig_urban_pesticides\\probabilistic_python\n",
      "C:\\Users\\Julia Stelman\\Desktop\\Watershed\\chelsvig_urban_pesticides\\probabilistic_python\\input\\swmm\\input_\n"
     ]
    }
   ],
   "source": [
    "# specify location\n",
    "print(os.path.abspath(os.curdir))\n",
    "os.chdir(\"..\")\n",
    "os.chdir(\"probabilistic_python\")\n",
    "dir_path = os.path.abspath(os.curdir)\n",
    "print(dir_path)\n",
    "\n",
    "input_path = dir_path + r'\\input\\swmm\\input_'\n",
    "print(input_path)"
   ]
  },
  {
   "cell_type": "code",
   "execution_count": 5,
   "metadata": {},
   "outputs": [],
   "source": [
    "@dask.delayed\n",
    "def delay_job(i, lib_path=None):\n",
    "    sim_folder = input_path + str(i)\n",
    "    sim_file = os.path.join(sim_folder, r'JS_NPlesantCreek.inp')\n",
    "    print(sim_file)\n",
    "\n",
    "    binary_path = sim_folder + r'\\JS_NPlesantCreek.out'\n",
    "\n",
    "    # delete pre-existing .out in order to run swmm\n",
    "    if os.path.exists(binary_path):\n",
    "        os.remove(binary_path)\n",
    "    else:\n",
    "        print(\"Can not delete the file as it doesn't exist\")\n",
    "\n",
    "    # load the model - no interaction, write out binary file\n",
    "    sim = Simulation(inputfile=sim_file, reportfile=None, outputfile=binary_path, swmm_lib_path=lib_path)\n",
    "    #return(sim)\n",
    "    sim.execute()\n",
    "    return(\"file \" + str(i) + \" simulated!\")"
   ]
  },
  {
   "cell_type": "code",
   "execution_count": 6,
   "metadata": {},
   "outputs": [
    {
     "data": {
      "text/plain": [
       "[Delayed('delay_job-a56007ca-8247-49a0-9b9d-fe0e76f77488')]"
      ]
     },
     "execution_count": 6,
     "metadata": {},
     "output_type": "execute_result"
    }
   ],
   "source": [
    "# can it do 1?\n",
    "delayed_job = [delay_job(1, lib_path = 'C:/ProgramData/Anaconda3/envs/epa/lib/site-packages/pyswmm/lib/windows/swmm5-x64.dll')]\n",
    "delayed_job"
   ]
  },
  {
   "cell_type": "code",
   "execution_count": 7,
   "metadata": {},
   "outputs": [
    {
     "name": "stdout",
     "output_type": "stream",
     "text": [
      "C:\\Users\\Julia Stelman\\Desktop\\Watershed\\chelsvig_urban_pesticides\\probabilistic_python\\input\\swmm\\input_1\\JS_NPlesantCreek.inp\n",
      "\n",
      "... SWMM Version 5.3.0.dev0\n",
      "... Run Complete['file 1 simulated!']\n",
      "Wall time: 55.3 s\n"
     ]
    }
   ],
   "source": [
    "%%time\n",
    "dask.delayed(print)(delayed_job).compute()"
   ]
  },
  {
   "cell_type": "code",
   "execution_count": 8,
   "metadata": {},
   "outputs": [
    {
     "data": {
      "text/plain": [
       "[Delayed('delay_job-98939c36-f21d-4fa5-9f47-acb8719052a6'),\n",
       " Delayed('delay_job-15c655e1-d788-416d-b953-7ee6260fe512')]"
      ]
     },
     "execution_count": 8,
     "metadata": {},
     "output_type": "execute_result"
    }
   ],
   "source": [
    "# can it do multiple?\n",
    "#delayed_jobs = [delay_job(a) for a in range(1,nsims+1)]\n",
    "delayed_jobs = [delay_job(1, lib_path = 'C:/ProgramData/Anaconda3/envs/epa/lib/site-packages/pyswmm/lib/windows/swmm5-x64.dll'),\n",
    "                delay_job(2, lib_path = 'C:/ProgramData/Anaconda3/envs/epa/lib/site-packages/pyswmm/lib/windows/swmm5-x64-copy.dll')]\n",
    "delayed_jobs"
   ]
  },
  {
   "cell_type": "code",
   "execution_count": 9,
   "metadata": {},
   "outputs": [
    {
     "name": "stdout",
     "output_type": "stream",
     "text": [
      "C:\\Users\\Julia Stelman\\Desktop\\Watershed\\chelsvig_urban_pesticides\\probabilistic_python\\input\\swmm\\input_2\\JS_NPlesantCreek.inp\n",
      "C:\\Users\\Julia Stelman\\Desktop\\Watershed\\chelsvig_urban_pesticides\\probabilistic_python\\input\\swmm\\input_1\\JS_NPlesantCreek.inp\n",
      "Can not delete the file as it doesn't exist\n",
      "\n",
      "... SWMM Version 5.3.0.dev0\n",
      "... SWMM Version 5.3.0.dev0\n",
      "... Run Complete\n",
      "... Run Complete['file 1 simulated!', 'file 2 simulated!']\n",
      "Wall time: 2min 23s\n"
     ]
    }
   ],
   "source": [
    "%%time\n",
    "dask.delayed(print)(delayed_jobs).compute()"
   ]
  },
  {
   "cell_type": "markdown",
   "metadata": {},
   "source": [
    "Unfortunately, it looks like, even though python and dask can handle simultaneously running two parallel processes, pyswmm cannot. I don't know if that is a problem that can be fixed with multiple computers, a different package, or at all. "
   ]
  }
 ],
 "metadata": {
  "kernelspec": {
   "display_name": "Python 3",
   "language": "python",
   "name": "python3"
  },
  "language_info": {
   "codemirror_mode": {
    "name": "ipython",
    "version": 3
   },
   "file_extension": ".py",
   "mimetype": "text/x-python",
   "name": "python",
   "nbconvert_exporter": "python",
   "pygments_lexer": "ipython3",
   "version": "3.8.5"
  }
 },
 "nbformat": 4,
 "nbformat_minor": 4
}
