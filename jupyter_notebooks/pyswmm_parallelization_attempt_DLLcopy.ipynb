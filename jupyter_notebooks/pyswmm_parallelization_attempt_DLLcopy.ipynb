{
 "cells": [
  {
   "cell_type": "code",
   "execution_count": 1,
   "metadata": {},
   "outputs": [],
   "source": [
    "# setup\n",
    "from pyswmm import Simulation\n",
    "import os\n",
    "import dask\n",
    "import time\n",
    "from pyswmm.lib import DLL_SELECTION"
   ]
  },
  {
   "cell_type": "code",
   "execution_count": 2,
   "metadata": {},
   "outputs": [
    {
     "name": "stdout",
     "output_type": "stream",
     "text": [
      "Found both copies of the swmm5 dynamic link library file. Carry on.\n"
     ]
    }
   ],
   "source": [
    "# swmm library location variable initiation\n",
    "dll_path = DLL_SELECTION() # get dll path\n",
    "dll_dir = os.path.dirname(dll_path) # get dll directory\n",
    "# check to see if the copy exists already\n",
    "dll_copy_path = dll_path[:-4]+'-copy'+dll_path[-4:] # dll-copy file path\n",
    "\n",
    "if os.path.exists(dll_copy_path):\n",
    "    print(\"Found both copies of the swmm5 dynamic link library file. Carry on.\")\n",
    "else:\n",
    "    print(\"ACTION REQUIRED!\", \n",
    "          \"Navigate to <\" + dll_dir + \">.\", \n",
    "          \"Copy and paste the file <\" + os.path.basename(dll_path) + \"> on location.\",\n",
    "          \"Make sure there are two copies of <\" + os.path.basename(dll_path) + \"> (an original and a copy) in the folder.\",\n",
    "          \"Rename the duplicate file to '\" + os.path.basename(dll_copy_path) + \"'.\",\n",
    "          \"Then come back, restart the jupyter kernel and try again.\", sep=\"\\n\")"
   ]
  },
  {
   "cell_type": "code",
   "execution_count": 3,
   "metadata": {},
   "outputs": [],
   "source": [
    "# TWO known, accessible COPIES of the swmm5 dynamic link library files EXIST, so we can only parallelize PAIRS of simmulations.\n",
    "nsims = 2"
   ]
  },
  {
   "cell_type": "code",
   "execution_count": 4,
   "metadata": {},
   "outputs": [
    {
     "name": "stdout",
     "output_type": "stream",
     "text": [
      "C:\\Users\\Julia Stelman\\Desktop\\Watershed\\chelsvig_urban_pesticides\\probabilistic_python\\input\\swmm\\input_\n"
     ]
    }
   ],
   "source": [
    "# save absolute path of input file location\n",
    "# this string is how we will tell pyswmm where to locate the files it needs to run its simulations\n",
    "input_path = os.path.abspath(\"../probabilistic_python/input/swmm/input_\")\n",
    "print(input_path)"
   ]
  },
  {
   "cell_type": "code",
   "execution_count": 5,
   "metadata": {},
   "outputs": [],
   "source": [
    "'''\n",
    "Makes arrangements for executing the following task:\n",
    "    Run specified probabilistic simulations in SWMM from the specified .inp file. Save output in equivalently named .out file.\n",
    "Inputs:\n",
    "    i <integer> -indicates input folder id number (for now, will only ever be 1 or 2).-\n",
    "    lib_path <string> -indicates the file path of the swmm5 dynamic link library to be used for running this simmulation.-\n",
    "Immediate Output:\n",
    "    <dask.delayed.Delayed> -arrangements for executing the task when commanded at a future time (by the 'compute()' function)\n",
    "Computable Output:\n",
    "    <string> -message indicating that the simulation has been completed on the .inp file in the 'i' input folder.-\n",
    "'''\n",
    "# this decorator is the first step in using dask to parallelize swmm simulations\n",
    "@dask.delayed\n",
    "def delay_job(i, lib_path=None):\n",
    "    # specify the directory with the file pyswmm needs by attaching the folder id to the rest of the folder's absolute path\n",
    "    sim_folder = input_path + str(i)\n",
    "    # specify the actual file pyswmm needs\n",
    "    sim_file = os.path.join(sim_folder, r'JS_NPlesantCreek.inp')\n",
    "    print(\"Simulation input file found:\", sim_file)\n",
    "    # specify the file that pyswmm will (over)write with output after running the probabilistic simulation\n",
    "    binary_file = sim_folder + r'\\JS_NPlesantCreek.out'\n",
    "    # delete pre-existing .out, if present, in order to run swmm agreeably\n",
    "    if os.path.exists(binary_file):\n",
    "        print(\"Deleting current copy of <JS_NPlesantCreek.out> so new copy can be created.\")\n",
    "        os.remove(binary_file)\n",
    "    # load the model {no interaction, write (binary) results to <JS_NPlesantCreek.out>, use the specified dll}\n",
    "    sim = Simulation(inputfile=sim_file, reportfile=None, outputfile=binary_file, swmm_lib_path=lib_path)\n",
    "    # simulate the loaded model\n",
    "    sim.execute()\n",
    "    # a message to indicate success\n",
    "    return(\"file \" + str(i) + \" simulated!\")"
   ]
  },
  {
   "cell_type": "code",
   "execution_count": 6,
   "metadata": {},
   "outputs": [
    {
     "data": {
      "text/plain": [
       "[Delayed('delay_job-90c3d97f-2101-4703-bb85-06a7cb87a68f')]"
      ]
     },
     "execution_count": 6,
     "metadata": {},
     "output_type": "execute_result"
    }
   ],
   "source": [
    "# can it do 1?\n",
    "delayed_job = [delay_job(1, lib_path = dll_path)]\n",
    "delayed_job"
   ]
  },
  {
   "cell_type": "code",
   "execution_count": 7,
   "metadata": {},
   "outputs": [
    {
     "name": "stdout",
     "output_type": "stream",
     "text": [
      "Simulation input file found: C:\\Users\\Julia Stelman\\Desktop\\Watershed\\chelsvig_urban_pesticides\\probabilistic_python\\input\\swmm\\input_1\\JS_NPlesantCreek.inp\n",
      "Deleting current copy of <JS_NPlesantCreek.out> so new copy can be created.\n",
      "\n",
      "... SWMM Version 5.3.0.dev0\n",
      "... Run Complete['file 1 simulated!']\n",
      "Wall time: 2min 26s\n"
     ]
    }
   ],
   "source": [
    "%%time\n",
    "dask.delayed(print)(delayed_job).compute()"
   ]
  },
  {
   "cell_type": "code",
   "execution_count": 9,
   "metadata": {},
   "outputs": [
    {
     "data": {
      "text/plain": [
       "[Delayed('delay_job-ffc7013e-1bc9-450d-8712-b6ab656e752a'),\n",
       " Delayed('delay_job-43670e68-8c97-41cb-9d68-48c17761dbb1')]"
      ]
     },
     "execution_count": 9,
     "metadata": {},
     "output_type": "execute_result"
    }
   ],
   "source": [
    "# can it do multiple?\n",
    "delayed_jobs = [delay_job(1, lib_path = dll_path),\n",
    "                delay_job(2, lib_path = dll_copy_path)]\n",
    "delayed_jobs"
   ]
  },
  {
   "cell_type": "code",
   "execution_count": 10,
   "metadata": {},
   "outputs": [
    {
     "name": "stdout",
     "output_type": "stream",
     "text": [
      "Simulation input file found: C:\\Users\\Julia Stelman\\Desktop\\Watershed\\chelsvig_urban_pesticides\\probabilistic_python\\input\\swmm\\input_2\\JS_NPlesantCreek.inp\n",
      "Simulation input file found:Deleting current copy of <JS_NPlesantCreek.out> so new copy can be created.\n",
      " C:\\Users\\Julia Stelman\\Desktop\\Watershed\\chelsvig_urban_pesticides\\probabilistic_python\\input\\swmm\\input_1\\JS_NPlesantCreek.inp\n",
      "Deleting current copy of <JS_NPlesantCreek.out> so new copy can be created.\n",
      "\n",
      "... SWMM Version 5.3.0.dev0\n",
      "... SWMM Version 5.3.0.dev0\n",
      "... Run Complete\n",
      "... Run Complete['file 1 simulated!', 'file 2 simulated!']\n",
      "Wall time: 6min 47s\n"
     ]
    }
   ],
   "source": [
    "%%time\n",
    "dask.delayed(print)(delayed_jobs).compute()"
   ]
  },
  {
   "cell_type": "markdown",
   "metadata": {},
   "source": [
    "PySWMM can handle simultaneously running two parallel processes, as long as each one uses its own direct link library. "
   ]
  }
 ],
 "metadata": {
  "kernelspec": {
   "display_name": "Python 3",
   "language": "python",
   "name": "python3"
  },
  "language_info": {
   "codemirror_mode": {
    "name": "ipython",
    "version": 3
   },
   "file_extension": ".py",
   "mimetype": "text/x-python",
   "name": "python",
   "nbconvert_exporter": "python",
   "pygments_lexer": "ipython3",
   "version": "3.7.3"
  }
 },
 "nbformat": 4,
 "nbformat_minor": 4
}
